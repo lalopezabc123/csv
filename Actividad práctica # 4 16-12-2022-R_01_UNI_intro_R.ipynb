{
  "nbformat": 4,
  "nbformat_minor": 0,
  "metadata": {
    "colab": {
      "provenance": [],
      "include_colab_link": true
    },
    "kernelspec": {
      "name": "ir",
      "display_name": "R"
    },
    "language_info": {
      "name": "R"
    }
  },
  "cells": [
    {
      "cell_type": "markdown",
      "metadata": {
        "id": "view-in-github",
        "colab_type": "text"
      },
      "source": [
        "<a href=\"https://colab.research.google.com/github/lalopezabc123/csv/blob/main/Actividad%20pr%C3%A1ctica%20%23%204%2016-12-2022-R_01_UNI_intro_R.ipynb\" target=\"_parent\"><img src=\"https://colab.research.google.com/assets/colab-badge.svg\" alt=\"Open In Colab\"/></a>"
      ]
    },
    {
      "cell_type": "markdown",
      "source": [
        "###**1.\tCargar librerias y Archivos:**###"
      ],
      "metadata": {
        "id": "u-FlS68pYUKL"
      }
    },
    {
      "cell_type": "code",
      "source": [
        "library(\"tidyverse\")"
      ],
      "metadata": {
        "id": "08TroeQtkj9I"
      },
      "execution_count": 161,
      "outputs": []
    },
    {
      "cell_type": "code",
      "source": [
        "  library(\"readxl\")\n",
        "  "
      ],
      "metadata": {
        "id": "UibEKscqlSBf"
      },
      "execution_count": 162,
      "outputs": []
    },
    {
      "cell_type": "code",
      "source": [
        "library(\"lubridate\")"
      ],
      "metadata": {
        "id": "OHmgPr__NWO6"
      },
      "execution_count": 163,
      "outputs": []
    },
    {
      "cell_type": "code",
      "source": [
        "wide_monthly_tdiff<- read.csv(\"https://raw.githubusercontent.com/lalopezabc123/csv/main/wide_monthly_tdiff.csv\")"
      ],
      "metadata": {
        "id": "KBN4iJLGNXTB"
      },
      "execution_count": 164,
      "outputs": []
    },
    {
      "cell_type": "code",
      "source": [
        "wide_horses_data  <- read.csv(\"https://raw.githubusercontent.com/lalopezabc123/csv/main/wide-horses.csv\")"
      ],
      "metadata": {
        "colab": {
          "base_uri": "https://localhost:8080/"
        },
        "id": "eGfQXab0OfSX",
        "outputId": "7e808001-d6ab-47eb-bec4-3a158e7fb2ec"
      },
      "execution_count": 165,
      "outputs": [
        {
          "output_type": "stream",
          "name": "stderr",
          "text": [
            "Warning message in read.table(file = file, header = header, sep = sep, quote = quote, :\n",
            "“incomplete final line found by readTableHeader on 'https://raw.githubusercontent.com/lalopezabc123/csv/main/wide-horses.csv'”\n"
          ]
        }
      ]
    },
    {
      "cell_type": "code",
      "source": [
        "print(wide_horses_data)"
      ],
      "metadata": {
        "id": "ZGbrJpYXbY-q",
        "outputId": "4747053f-4b89-4378-b466-4dca69130c88",
        "colab": {
          "base_uri": "https://localhost:8080/"
        }
      },
      "execution_count": 173,
      "outputs": [
        {
          "output_type": "stream",
          "name": "stdout",
          "text": [
            "  Country Horses..per.100.people..in.1819 Horses..per.100.people..in.1820\n",
            "1      UK                              10                              10\n",
            "2      US                               9                              10\n",
            "  Horses..per.100.people..in.1821 Horses..per.100.people..in.1822\n",
            "1                              11                              12\n",
            "2                              11                              11\n"
          ]
        }
      ]
    },
    {
      "cell_type": "code",
      "source": [
        "class(wide_horses_data)"
      ],
      "metadata": {
        "colab": {
          "base_uri": "https://localhost:8080/",
          "height": 34
        },
        "id": "KCs3bzgZPIsM",
        "outputId": "3c4c28ce-0d24-4cf7-e227-54e6b9168f7a"
      },
      "execution_count": 166,
      "outputs": [
        {
          "output_type": "display_data",
          "data": {
            "text/html": [
              "'data.frame'"
            ],
            "text/markdown": "'data.frame'",
            "text/latex": "'data.frame'",
            "text/plain": [
              "[1] \"data.frame\""
            ]
          },
          "metadata": {}
        }
      ]
    },
    {
      "cell_type": "code",
      "source": [
        "class(wide_monthly_tdiff)"
      ],
      "metadata": {
        "colab": {
          "base_uri": "https://localhost:8080/",
          "height": 34
        },
        "id": "fVsVHLuyPNWU",
        "outputId": "e4795010-439c-4061-c71a-52c90651d750"
      },
      "execution_count": 167,
      "outputs": [
        {
          "output_type": "display_data",
          "data": {
            "text/html": [
              "'data.frame'"
            ],
            "text/markdown": "'data.frame'",
            "text/latex": "'data.frame'",
            "text/plain": [
              "[1] \"data.frame\""
            ]
          },
          "metadata": {}
        }
      ]
    },
    {
      "cell_type": "code",
      "source": [
        "print(wide_monthly_tdiff)"
      ],
      "metadata": {
        "colab": {
          "base_uri": "https://localhost:8080/"
        },
        "id": "inQi8Y1tPSCf",
        "outputId": "35c27548-40ca-4336-e3ba-09b187643763"
      },
      "execution_count": 168,
      "outputs": [
        {
          "output_type": "stream",
          "name": "stdout",
          "text": [
            "   month bradford.tdiff heathrow.tdiff oxford.tdiff stornoway.tdiff\n",
            "1      1       4.972897       5.740000     5.281212        4.921986\n",
            "2      2       5.167593       6.232857     5.894545        5.243357\n",
            "3      3       6.237037       7.657143     7.555152        5.700699\n",
            "4      4       7.325234       8.746377     8.820122        6.239437\n",
            "5      5       8.272115       9.221739     9.526220        6.420979\n",
            "6      6       8.223810       9.518841     9.618902        6.136364\n",
            "7      7       7.748148       9.488406     9.549390        5.768056\n",
            "8      8       7.550962       9.237681     9.243902        5.819444\n",
            "9      9       7.018868       8.568116     8.629268        5.770833\n",
            "10    10       6.146296       7.340580     7.257927        5.595139\n",
            "11    11       5.197248       6.265217     5.957317        5.250000\n",
            "12    12       4.911009       5.711594     5.287730        5.003472\n"
          ]
        }
      ]
    },
    {
      "cell_type": "markdown",
      "source": [
        "###***Función Gather***###"
      ],
      "metadata": {
        "id": "3Ul0sOZuTVzX"
      }
    },
    {
      "cell_type": "code",
      "source": [
        "wide_monthly_tdiff <- wide_monthly_tdiff %>%\n",
        "  gather(location,tidiff,2:5)\n",
        "  str(wide_monthly_tdiff)"
      ],
      "metadata": {
        "colab": {
          "base_uri": "https://localhost:8080/"
        },
        "id": "LRNyrkCuTunI",
        "outputId": "ff307c1e-6679-4431-a326-89f0dcf0cbbe"
      },
      "execution_count": 169,
      "outputs": [
        {
          "output_type": "stream",
          "name": "stdout",
          "text": [
            "'data.frame':\t48 obs. of  3 variables:\n",
            " $ month   : int  1 2 3 4 5 6 7 8 9 10 ...\n",
            " $ location: chr  \"bradford.tdiff\" \"bradford.tdiff\" \"bradford.tdiff\" \"bradford.tdiff\" ...\n",
            " $ tidiff  : num  4.97 5.17 6.24 7.33 8.27 ...\n"
          ]
        }
      ]
    },
    {
      "cell_type": "code",
      "source": [
        "print(wide_monthly_tdiff)"
      ],
      "metadata": {
        "colab": {
          "base_uri": "https://localhost:8080/"
        },
        "id": "f6h5AXLrahhb",
        "outputId": "af43ccc1-5624-4b24-f9c9-2cb5f170cfe8"
      },
      "execution_count": 172,
      "outputs": [
        {
          "output_type": "stream",
          "name": "stdout",
          "text": [
            "   month        location   tidiff\n",
            "1      1  bradford.tdiff 4.972897\n",
            "2      2  bradford.tdiff 5.167593\n",
            "3      3  bradford.tdiff 6.237037\n",
            "4      4  bradford.tdiff 7.325234\n",
            "5      5  bradford.tdiff 8.272115\n",
            "6      6  bradford.tdiff 8.223810\n",
            "7      7  bradford.tdiff 7.748148\n",
            "8      8  bradford.tdiff 7.550962\n",
            "9      9  bradford.tdiff 7.018868\n",
            "10    10  bradford.tdiff 6.146296\n",
            "11    11  bradford.tdiff 5.197248\n",
            "12    12  bradford.tdiff 4.911009\n",
            "13     1  heathrow.tdiff 5.740000\n",
            "14     2  heathrow.tdiff 6.232857\n",
            "15     3  heathrow.tdiff 7.657143\n",
            "16     4  heathrow.tdiff 8.746377\n",
            "17     5  heathrow.tdiff 9.221739\n",
            "18     6  heathrow.tdiff 9.518841\n",
            "19     7  heathrow.tdiff 9.488406\n",
            "20     8  heathrow.tdiff 9.237681\n",
            "21     9  heathrow.tdiff 8.568116\n",
            "22    10  heathrow.tdiff 7.340580\n",
            "23    11  heathrow.tdiff 6.265217\n",
            "24    12  heathrow.tdiff 5.711594\n",
            "25     1    oxford.tdiff 5.281212\n",
            "26     2    oxford.tdiff 5.894545\n",
            "27     3    oxford.tdiff 7.555152\n",
            "28     4    oxford.tdiff 8.820122\n",
            "29     5    oxford.tdiff 9.526220\n",
            "30     6    oxford.tdiff 9.618902\n",
            "31     7    oxford.tdiff 9.549390\n",
            "32     8    oxford.tdiff 9.243902\n",
            "33     9    oxford.tdiff 8.629268\n",
            "34    10    oxford.tdiff 7.257927\n",
            "35    11    oxford.tdiff 5.957317\n",
            "36    12    oxford.tdiff 5.287730\n",
            "37     1 stornoway.tdiff 4.921986\n",
            "38     2 stornoway.tdiff 5.243357\n",
            "39     3 stornoway.tdiff 5.700699\n",
            "40     4 stornoway.tdiff 6.239437\n",
            "41     5 stornoway.tdiff 6.420979\n",
            "42     6 stornoway.tdiff 6.136364\n",
            "43     7 stornoway.tdiff 5.768056\n",
            "44     8 stornoway.tdiff 5.819444\n",
            "45     9 stornoway.tdiff 5.770833\n",
            "46    10 stornoway.tdiff 5.595139\n",
            "47    11 stornoway.tdiff 5.250000\n",
            "48    12 stornoway.tdiff 5.003472\n"
          ]
        }
      ]
    },
    {
      "cell_type": "markdown",
      "source": [
        "###**2.\tTransformar set de datos de ancho a largo (método 2)**###"
      ],
      "metadata": {
        "id": "29lSyqQiYTHq"
      }
    },
    {
      "cell_type": "code",
      "source": [
        "wide_monthly_tdiff %>%\n",
        "  gather(location, tdiff,\n",
        "         bradford.tdiff:stornoway.tdiff)\n"
      ],
      "metadata": {
        "colab": {
          "base_uri": "https://localhost:8080/",
          "height": 1000
        },
        "id": "SDmtF-A4YqwW",
        "outputId": "81f7de3e-cf18-4c75-f9dd-dde45b424718"
      },
      "execution_count": 170,
      "outputs": [
        {
          "output_type": "error",
          "ename": "ERROR",
          "evalue": "ignored",
          "traceback": [
            "\u001b[1m\u001b[33mError\u001b[39m in `gather()`:\u001b[22m\n\u001b[33m!\u001b[39m Can't subset columns that don't exist.\n\u001b[31m✖\u001b[39m Column `bradford.tdiff` doesn't exist.\nTraceback:\n",
            "1. wide_monthly_tdiff %>% gather(location, tdiff, bradford.tdiff:stornoway.tdiff)",
            "2. gather(., location, tdiff, bradford.tdiff:stornoway.tdiff)",
            "3. gather.data.frame(., location, tdiff, bradford.tdiff:stornoway.tdiff)",
            "4. unname(tidyselect::vars_select(tbl_vars(data), !!!quos))",
            "5. tidyselect::vars_select(tbl_vars(data), !!!quos)",
            "6. eval_select_impl(NULL, .vars, expr(c(!!!dots)), include = .include, \n .     exclude = .exclude, strict = .strict, name_spec = unique_name_spec, \n .     uniquely_named = TRUE, error_call = caller_env())",
            "7. with_subscript_errors(out <- vars_select_eval(vars, expr, strict = strict, \n .     data = x, name_spec = name_spec, uniquely_named = uniquely_named, \n .     allow_rename = allow_rename, allow_empty = allow_empty, allow_predicates = allow_predicates, \n .     type = type, error_call = error_call), type = type)",
            "8. try_fetch(expr, vctrs_error_subscript = function(cnd) {\n .     cnd$subscript_action <- subscript_action(type)\n .     cnd$subscript_elt <- \"column\"\n .     cnd_signal(cnd)\n . })",
            "9. withCallingHandlers(expr, vctrs_error_subscript = function(cnd) {\n .     {\n .         .__handler_frame__. <- TRUE\n .         .__setup_frame__. <- frame\n .     }\n .     out <- handlers[[1L]](cnd)\n .     if (!inherits(out, \"rlang_zap\")) \n .         throw(out)\n . })",
            "10. vars_select_eval(vars, expr, strict = strict, data = x, name_spec = name_spec, \n  .     uniquely_named = uniquely_named, allow_rename = allow_rename, \n  .     allow_empty = allow_empty, allow_predicates = allow_predicates, \n  .     type = type, error_call = error_call)",
            "11. walk_data_tree(expr, data_mask, context_mask)",
            "12. eval_c(expr, data_mask, context_mask)",
            "13. reduce_sels(node, data_mask, context_mask, init = init)",
            "14. walk_data_tree(new, data_mask, context_mask)",
            "15. eval_colon(expr, data_mask, context_mask)",
            "16. walk_data_tree(expr[[2]], data_mask, context_mask, colon = TRUE)",
            "17. as_indices_sel_impl(out, vars = vars, strict = strict, data = data, \n  .     allow_predicates = allow_predicates, call = error_call, arg = as_label(expr))",
            "18. as_indices_impl(x, vars, call = call, arg = arg, strict = strict)",
            "19. chr_as_locations(x, vars, call = call, arg = arg)",
            "20. vctrs::vec_as_location(x, n = length(vars), names = vars, call = call, \n  .     arg = arg)",
            "21. (function () \n  . stop_subscript_oob(i = i, subscript_type = subscript_type, names = names, \n  .     subscript_action = subscript_action, subscript_arg = subscript_arg, \n  .     call = call))()",
            "22. stop_subscript_oob(i = i, subscript_type = subscript_type, names = names, \n  .     subscript_action = subscript_action, subscript_arg = subscript_arg, \n  .     call = call)",
            "23. stop_subscript(class = \"vctrs_error_subscript_oob\", i = i, subscript_type = subscript_type, \n  .     ..., call = call)",
            "24. abort(class = c(class, \"vctrs_error_subscript\"), i = i, ..., \n  .     call = vctrs_error_call(call))",
            "25. signal_abort(cnd, .file)",
            "26. signalCondition(cnd)",
            "27. (function (cnd) \n  . {\n  .     {\n  .         .__handler_frame__. <- TRUE\n  .         .__setup_frame__. <- frame\n  .     }\n  .     out <- handlers[[1L]](cnd)\n  .     if (!inherits(out, \"rlang_zap\")) \n  .         throw(out)\n  . })(structure(list(message = \"\", trace = structure(list(call = list(\n  .     IRkernel::main(), kernel$run(), handle_shell(), executor$execute(msg), \n  .     tryCatch(evaluate(request$content$code, envir = .GlobalEnv, \n  .         output_handler = oh, stop_on_error = 1L), interrupt = function(cond) {\n  .         log_debug(\"Interrupt during execution\")\n  .         interrupted <<- TRUE\n  .     }, error = .self$handle_error), tryCatchList(expr, classes, \n  .         parentenv, handlers), tryCatchOne(tryCatchList(expr, \n  .         names[-nh], parentenv, handlers[-nh]), names[nh], parentenv, \n  .         handlers[[nh]]), doTryCatch(return(expr), name, parentenv, \n  .         handler), tryCatchList(expr, names[-nh], parentenv, handlers[-nh]), \n  .     tryCatchOne(expr, names, parentenv, handlers[[1L]]), doTryCatch(return(expr), \n  .         name, parentenv, handler), evaluate(request$content$code, \n  .         envir = .GlobalEnv, output_handler = oh, stop_on_error = 1L), \n  .     evaluate_call(expr, parsed$src[[i]], envir = envir, enclos = enclos, \n  .         debug = debug, last = i == length(out), use_try = stop_on_error != \n  .             2L, keep_warning = keep_warning, keep_message = keep_message, \n  .         output_handler = output_handler, include_timing = include_timing), \n  .     timing_fn(handle(ev <- withCallingHandlers(withVisible(eval_with_user_handlers(expr, \n  .         envir, enclos, user_handlers)), warning = wHandler, error = eHandler, \n  .         message = mHandler))), handle(ev <- withCallingHandlers(withVisible(eval_with_user_handlers(expr, \n  .         envir, enclos, user_handlers)), warning = wHandler, error = eHandler, \n  .         message = mHandler)), try(f, silent = TRUE), tryCatch(expr, \n  .         error = function(e) {\n  .             call <- conditionCall(e)\n  .             if (!is.null(call)) {\n  .                 if (identical(call[[1L]], quote(doTryCatch))) \n  .                   call <- sys.call(-4L)\n  .                 dcall <- deparse(call, nlines = 1L)\n  .                 prefix <- paste(\"Error in\", dcall, \": \")\n  .                 LONG <- 75L\n  .                 sm <- strsplit(conditionMessage(e), \"\\n\")[[1L]]\n  .                 w <- 14L + nchar(dcall, type = \"w\") + nchar(sm[1L], \n  .                   type = \"w\")\n  .                 if (is.na(w)) \n  .                   w <- 14L + nchar(dcall, type = \"b\") + nchar(sm[1L], \n  .                     type = \"b\")\n  .                 if (w > LONG) \n  .                   prefix <- paste0(prefix, \"\\n  \")\n  .             }\n  .             else prefix <- \"Error : \"\n  .             msg <- paste0(prefix, conditionMessage(e), \"\\n\")\n  .             .Internal(seterrmessage(msg[1L]))\n  .             if (!silent && isTRUE(getOption(\"show.error.messages\"))) {\n  .                 cat(msg, file = outFile)\n  .                 .Internal(printDeferredWarnings())\n  .             }\n  .             invisible(structure(msg, class = \"try-error\", condition = e))\n  .         }), tryCatchList(expr, classes, parentenv, handlers), \n  .     tryCatchOne(expr, names, parentenv, handlers[[1L]]), doTryCatch(return(expr), \n  .         name, parentenv, handler), withCallingHandlers(withVisible(eval_with_user_handlers(expr, \n  .         envir, enclos, user_handlers)), warning = wHandler, error = eHandler, \n  .         message = mHandler), withVisible(eval_with_user_handlers(expr, \n  .         envir, enclos, user_handlers)), eval_with_user_handlers(expr, \n  .         envir, enclos, user_handlers), eval(expr, envir, enclos), \n  .     eval(expr, envir, enclos), wide_monthly_tdiff %>% gather(location, \n  .         tdiff, bradford.tdiff:stornoway.tdiff), gather(., location, \n  .         tdiff, bradford.tdiff:stornoway.tdiff), gather.data.frame(., \n  .         location, tdiff, bradford.tdiff:stornoway.tdiff), unname(tidyselect::vars_select(tbl_vars(data), \n  .         !!!quos)), tidyselect::vars_select(tbl_vars(data), !!!quos), \n  .     eval_select_impl(NULL, .vars, expr(c(!!!dots)), include = .include, \n  .         exclude = .exclude, strict = .strict, name_spec = unique_name_spec, \n  .         uniquely_named = TRUE, error_call = caller_env()), with_subscript_errors(out <- vars_select_eval(vars, \n  .         expr, strict = strict, data = x, name_spec = name_spec, \n  .         uniquely_named = uniquely_named, allow_rename = allow_rename, \n  .         allow_empty = allow_empty, allow_predicates = allow_predicates, \n  .         type = type, error_call = error_call), type = type), \n  .     try_fetch(expr, vctrs_error_subscript = function(cnd) {\n  .         cnd$subscript_action <- subscript_action(type)\n  .         cnd$subscript_elt <- \"column\"\n  .         cnd_signal(cnd)\n  .     }), withCallingHandlers(expr, vctrs_error_subscript = function(cnd) {\n  .         {\n  .             .__handler_frame__. <- TRUE\n  .             .__setup_frame__. <- frame\n  .         }\n  .         out <- handlers[[1L]](cnd)\n  .         if (!inherits(out, \"rlang_zap\")) \n  .             throw(out)\n  .     }), vars_select_eval(vars, expr, strict = strict, data = x, \n  .         name_spec = name_spec, uniquely_named = uniquely_named, \n  .         allow_rename = allow_rename, allow_empty = allow_empty, \n  .         allow_predicates = allow_predicates, type = type, error_call = error_call), \n  .     walk_data_tree(expr, data_mask, context_mask), eval_c(expr, \n  .         data_mask, context_mask), reduce_sels(node, data_mask, \n  .         context_mask, init = init), walk_data_tree(new, data_mask, \n  .         context_mask), eval_colon(expr, data_mask, context_mask), \n  .     walk_data_tree(expr[[2]], data_mask, context_mask, colon = TRUE), \n  .     as_indices_sel_impl(out, vars = vars, strict = strict, data = data, \n  .         allow_predicates = allow_predicates, call = error_call, \n  .         arg = as_label(expr)), as_indices_impl(x, vars, call = call, \n  .         arg = arg, strict = strict), chr_as_locations(x, vars, \n  .         call = call, arg = arg), vctrs::vec_as_location(x, n = length(vars), \n  .         names = vars, call = call, arg = arg), `<fn>`(), stop_subscript_oob(i = i, \n  .         subscript_type = subscript_type, names = names, subscript_action = subscript_action, \n  .         subscript_arg = subscript_arg, call = call), stop_subscript(class = \"vctrs_error_subscript_oob\", \n  .         i = i, subscript_type = subscript_type, ..., call = call), \n  .     abort(class = c(class, \"vctrs_error_subscript\"), i = i, ..., \n  .         call = vctrs_error_call(call))), parent = c(0L, 1L, 2L, \n  . 3L, 4L, 5L, 6L, 7L, 6L, 9L, 10L, 4L, 12L, 13L, 13L, 15L, 16L, \n  . 17L, 18L, 19L, 13L, 13L, 13L, 23L, 24L, 0L, 0L, 0L, 28L, 28L, \n  . 30L, 31L, 32L, 33L, 31L, 35L, 36L, 37L, 38L, 39L, 40L, 41L, 42L, \n  . 43L, 44L, 0L, 46L, 47L, 48L), visible = c(TRUE, TRUE, TRUE, TRUE, \n  . TRUE, TRUE, TRUE, TRUE, TRUE, TRUE, TRUE, TRUE, TRUE, TRUE, TRUE, \n  . TRUE, TRUE, TRUE, TRUE, TRUE, TRUE, TRUE, TRUE, TRUE, TRUE, TRUE, \n  . TRUE, TRUE, FALSE, FALSE, FALSE, FALSE, FALSE, FALSE, FALSE, \n  . FALSE, FALSE, FALSE, FALSE, FALSE, FALSE, FALSE, FALSE, FALSE, \n  . FALSE, FALSE, FALSE, FALSE, FALSE), namespace = c(\"IRkernel\", \n  . NA, \"IRkernel\", NA, \"base\", \"base\", \"base\", \"base\", \"base\", \"base\", \n  . \"base\", \"evaluate\", \"evaluate\", \"evaluate\", \"evaluate\", \"base\", \n  . \"base\", \"base\", \"base\", \"base\", \"base\", \"base\", \"evaluate\", \"base\", \n  . \"base\", NA, \"tidyr\", \"tidyr\", \"base\", \"tidyselect\", \"tidyselect\", \n  . \"tidyselect\", \"rlang\", \"base\", \"tidyselect\", \"tidyselect\", \"tidyselect\", \n  . \"tidyselect\", \"tidyselect\", \"tidyselect\", \"tidyselect\", \"tidyselect\", \n  . \"tidyselect\", \"tidyselect\", \"vctrs\", \"vctrs\", \"vctrs\", \"vctrs\", \n  . \"rlang\"), scope = c(\"::\", NA, \"local\", NA, \"::\", \"local\", \"local\", \n  . \"local\", \"local\", \"local\", \"local\", \"::\", \":::\", \"local\", \"local\", \n  . \"::\", \"::\", \"local\", \"local\", \"local\", \"::\", \"::\", \":::\", \"::\", \n  . \"::\", NA, \"::\", \":::\", \"::\", \"::\", \":::\", \":::\", \"::\", \"::\", \n  . \":::\", \":::\", \":::\", \":::\", \":::\", \":::\", \":::\", \":::\", \":::\", \n  . \":::\", \"::\", \"local\", \":::\", \":::\", \"::\"), error_frame = c(FALSE, \n  . FALSE, FALSE, FALSE, FALSE, FALSE, FALSE, FALSE, FALSE, FALSE, \n  . FALSE, FALSE, FALSE, FALSE, FALSE, FALSE, FALSE, FALSE, FALSE, \n  . FALSE, FALSE, FALSE, FALSE, FALSE, FALSE, FALSE, FALSE, TRUE, \n  . FALSE, FALSE, FALSE, FALSE, FALSE, FALSE, FALSE, FALSE, FALSE, \n  . FALSE, FALSE, FALSE, FALSE, FALSE, FALSE, FALSE, FALSE, FALSE, \n  . FALSE, FALSE, FALSE)), row.names = c(NA, -49L), version = 2L, class = c(\"rlang_trace\", \n  . \"rlib_trace\", \"tbl\", \"data.frame\")), parent = NULL, i = \"bradford.tdiff\", \n  .     subscript_type = \"character\", names = structure(c(\"month\", \n  .     \"location\", \"tidiff\"), groups = character(0), class = c(\"dplyr_sel_vars\", \n  .     \"character\")), subscript_action = NULL, subscript_arg = \"bradford.tdiff\", \n  .     call = gather(., location, tdiff, bradford.tdiff:stornoway.tdiff)), class = c(\"vctrs_error_subscript_oob\", \n  . \"vctrs_error_subscript\", \"rlang_error\", \"error\", \"condition\")))",
            "28. handlers[[1L]](cnd)",
            "29. cnd_signal(cnd)",
            "30. signal_abort(cnd)"
          ]
        }
      ]
    },
    {
      "cell_type": "markdown",
      "source": [
        "###**3.\tTransformar set de datos de ancho a largo (método 3)**###"
      ],
      "metadata": {
        "id": "HFPgpGkMZ8SC"
      }
    },
    {
      "cell_type": "code",
      "source": [
        "wide_monthly_tdiff %>%\n",
        "  gather(location, tdiff,\n",
        "contains(\"tdiff\"))"
      ],
      "metadata": {
        "colab": {
          "base_uri": "https://localhost:8080/",
          "height": 1000
        },
        "id": "g2St5dCraNny",
        "outputId": "fc0d27ab-1727-4624-a0cc-23e8d7e3bd17"
      },
      "execution_count": 171,
      "outputs": [
        {
          "output_type": "display_data",
          "data": {
            "text/html": [
              "<table class=\"dataframe\">\n",
              "<caption>A data.frame: 48 × 3</caption>\n",
              "<thead>\n",
              "\t<tr><th scope=col>month</th><th scope=col>location</th><th scope=col>tidiff</th></tr>\n",
              "\t<tr><th scope=col>&lt;int&gt;</th><th scope=col>&lt;chr&gt;</th><th scope=col>&lt;dbl&gt;</th></tr>\n",
              "</thead>\n",
              "<tbody>\n",
              "\t<tr><td> 1</td><td>bradford.tdiff </td><td>4.972897</td></tr>\n",
              "\t<tr><td> 2</td><td>bradford.tdiff </td><td>5.167593</td></tr>\n",
              "\t<tr><td> 3</td><td>bradford.tdiff </td><td>6.237037</td></tr>\n",
              "\t<tr><td> 4</td><td>bradford.tdiff </td><td>7.325234</td></tr>\n",
              "\t<tr><td> 5</td><td>bradford.tdiff </td><td>8.272115</td></tr>\n",
              "\t<tr><td> 6</td><td>bradford.tdiff </td><td>8.223810</td></tr>\n",
              "\t<tr><td> 7</td><td>bradford.tdiff </td><td>7.748148</td></tr>\n",
              "\t<tr><td> 8</td><td>bradford.tdiff </td><td>7.550962</td></tr>\n",
              "\t<tr><td> 9</td><td>bradford.tdiff </td><td>7.018868</td></tr>\n",
              "\t<tr><td>10</td><td>bradford.tdiff </td><td>6.146296</td></tr>\n",
              "\t<tr><td>11</td><td>bradford.tdiff </td><td>5.197248</td></tr>\n",
              "\t<tr><td>12</td><td>bradford.tdiff </td><td>4.911009</td></tr>\n",
              "\t<tr><td> 1</td><td>heathrow.tdiff </td><td>5.740000</td></tr>\n",
              "\t<tr><td> 2</td><td>heathrow.tdiff </td><td>6.232857</td></tr>\n",
              "\t<tr><td> 3</td><td>heathrow.tdiff </td><td>7.657143</td></tr>\n",
              "\t<tr><td> 4</td><td>heathrow.tdiff </td><td>8.746377</td></tr>\n",
              "\t<tr><td> 5</td><td>heathrow.tdiff </td><td>9.221739</td></tr>\n",
              "\t<tr><td> 6</td><td>heathrow.tdiff </td><td>9.518841</td></tr>\n",
              "\t<tr><td> 7</td><td>heathrow.tdiff </td><td>9.488406</td></tr>\n",
              "\t<tr><td> 8</td><td>heathrow.tdiff </td><td>9.237681</td></tr>\n",
              "\t<tr><td> 9</td><td>heathrow.tdiff </td><td>8.568116</td></tr>\n",
              "\t<tr><td>10</td><td>heathrow.tdiff </td><td>7.340580</td></tr>\n",
              "\t<tr><td>11</td><td>heathrow.tdiff </td><td>6.265217</td></tr>\n",
              "\t<tr><td>12</td><td>heathrow.tdiff </td><td>5.711594</td></tr>\n",
              "\t<tr><td> 1</td><td>oxford.tdiff   </td><td>5.281212</td></tr>\n",
              "\t<tr><td> 2</td><td>oxford.tdiff   </td><td>5.894545</td></tr>\n",
              "\t<tr><td> 3</td><td>oxford.tdiff   </td><td>7.555152</td></tr>\n",
              "\t<tr><td> 4</td><td>oxford.tdiff   </td><td>8.820122</td></tr>\n",
              "\t<tr><td> 5</td><td>oxford.tdiff   </td><td>9.526220</td></tr>\n",
              "\t<tr><td> 6</td><td>oxford.tdiff   </td><td>9.618902</td></tr>\n",
              "\t<tr><td> 7</td><td>oxford.tdiff   </td><td>9.549390</td></tr>\n",
              "\t<tr><td> 8</td><td>oxford.tdiff   </td><td>9.243902</td></tr>\n",
              "\t<tr><td> 9</td><td>oxford.tdiff   </td><td>8.629268</td></tr>\n",
              "\t<tr><td>10</td><td>oxford.tdiff   </td><td>7.257927</td></tr>\n",
              "\t<tr><td>11</td><td>oxford.tdiff   </td><td>5.957317</td></tr>\n",
              "\t<tr><td>12</td><td>oxford.tdiff   </td><td>5.287730</td></tr>\n",
              "\t<tr><td> 1</td><td>stornoway.tdiff</td><td>4.921986</td></tr>\n",
              "\t<tr><td> 2</td><td>stornoway.tdiff</td><td>5.243357</td></tr>\n",
              "\t<tr><td> 3</td><td>stornoway.tdiff</td><td>5.700699</td></tr>\n",
              "\t<tr><td> 4</td><td>stornoway.tdiff</td><td>6.239437</td></tr>\n",
              "\t<tr><td> 5</td><td>stornoway.tdiff</td><td>6.420979</td></tr>\n",
              "\t<tr><td> 6</td><td>stornoway.tdiff</td><td>6.136364</td></tr>\n",
              "\t<tr><td> 7</td><td>stornoway.tdiff</td><td>5.768056</td></tr>\n",
              "\t<tr><td> 8</td><td>stornoway.tdiff</td><td>5.819444</td></tr>\n",
              "\t<tr><td> 9</td><td>stornoway.tdiff</td><td>5.770833</td></tr>\n",
              "\t<tr><td>10</td><td>stornoway.tdiff</td><td>5.595139</td></tr>\n",
              "\t<tr><td>11</td><td>stornoway.tdiff</td><td>5.250000</td></tr>\n",
              "\t<tr><td>12</td><td>stornoway.tdiff</td><td>5.003472</td></tr>\n",
              "</tbody>\n",
              "</table>\n"
            ],
            "text/markdown": "\nA data.frame: 48 × 3\n\n| month &lt;int&gt; | location &lt;chr&gt; | tidiff &lt;dbl&gt; |\n|---|---|---|\n|  1 | bradford.tdiff  | 4.972897 |\n|  2 | bradford.tdiff  | 5.167593 |\n|  3 | bradford.tdiff  | 6.237037 |\n|  4 | bradford.tdiff  | 7.325234 |\n|  5 | bradford.tdiff  | 8.272115 |\n|  6 | bradford.tdiff  | 8.223810 |\n|  7 | bradford.tdiff  | 7.748148 |\n|  8 | bradford.tdiff  | 7.550962 |\n|  9 | bradford.tdiff  | 7.018868 |\n| 10 | bradford.tdiff  | 6.146296 |\n| 11 | bradford.tdiff  | 5.197248 |\n| 12 | bradford.tdiff  | 4.911009 |\n|  1 | heathrow.tdiff  | 5.740000 |\n|  2 | heathrow.tdiff  | 6.232857 |\n|  3 | heathrow.tdiff  | 7.657143 |\n|  4 | heathrow.tdiff  | 8.746377 |\n|  5 | heathrow.tdiff  | 9.221739 |\n|  6 | heathrow.tdiff  | 9.518841 |\n|  7 | heathrow.tdiff  | 9.488406 |\n|  8 | heathrow.tdiff  | 9.237681 |\n|  9 | heathrow.tdiff  | 8.568116 |\n| 10 | heathrow.tdiff  | 7.340580 |\n| 11 | heathrow.tdiff  | 6.265217 |\n| 12 | heathrow.tdiff  | 5.711594 |\n|  1 | oxford.tdiff    | 5.281212 |\n|  2 | oxford.tdiff    | 5.894545 |\n|  3 | oxford.tdiff    | 7.555152 |\n|  4 | oxford.tdiff    | 8.820122 |\n|  5 | oxford.tdiff    | 9.526220 |\n|  6 | oxford.tdiff    | 9.618902 |\n|  7 | oxford.tdiff    | 9.549390 |\n|  8 | oxford.tdiff    | 9.243902 |\n|  9 | oxford.tdiff    | 8.629268 |\n| 10 | oxford.tdiff    | 7.257927 |\n| 11 | oxford.tdiff    | 5.957317 |\n| 12 | oxford.tdiff    | 5.287730 |\n|  1 | stornoway.tdiff | 4.921986 |\n|  2 | stornoway.tdiff | 5.243357 |\n|  3 | stornoway.tdiff | 5.700699 |\n|  4 | stornoway.tdiff | 6.239437 |\n|  5 | stornoway.tdiff | 6.420979 |\n|  6 | stornoway.tdiff | 6.136364 |\n|  7 | stornoway.tdiff | 5.768056 |\n|  8 | stornoway.tdiff | 5.819444 |\n|  9 | stornoway.tdiff | 5.770833 |\n| 10 | stornoway.tdiff | 5.595139 |\n| 11 | stornoway.tdiff | 5.250000 |\n| 12 | stornoway.tdiff | 5.003472 |\n\n",
            "text/latex": "A data.frame: 48 × 3\n\\begin{tabular}{lll}\n month & location & tidiff\\\\\n <int> & <chr> & <dbl>\\\\\n\\hline\n\t  1 & bradford.tdiff  & 4.972897\\\\\n\t  2 & bradford.tdiff  & 5.167593\\\\\n\t  3 & bradford.tdiff  & 6.237037\\\\\n\t  4 & bradford.tdiff  & 7.325234\\\\\n\t  5 & bradford.tdiff  & 8.272115\\\\\n\t  6 & bradford.tdiff  & 8.223810\\\\\n\t  7 & bradford.tdiff  & 7.748148\\\\\n\t  8 & bradford.tdiff  & 7.550962\\\\\n\t  9 & bradford.tdiff  & 7.018868\\\\\n\t 10 & bradford.tdiff  & 6.146296\\\\\n\t 11 & bradford.tdiff  & 5.197248\\\\\n\t 12 & bradford.tdiff  & 4.911009\\\\\n\t  1 & heathrow.tdiff  & 5.740000\\\\\n\t  2 & heathrow.tdiff  & 6.232857\\\\\n\t  3 & heathrow.tdiff  & 7.657143\\\\\n\t  4 & heathrow.tdiff  & 8.746377\\\\\n\t  5 & heathrow.tdiff  & 9.221739\\\\\n\t  6 & heathrow.tdiff  & 9.518841\\\\\n\t  7 & heathrow.tdiff  & 9.488406\\\\\n\t  8 & heathrow.tdiff  & 9.237681\\\\\n\t  9 & heathrow.tdiff  & 8.568116\\\\\n\t 10 & heathrow.tdiff  & 7.340580\\\\\n\t 11 & heathrow.tdiff  & 6.265217\\\\\n\t 12 & heathrow.tdiff  & 5.711594\\\\\n\t  1 & oxford.tdiff    & 5.281212\\\\\n\t  2 & oxford.tdiff    & 5.894545\\\\\n\t  3 & oxford.tdiff    & 7.555152\\\\\n\t  4 & oxford.tdiff    & 8.820122\\\\\n\t  5 & oxford.tdiff    & 9.526220\\\\\n\t  6 & oxford.tdiff    & 9.618902\\\\\n\t  7 & oxford.tdiff    & 9.549390\\\\\n\t  8 & oxford.tdiff    & 9.243902\\\\\n\t  9 & oxford.tdiff    & 8.629268\\\\\n\t 10 & oxford.tdiff    & 7.257927\\\\\n\t 11 & oxford.tdiff    & 5.957317\\\\\n\t 12 & oxford.tdiff    & 5.287730\\\\\n\t  1 & stornoway.tdiff & 4.921986\\\\\n\t  2 & stornoway.tdiff & 5.243357\\\\\n\t  3 & stornoway.tdiff & 5.700699\\\\\n\t  4 & stornoway.tdiff & 6.239437\\\\\n\t  5 & stornoway.tdiff & 6.420979\\\\\n\t  6 & stornoway.tdiff & 6.136364\\\\\n\t  7 & stornoway.tdiff & 5.768056\\\\\n\t  8 & stornoway.tdiff & 5.819444\\\\\n\t  9 & stornoway.tdiff & 5.770833\\\\\n\t 10 & stornoway.tdiff & 5.595139\\\\\n\t 11 & stornoway.tdiff & 5.250000\\\\\n\t 12 & stornoway.tdiff & 5.003472\\\\\n\\end{tabular}\n",
            "text/plain": [
              "   month location        tidiff  \n",
              "1   1    bradford.tdiff  4.972897\n",
              "2   2    bradford.tdiff  5.167593\n",
              "3   3    bradford.tdiff  6.237037\n",
              "4   4    bradford.tdiff  7.325234\n",
              "5   5    bradford.tdiff  8.272115\n",
              "6   6    bradford.tdiff  8.223810\n",
              "7   7    bradford.tdiff  7.748148\n",
              "8   8    bradford.tdiff  7.550962\n",
              "9   9    bradford.tdiff  7.018868\n",
              "10 10    bradford.tdiff  6.146296\n",
              "11 11    bradford.tdiff  5.197248\n",
              "12 12    bradford.tdiff  4.911009\n",
              "13  1    heathrow.tdiff  5.740000\n",
              "14  2    heathrow.tdiff  6.232857\n",
              "15  3    heathrow.tdiff  7.657143\n",
              "16  4    heathrow.tdiff  8.746377\n",
              "17  5    heathrow.tdiff  9.221739\n",
              "18  6    heathrow.tdiff  9.518841\n",
              "19  7    heathrow.tdiff  9.488406\n",
              "20  8    heathrow.tdiff  9.237681\n",
              "21  9    heathrow.tdiff  8.568116\n",
              "22 10    heathrow.tdiff  7.340580\n",
              "23 11    heathrow.tdiff  6.265217\n",
              "24 12    heathrow.tdiff  5.711594\n",
              "25  1    oxford.tdiff    5.281212\n",
              "26  2    oxford.tdiff    5.894545\n",
              "27  3    oxford.tdiff    7.555152\n",
              "28  4    oxford.tdiff    8.820122\n",
              "29  5    oxford.tdiff    9.526220\n",
              "30  6    oxford.tdiff    9.618902\n",
              "31  7    oxford.tdiff    9.549390\n",
              "32  8    oxford.tdiff    9.243902\n",
              "33  9    oxford.tdiff    8.629268\n",
              "34 10    oxford.tdiff    7.257927\n",
              "35 11    oxford.tdiff    5.957317\n",
              "36 12    oxford.tdiff    5.287730\n",
              "37  1    stornoway.tdiff 4.921986\n",
              "38  2    stornoway.tdiff 5.243357\n",
              "39  3    stornoway.tdiff 5.700699\n",
              "40  4    stornoway.tdiff 6.239437\n",
              "41  5    stornoway.tdiff 6.420979\n",
              "42  6    stornoway.tdiff 6.136364\n",
              "43  7    stornoway.tdiff 5.768056\n",
              "44  8    stornoway.tdiff 5.819444\n",
              "45  9    stornoway.tdiff 5.770833\n",
              "46 10    stornoway.tdiff 5.595139\n",
              "47 11    stornoway.tdiff 5.250000\n",
              "48 12    stornoway.tdiff 5.003472"
            ]
          },
          "metadata": {}
        }
      ]
    },
    {
      "cell_type": "markdown",
      "source": [
        "###**4.\tUtilizer el archive wide-horses.csv y agrupar todas las variables que contengan la frase “per 100 people” . cargue archivo wide_hoserses.csv**###"
      ],
      "metadata": {
        "id": "e-3f7GeSbJG5"
      }
    },
    {
      "cell_type": "code",
      "source": [],
      "metadata": {
        "id": "qLzZXTRdbGzc"
      },
      "execution_count": null,
      "outputs": []
    },
    {
      "cell_type": "code",
      "source": [],
      "metadata": {
        "id": "oaIAwPjlZ5sb"
      },
      "execution_count": null,
      "outputs": []
    }
  ]
}