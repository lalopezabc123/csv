{
  "nbformat": 4,
  "nbformat_minor": 0,
  "metadata": {
    "colab": {
      "provenance": [],
      "include_colab_link": true
    },
    "kernelspec": {
      "name": "ir",
      "display_name": "R"
    },
    "language_info": {
      "name": "R"
    }
  },
  "cells": [
    {
      "cell_type": "markdown",
      "metadata": {
        "id": "view-in-github",
        "colab_type": "text"
      },
      "source": [
        "<a href=\"https://colab.research.google.com/github/lalopezabc123/csv/blob/main/Repaso%2016-12-2022-R_01_UNI_intro_R.ipynb\" target=\"_parent\"><img src=\"https://colab.research.google.com/assets/colab-badge.svg\" alt=\"Open In Colab\"/></a>"
      ]
    },
    {
      "cell_type": "markdown",
      "source": [
        "###**Repaso con R**###"
      ],
      "metadata": {
        "id": "8XZYbrBs4IiU"
      }
    },
    {
      "cell_type": "code",
      "source": [
        "library(\"tidyverse\")\n"
      ],
      "metadata": {
        "id": "08TroeQtkj9I"
      },
      "execution_count": 48,
      "outputs": []
    },
    {
      "cell_type": "code",
      "source": [
        "library(\"readxl\")\n",
        "library(\"lubridate\")\n",
        "library(\"devtools\")"
      ],
      "metadata": {
        "id": "-8-u2m58EH19"
      },
      "execution_count": 47,
      "outputs": []
    },
    {
      "cell_type": "code",
      "source": [],
      "metadata": {
        "id": "mNAlerJrEMQs"
      },
      "execution_count": null,
      "outputs": []
    },
    {
      "cell_type": "code",
      "source": [
        "wide_monthly_tdiff <- read.csv(\"https://raw.githubusercontent.com/lalopezabc123/csv/main/wide_monthly_tdiff.csv\")"
      ],
      "metadata": {
        "id": "lWlM0WB_4_yi"
      },
      "execution_count": 49,
      "outputs": []
    },
    {
      "cell_type": "code",
      "source": [
        "str(wide_monthly_tdiff)\n",
        "\n",
        " "
      ],
      "metadata": {
        "id": "5WybRfzz6jjf",
        "outputId": "85b2da43-cafd-455e-9f76-886c8640b479",
        "colab": {
          "base_uri": "https://localhost:8080/"
        }
      },
      "execution_count": 50,
      "outputs": [
        {
          "output_type": "stream",
          "name": "stdout",
          "text": [
            "'data.frame':\t12 obs. of  5 variables:\n",
            " $ month          : int  1 2 3 4 5 6 7 8 9 10 ...\n",
            " $ bradford.tdiff : num  4.97 5.17 6.24 7.33 8.27 ...\n",
            " $ heathrow.tdiff : num  5.74 6.23 7.66 8.75 9.22 ...\n",
            " $ oxford.tdiff   : num  5.28 5.89 7.56 8.82 9.53 ...\n",
            " $ stornoway.tdiff: num  4.92 5.24 5.7 6.24 6.42 ...\n"
          ]
        }
      ]
    },
    {
      "cell_type": "code",
      "source": [
        "head(wide_monthly_tdiff)\n"
      ],
      "metadata": {
        "id": "LqsX9mXx9iOh",
        "outputId": "7e000eb5-128d-4453-d3e5-86eec78ca460",
        "colab": {
          "base_uri": "https://localhost:8080/",
          "height": 286
        }
      },
      "execution_count": 51,
      "outputs": [
        {
          "output_type": "display_data",
          "data": {
            "text/html": [
              "<table class=\"dataframe\">\n",
              "<caption>A data.frame: 6 × 5</caption>\n",
              "<thead>\n",
              "\t<tr><th></th><th scope=col>month</th><th scope=col>bradford.tdiff</th><th scope=col>heathrow.tdiff</th><th scope=col>oxford.tdiff</th><th scope=col>stornoway.tdiff</th></tr>\n",
              "\t<tr><th></th><th scope=col>&lt;int&gt;</th><th scope=col>&lt;dbl&gt;</th><th scope=col>&lt;dbl&gt;</th><th scope=col>&lt;dbl&gt;</th><th scope=col>&lt;dbl&gt;</th></tr>\n",
              "</thead>\n",
              "<tbody>\n",
              "\t<tr><th scope=row>1</th><td>1</td><td>4.972897</td><td>5.740000</td><td>5.281212</td><td>4.921986</td></tr>\n",
              "\t<tr><th scope=row>2</th><td>2</td><td>5.167593</td><td>6.232857</td><td>5.894545</td><td>5.243357</td></tr>\n",
              "\t<tr><th scope=row>3</th><td>3</td><td>6.237037</td><td>7.657143</td><td>7.555152</td><td>5.700699</td></tr>\n",
              "\t<tr><th scope=row>4</th><td>4</td><td>7.325234</td><td>8.746377</td><td>8.820122</td><td>6.239437</td></tr>\n",
              "\t<tr><th scope=row>5</th><td>5</td><td>8.272115</td><td>9.221739</td><td>9.526220</td><td>6.420979</td></tr>\n",
              "\t<tr><th scope=row>6</th><td>6</td><td>8.223810</td><td>9.518841</td><td>9.618902</td><td>6.136364</td></tr>\n",
              "</tbody>\n",
              "</table>\n"
            ],
            "text/markdown": "\nA data.frame: 6 × 5\n\n| <!--/--> | month &lt;int&gt; | bradford.tdiff &lt;dbl&gt; | heathrow.tdiff &lt;dbl&gt; | oxford.tdiff &lt;dbl&gt; | stornoway.tdiff &lt;dbl&gt; |\n|---|---|---|---|---|---|\n| 1 | 1 | 4.972897 | 5.740000 | 5.281212 | 4.921986 |\n| 2 | 2 | 5.167593 | 6.232857 | 5.894545 | 5.243357 |\n| 3 | 3 | 6.237037 | 7.657143 | 7.555152 | 5.700699 |\n| 4 | 4 | 7.325234 | 8.746377 | 8.820122 | 6.239437 |\n| 5 | 5 | 8.272115 | 9.221739 | 9.526220 | 6.420979 |\n| 6 | 6 | 8.223810 | 9.518841 | 9.618902 | 6.136364 |\n\n",
            "text/latex": "A data.frame: 6 × 5\n\\begin{tabular}{r|lllll}\n  & month & bradford.tdiff & heathrow.tdiff & oxford.tdiff & stornoway.tdiff\\\\\n  & <int> & <dbl> & <dbl> & <dbl> & <dbl>\\\\\n\\hline\n\t1 & 1 & 4.972897 & 5.740000 & 5.281212 & 4.921986\\\\\n\t2 & 2 & 5.167593 & 6.232857 & 5.894545 & 5.243357\\\\\n\t3 & 3 & 6.237037 & 7.657143 & 7.555152 & 5.700699\\\\\n\t4 & 4 & 7.325234 & 8.746377 & 8.820122 & 6.239437\\\\\n\t5 & 5 & 8.272115 & 9.221739 & 9.526220 & 6.420979\\\\\n\t6 & 6 & 8.223810 & 9.518841 & 9.618902 & 6.136364\\\\\n\\end{tabular}\n",
            "text/plain": [
              "  month bradford.tdiff heathrow.tdiff oxford.tdiff stornoway.tdiff\n",
              "1 1     4.972897       5.740000       5.281212     4.921986       \n",
              "2 2     5.167593       6.232857       5.894545     5.243357       \n",
              "3 3     6.237037       7.657143       7.555152     5.700699       \n",
              "4 4     7.325234       8.746377       8.820122     6.239437       \n",
              "5 5     8.272115       9.221739       9.526220     6.420979       \n",
              "6 6     8.223810       9.518841       9.618902     6.136364       "
            ]
          },
          "metadata": {}
        }
      ]
    },
    {
      "cell_type": "code",
      "source": [
        "wide_monthly_tdiff$bradford.tdiff"
      ],
      "metadata": {
        "id": "BTG8aHc6Ax_M",
        "outputId": "93319be8-e7ff-44dc-f4da-7c0ba7d1f79f",
        "colab": {
          "base_uri": "https://localhost:8080/",
          "height": 52
        }
      },
      "execution_count": 52,
      "outputs": [
        {
          "output_type": "display_data",
          "data": {
            "text/html": [
              "<style>\n",
              ".list-inline {list-style: none; margin:0; padding: 0}\n",
              ".list-inline>li {display: inline-block}\n",
              ".list-inline>li:not(:last-child)::after {content: \"\\00b7\"; padding: 0 .5ex}\n",
              "</style>\n",
              "<ol class=list-inline><li>4.97289719626168</li><li>5.16759259259259</li><li>6.23703703703704</li><li>7.32523364485981</li><li>8.27211538461538</li><li>8.22380952380952</li><li>7.74814814814815</li><li>7.55096153846154</li><li>7.0188679245283</li><li>6.1462962962963</li><li>5.19724770642202</li><li>4.91100917431193</li></ol>\n"
            ],
            "text/markdown": "1. 4.97289719626168\n2. 5.16759259259259\n3. 6.23703703703704\n4. 7.32523364485981\n5. 8.27211538461538\n6. 8.22380952380952\n7. 7.74814814814815\n8. 7.55096153846154\n9. 7.0188679245283\n10. 6.1462962962963\n11. 5.19724770642202\n12. 4.91100917431193\n\n\n",
            "text/latex": "\\begin{enumerate*}\n\\item 4.97289719626168\n\\item 5.16759259259259\n\\item 6.23703703703704\n\\item 7.32523364485981\n\\item 8.27211538461538\n\\item 8.22380952380952\n\\item 7.74814814814815\n\\item 7.55096153846154\n\\item 7.0188679245283\n\\item 6.1462962962963\n\\item 5.19724770642202\n\\item 4.91100917431193\n\\end{enumerate*}\n",
            "text/plain": [
              " [1] 4.972897 5.167593 6.237037 7.325234 8.272115 8.223810 7.748148 7.550962\n",
              " [9] 7.018868 6.146296 5.197248 4.911009"
            ]
          },
          "metadata": {}
        }
      ]
    },
    {
      "cell_type": "code",
      "source": [
        "wide_monthly_tdiff %>%\n",
        "  gather(location, tdiff)"
      ],
      "metadata": {
        "id": "ajN5eXVzERk4",
        "outputId": "13c99310-6bb8-4a43-c99c-0b8da78bc78f",
        "colab": {
          "base_uri": "https://localhost:8080/",
          "height": 1000
        }
      },
      "execution_count": 68,
      "outputs": [
        {
          "output_type": "display_data",
          "data": {
            "text/html": [
              "<table class=\"dataframe\">\n",
              "<caption>A data.frame: 48 × 2</caption>\n",
              "<thead>\n",
              "\t<tr><th scope=col>location</th><th scope=col>tdiff</th></tr>\n",
              "\t<tr><th scope=col>&lt;chr&gt;</th><th scope=col>&lt;int&gt;</th></tr>\n",
              "</thead>\n",
              "<tbody>\n",
              "\t<tr><td>month</td><td> 1</td></tr>\n",
              "\t<tr><td>month</td><td> 2</td></tr>\n",
              "\t<tr><td>month</td><td> 3</td></tr>\n",
              "\t<tr><td>month</td><td> 4</td></tr>\n",
              "\t<tr><td>month</td><td> 5</td></tr>\n",
              "\t<tr><td>month</td><td> 6</td></tr>\n",
              "\t<tr><td>month</td><td> 7</td></tr>\n",
              "\t<tr><td>month</td><td> 8</td></tr>\n",
              "\t<tr><td>month</td><td> 9</td></tr>\n",
              "\t<tr><td>month</td><td>10</td></tr>\n",
              "\t<tr><td>month</td><td>11</td></tr>\n",
              "\t<tr><td>month</td><td>12</td></tr>\n",
              "\t<tr><td>month</td><td> 1</td></tr>\n",
              "\t<tr><td>month</td><td> 2</td></tr>\n",
              "\t<tr><td>month</td><td> 3</td></tr>\n",
              "\t<tr><td>month</td><td> 4</td></tr>\n",
              "\t<tr><td>month</td><td> 5</td></tr>\n",
              "\t<tr><td>month</td><td> 6</td></tr>\n",
              "\t<tr><td>month</td><td> 7</td></tr>\n",
              "\t<tr><td>month</td><td> 8</td></tr>\n",
              "\t<tr><td>month</td><td> 9</td></tr>\n",
              "\t<tr><td>month</td><td>10</td></tr>\n",
              "\t<tr><td>month</td><td>11</td></tr>\n",
              "\t<tr><td>month</td><td>12</td></tr>\n",
              "\t<tr><td>month</td><td> 1</td></tr>\n",
              "\t<tr><td>month</td><td> 2</td></tr>\n",
              "\t<tr><td>month</td><td> 3</td></tr>\n",
              "\t<tr><td>month</td><td> 4</td></tr>\n",
              "\t<tr><td>month</td><td> 5</td></tr>\n",
              "\t<tr><td>month</td><td> 6</td></tr>\n",
              "\t<tr><td>month</td><td> 7</td></tr>\n",
              "\t<tr><td>month</td><td> 8</td></tr>\n",
              "\t<tr><td>month</td><td> 9</td></tr>\n",
              "\t<tr><td>month</td><td>10</td></tr>\n",
              "\t<tr><td>month</td><td>11</td></tr>\n",
              "\t<tr><td>month</td><td>12</td></tr>\n",
              "\t<tr><td>month</td><td> 1</td></tr>\n",
              "\t<tr><td>month</td><td> 2</td></tr>\n",
              "\t<tr><td>month</td><td> 3</td></tr>\n",
              "\t<tr><td>month</td><td> 4</td></tr>\n",
              "\t<tr><td>month</td><td> 5</td></tr>\n",
              "\t<tr><td>month</td><td> 6</td></tr>\n",
              "\t<tr><td>month</td><td> 7</td></tr>\n",
              "\t<tr><td>month</td><td> 8</td></tr>\n",
              "\t<tr><td>month</td><td> 9</td></tr>\n",
              "\t<tr><td>month</td><td>10</td></tr>\n",
              "\t<tr><td>month</td><td>11</td></tr>\n",
              "\t<tr><td>month</td><td>12</td></tr>\n",
              "</tbody>\n",
              "</table>\n"
            ],
            "text/markdown": "\nA data.frame: 48 × 2\n\n| location &lt;chr&gt; | tdiff &lt;int&gt; |\n|---|---|\n| month |  1 |\n| month |  2 |\n| month |  3 |\n| month |  4 |\n| month |  5 |\n| month |  6 |\n| month |  7 |\n| month |  8 |\n| month |  9 |\n| month | 10 |\n| month | 11 |\n| month | 12 |\n| month |  1 |\n| month |  2 |\n| month |  3 |\n| month |  4 |\n| month |  5 |\n| month |  6 |\n| month |  7 |\n| month |  8 |\n| month |  9 |\n| month | 10 |\n| month | 11 |\n| month | 12 |\n| month |  1 |\n| month |  2 |\n| month |  3 |\n| month |  4 |\n| month |  5 |\n| month |  6 |\n| month |  7 |\n| month |  8 |\n| month |  9 |\n| month | 10 |\n| month | 11 |\n| month | 12 |\n| month |  1 |\n| month |  2 |\n| month |  3 |\n| month |  4 |\n| month |  5 |\n| month |  6 |\n| month |  7 |\n| month |  8 |\n| month |  9 |\n| month | 10 |\n| month | 11 |\n| month | 12 |\n\n",
            "text/latex": "A data.frame: 48 × 2\n\\begin{tabular}{ll}\n location & tdiff\\\\\n <chr> & <int>\\\\\n\\hline\n\t month &  1\\\\\n\t month &  2\\\\\n\t month &  3\\\\\n\t month &  4\\\\\n\t month &  5\\\\\n\t month &  6\\\\\n\t month &  7\\\\\n\t month &  8\\\\\n\t month &  9\\\\\n\t month & 10\\\\\n\t month & 11\\\\\n\t month & 12\\\\\n\t month &  1\\\\\n\t month &  2\\\\\n\t month &  3\\\\\n\t month &  4\\\\\n\t month &  5\\\\\n\t month &  6\\\\\n\t month &  7\\\\\n\t month &  8\\\\\n\t month &  9\\\\\n\t month & 10\\\\\n\t month & 11\\\\\n\t month & 12\\\\\n\t month &  1\\\\\n\t month &  2\\\\\n\t month &  3\\\\\n\t month &  4\\\\\n\t month &  5\\\\\n\t month &  6\\\\\n\t month &  7\\\\\n\t month &  8\\\\\n\t month &  9\\\\\n\t month & 10\\\\\n\t month & 11\\\\\n\t month & 12\\\\\n\t month &  1\\\\\n\t month &  2\\\\\n\t month &  3\\\\\n\t month &  4\\\\\n\t month &  5\\\\\n\t month &  6\\\\\n\t month &  7\\\\\n\t month &  8\\\\\n\t month &  9\\\\\n\t month & 10\\\\\n\t month & 11\\\\\n\t month & 12\\\\\n\\end{tabular}\n",
            "text/plain": [
              "   location tdiff\n",
              "1  month     1   \n",
              "2  month     2   \n",
              "3  month     3   \n",
              "4  month     4   \n",
              "5  month     5   \n",
              "6  month     6   \n",
              "7  month     7   \n",
              "8  month     8   \n",
              "9  month     9   \n",
              "10 month    10   \n",
              "11 month    11   \n",
              "12 month    12   \n",
              "13 month     1   \n",
              "14 month     2   \n",
              "15 month     3   \n",
              "16 month     4   \n",
              "17 month     5   \n",
              "18 month     6   \n",
              "19 month     7   \n",
              "20 month     8   \n",
              "21 month     9   \n",
              "22 month    10   \n",
              "23 month    11   \n",
              "24 month    12   \n",
              "25 month     1   \n",
              "26 month     2   \n",
              "27 month     3   \n",
              "28 month     4   \n",
              "29 month     5   \n",
              "30 month     6   \n",
              "31 month     7   \n",
              "32 month     8   \n",
              "33 month     9   \n",
              "34 month    10   \n",
              "35 month    11   \n",
              "36 month    12   \n",
              "37 month     1   \n",
              "38 month     2   \n",
              "39 month     3   \n",
              "40 month     4   \n",
              "41 month     5   \n",
              "42 month     6   \n",
              "43 month     7   \n",
              "44 month     8   \n",
              "45 month     9   \n",
              "46 month    10   \n",
              "47 month    11   \n",
              "48 month    12   "
            ]
          },
          "metadata": {}
        }
      ]
    }
  ]
}