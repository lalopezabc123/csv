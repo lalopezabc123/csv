{
  "nbformat": 4,
  "nbformat_minor": 0,
  "metadata": {
    "colab": {
      "name": "09-12-22_1Proyección_Asegurados 2.ipynb",
      "provenance": [],
      "include_colab_link": true
    },
    "kernelspec": {
      "name": "python3",
      "display_name": "Python 3"
    },
    "language_info": {
      "name": "python"
    },
    "widgets": {
      "application/vnd.jupyter.widget-state+json": {
        "d6c008a4a927484ea00f5a2604f04aa4": {
          "model_module": "@jupyter-widgets/controls",
          "model_name": "IntProgressModel",
          "model_module_version": "1.5.0",
          "state": {
            "_dom_classes": [],
            "_model_module": "@jupyter-widgets/controls",
            "_model_module_version": "1.5.0",
            "_model_name": "IntProgressModel",
            "_view_count": null,
            "_view_module": "@jupyter-widgets/controls",
            "_view_module_version": "1.5.0",
            "_view_name": "ProgressView",
            "bar_style": "",
            "description": "Processing: ",
            "description_tooltip": null,
            "layout": "IPY_MODEL_848784c3b9774cc688b06b9d921e228b",
            "max": 94,
            "min": 0,
            "orientation": "horizontal",
            "style": "IPY_MODEL_15124a09e05744d2b1b78e099201115a",
            "value": 94
          }
        },
        "848784c3b9774cc688b06b9d921e228b": {
          "model_module": "@jupyter-widgets/base",
          "model_name": "LayoutModel",
          "model_module_version": "1.2.0",
          "state": {
            "_model_module": "@jupyter-widgets/base",
            "_model_module_version": "1.2.0",
            "_model_name": "LayoutModel",
            "_view_count": null,
            "_view_module": "@jupyter-widgets/base",
            "_view_module_version": "1.2.0",
            "_view_name": "LayoutView",
            "align_content": null,
            "align_items": null,
            "align_self": null,
            "border": null,
            "bottom": null,
            "display": null,
            "flex": null,
            "flex_flow": null,
            "grid_area": null,
            "grid_auto_columns": null,
            "grid_auto_flow": null,
            "grid_auto_rows": null,
            "grid_column": null,
            "grid_gap": null,
            "grid_row": null,
            "grid_template_areas": null,
            "grid_template_columns": null,
            "grid_template_rows": null,
            "height": null,
            "justify_content": null,
            "justify_items": null,
            "left": null,
            "margin": null,
            "max_height": null,
            "max_width": null,
            "min_height": null,
            "min_width": null,
            "object_fit": null,
            "object_position": null,
            "order": null,
            "overflow": null,
            "overflow_x": null,
            "overflow_y": null,
            "padding": null,
            "right": null,
            "top": null,
            "visibility": null,
            "width": null
          }
        },
        "15124a09e05744d2b1b78e099201115a": {
          "model_module": "@jupyter-widgets/controls",
          "model_name": "ProgressStyleModel",
          "model_module_version": "1.5.0",
          "state": {
            "_model_module": "@jupyter-widgets/controls",
            "_model_module_version": "1.5.0",
            "_model_name": "ProgressStyleModel",
            "_view_count": null,
            "_view_module": "@jupyter-widgets/base",
            "_view_module_version": "1.2.0",
            "_view_name": "StyleView",
            "bar_color": null,
            "description_width": ""
          }
        }
      }
    }
  },
  "cells": [
    {
      "cell_type": "markdown",
      "metadata": {
        "id": "view-in-github",
        "colab_type": "text"
      },
      "source": [
        "<a href=\"https://colab.research.google.com/github/lalopezabc123/csv/blob/main/09_12_22_1Proyecci%C3%B3n_Asegurados_2.ipynb\" target=\"_parent\"><img src=\"https://colab.research.google.com/assets/colab-badge.svg\" alt=\"Open In Colab\"/></a>"
      ]
    },
    {
      "cell_type": "markdown",
      "source": [
        "#**Previsión del Número de Asegurados  usando PyCaret**\n"
      ],
      "metadata": {
        "id": "4BMWRElG3gGb"
      }
    },
    {
      "cell_type": "markdown",
      "source": [
        "## Para quitar warnings y actualizando pip para instalar correctamente pycaret"
      ],
      "metadata": {
        "id": "KVvGMxw67pd2"
      }
    },
    {
      "cell_type": "code",
      "source": [
        "import warnings\n",
        "warnings.filterwarnings('ignore')\n",
        "!pip install --upgrade pip"
      ],
      "metadata": {
        "colab": {
          "base_uri": "https://localhost:8080/"
        },
        "id": "aABfztOl7oAl",
        "outputId": "29aaa370-861a-4aa1-9e42-51fb52ed155e"
      },
      "execution_count": 154,
      "outputs": [
        {
          "output_type": "stream",
          "name": "stdout",
          "text": [
            "Looking in indexes: https://pypi.org/simple, https://us-python.pkg.dev/colab-wheels/public/simple/\n",
            "Requirement already satisfied: pip in /usr/local/lib/python3.8/dist-packages (22.3.1)\n",
            "\u001b[33mWARNING: Running pip as the 'root' user can result in broken permissions and conflicting behaviour with the system package manager. It is recommended to use a virtual environment instead: https://pip.pypa.io/warnings/venv\u001b[0m\u001b[33m\n",
            "\u001b[0m"
          ]
        }
      ]
    },
    {
      "cell_type": "markdown",
      "source": [
        "##Instalacion de PyCaret"
      ],
      "metadata": {
        "id": "hu2FNh7K3u0w"
      }
    },
    {
      "cell_type": "code",
      "execution_count": 155,
      "metadata": {
        "colab": {
          "base_uri": "https://localhost:8080/"
        },
        "id": "Hy8lRYNJfHyj",
        "outputId": "bad6fc7a-144d-4792-c962-ef9a954d28a3"
      },
      "outputs": [
        {
          "output_type": "stream",
          "name": "stdout",
          "text": [
            "Looking in indexes: https://pypi.org/simple, https://us-python.pkg.dev/colab-wheels/public/simple/\n",
            "Requirement already satisfied: pycaret in /usr/local/lib/python3.8/dist-packages (2.3.10)\n",
            "Requirement already satisfied: pandas-profiling>=2.8.0 in /usr/local/lib/python3.8/dist-packages (from pycaret) (3.5.0)\n",
            "Requirement already satisfied: gensim<4.0.0 in /usr/local/lib/python3.8/dist-packages (from pycaret) (3.6.0)\n",
            "Requirement already satisfied: wordcloud in /usr/local/lib/python3.8/dist-packages (from pycaret) (1.8.2.2)\n",
            "Requirement already satisfied: seaborn in /usr/local/lib/python3.8/dist-packages (from pycaret) (0.11.2)\n",
            "Requirement already satisfied: numba<0.55 in /usr/local/lib/python3.8/dist-packages (from pycaret) (0.54.1)\n",
            "Requirement already satisfied: cufflinks>=0.17.0 in /usr/local/lib/python3.8/dist-packages (from pycaret) (0.17.3)\n",
            "Requirement already satisfied: pyLDAvis in /usr/local/lib/python3.8/dist-packages (from pycaret) (3.2.2)\n",
            "Requirement already satisfied: pandas in /usr/local/lib/python3.8/dist-packages (from pycaret) (1.3.5)\n",
            "Requirement already satisfied: kmodes>=0.10.1 in /usr/local/lib/python3.8/dist-packages (from pycaret) (0.12.2)\n",
            "Requirement already satisfied: pyod in /usr/local/lib/python3.8/dist-packages (from pycaret) (1.0.6)\n",
            "Requirement already satisfied: mlxtend>=0.17.0 in /usr/local/lib/python3.8/dist-packages (from pycaret) (0.19.0)\n",
            "Requirement already satisfied: ipywidgets in /usr/local/lib/python3.8/dist-packages (from pycaret) (7.7.1)\n",
            "Requirement already satisfied: scikit-plot in /usr/local/lib/python3.8/dist-packages (from pycaret) (0.3.7)\n",
            "Requirement already satisfied: spacy<2.4.0 in /usr/local/lib/python3.8/dist-packages (from pycaret) (2.3.8)\n",
            "Requirement already satisfied: Boruta in /usr/local/lib/python3.8/dist-packages (from pycaret) (0.3)\n",
            "Requirement already satisfied: lightgbm>=2.3.1 in /usr/local/lib/python3.8/dist-packages (from pycaret) (3.3.3)\n",
            "Requirement already satisfied: umap-learn in /usr/local/lib/python3.8/dist-packages (from pycaret) (0.5.3)\n",
            "Requirement already satisfied: matplotlib in /usr/local/lib/python3.8/dist-packages (from pycaret) (3.2.2)\n",
            "Requirement already satisfied: scipy<=1.5.4 in /usr/local/lib/python3.8/dist-packages (from pycaret) (1.5.4)\n",
            "Requirement already satisfied: scikit-learn==0.23.2 in /usr/local/lib/python3.8/dist-packages (from pycaret) (0.23.2)\n",
            "Requirement already satisfied: nltk in /usr/local/lib/python3.8/dist-packages (from pycaret) (3.7)\n",
            "Requirement already satisfied: joblib in /usr/local/lib/python3.8/dist-packages (from pycaret) (1.2.0)\n",
            "Requirement already satisfied: textblob in /usr/local/lib/python3.8/dist-packages (from pycaret) (0.15.3)\n",
            "Requirement already satisfied: mlflow in /usr/local/lib/python3.8/dist-packages (from pycaret) (2.0.1)\n",
            "Requirement already satisfied: yellowbrick>=1.0.1 in /usr/local/lib/python3.8/dist-packages (from pycaret) (1.3.post1)\n",
            "Requirement already satisfied: plotly>=4.4.1 in /usr/local/lib/python3.8/dist-packages (from pycaret) (5.5.0)\n",
            "Requirement already satisfied: imbalanced-learn==0.7.0 in /usr/local/lib/python3.8/dist-packages (from pycaret) (0.7.0)\n",
            "Requirement already satisfied: pyyaml<6.0.0 in /usr/local/lib/python3.8/dist-packages (from pycaret) (5.4.1)\n",
            "Requirement already satisfied: IPython in /usr/local/lib/python3.8/dist-packages (from pycaret) (7.9.0)\n",
            "Requirement already satisfied: numpy>=1.13.3 in /usr/local/lib/python3.8/dist-packages (from imbalanced-learn==0.7.0->pycaret) (1.19.5)\n",
            "Requirement already satisfied: threadpoolctl>=2.0.0 in /usr/local/lib/python3.8/dist-packages (from scikit-learn==0.23.2->pycaret) (3.1.0)\n",
            "Requirement already satisfied: six>=1.9.0 in /usr/local/lib/python3.8/dist-packages (from cufflinks>=0.17.0->pycaret) (1.15.0)\n",
            "Requirement already satisfied: colorlover>=0.2.1 in /usr/local/lib/python3.8/dist-packages (from cufflinks>=0.17.0->pycaret) (0.3.0)\n",
            "Requirement already satisfied: setuptools>=34.4.1 in /usr/local/lib/python3.8/dist-packages (from cufflinks>=0.17.0->pycaret) (57.4.0)\n",
            "Requirement already satisfied: smart-open>=1.2.1 in /usr/local/lib/python3.8/dist-packages (from gensim<4.0.0->pycaret) (5.2.1)\n",
            "Requirement already satisfied: pexpect in /usr/local/lib/python3.8/dist-packages (from IPython->pycaret) (4.8.0)\n",
            "Requirement already satisfied: pickleshare in /usr/local/lib/python3.8/dist-packages (from IPython->pycaret) (0.7.5)\n",
            "Requirement already satisfied: traitlets>=4.2 in /usr/local/lib/python3.8/dist-packages (from IPython->pycaret) (5.6.0)\n",
            "Requirement already satisfied: backcall in /usr/local/lib/python3.8/dist-packages (from IPython->pycaret) (0.2.0)\n",
            "Requirement already satisfied: jedi>=0.10 in /usr/local/lib/python3.8/dist-packages (from IPython->pycaret) (0.18.2)\n",
            "Requirement already satisfied: pygments in /usr/local/lib/python3.8/dist-packages (from IPython->pycaret) (2.6.1)\n",
            "Requirement already satisfied: decorator in /usr/local/lib/python3.8/dist-packages (from IPython->pycaret) (4.4.2)\n",
            "Requirement already satisfied: prompt-toolkit<2.1.0,>=2.0.0 in /usr/local/lib/python3.8/dist-packages (from IPython->pycaret) (2.0.10)\n",
            "Requirement already satisfied: widgetsnbextension~=3.6.0 in /usr/local/lib/python3.8/dist-packages (from ipywidgets->pycaret) (3.6.1)\n",
            "Requirement already satisfied: jupyterlab-widgets>=1.0.0 in /usr/local/lib/python3.8/dist-packages (from ipywidgets->pycaret) (3.0.3)\n",
            "Requirement already satisfied: ipykernel>=4.5.1 in /usr/local/lib/python3.8/dist-packages (from ipywidgets->pycaret) (5.3.4)\n",
            "Requirement already satisfied: ipython-genutils~=0.2.0 in /usr/local/lib/python3.8/dist-packages (from ipywidgets->pycaret) (0.2.0)\n",
            "Requirement already satisfied: wheel in /usr/local/lib/python3.8/dist-packages (from lightgbm>=2.3.1->pycaret) (0.38.4)\n",
            "Requirement already satisfied: cycler>=0.10 in /usr/local/lib/python3.8/dist-packages (from matplotlib->pycaret) (0.11.0)\n",
            "Requirement already satisfied: kiwisolver>=1.0.1 in /usr/local/lib/python3.8/dist-packages (from matplotlib->pycaret) (1.4.4)\n",
            "Requirement already satisfied: pyparsing!=2.0.4,!=2.1.2,!=2.1.6,>=2.0.1 in /usr/local/lib/python3.8/dist-packages (from matplotlib->pycaret) (3.0.9)\n",
            "Requirement already satisfied: python-dateutil>=2.1 in /usr/local/lib/python3.8/dist-packages (from matplotlib->pycaret) (2.8.2)\n",
            "Requirement already satisfied: llvmlite<0.38,>=0.37.0rc1 in /usr/local/lib/python3.8/dist-packages (from numba<0.55->pycaret) (0.37.0)\n",
            "Requirement already satisfied: pytz>=2017.3 in /usr/local/lib/python3.8/dist-packages (from pandas->pycaret) (2022.6)\n",
            "Requirement already satisfied: tqdm<4.65,>=4.48.2 in /usr/local/lib/python3.8/dist-packages (from pandas-profiling>=2.8.0->pycaret) (4.64.1)\n",
            "Requirement already satisfied: jinja2<3.2,>=2.11.1 in /usr/local/lib/python3.8/dist-packages (from pandas-profiling>=2.8.0->pycaret) (2.11.3)\n",
            "Requirement already satisfied: typeguard<2.14,>=2.13.2 in /usr/local/lib/python3.8/dist-packages (from pandas-profiling>=2.8.0->pycaret) (2.13.3)\n",
            "Requirement already satisfied: htmlmin==0.1.12 in /usr/local/lib/python3.8/dist-packages (from pandas-profiling>=2.8.0->pycaret) (0.1.12)\n",
            "Requirement already satisfied: multimethod<1.10,>=1.4 in /usr/local/lib/python3.8/dist-packages (from pandas-profiling>=2.8.0->pycaret) (1.9)\n",
            "Requirement already satisfied: pydantic<1.11,>=1.8.1 in /usr/local/lib/python3.8/dist-packages (from pandas-profiling>=2.8.0->pycaret) (1.10.2)\n",
            "Requirement already satisfied: phik<0.13,>=0.11.1 in /usr/local/lib/python3.8/dist-packages (from pandas-profiling>=2.8.0->pycaret) (0.12.3)\n",
            "Requirement already satisfied: statsmodels<0.14,>=0.13.2 in /usr/local/lib/python3.8/dist-packages (from pandas-profiling>=2.8.0->pycaret) (0.13.5)\n",
            "Requirement already satisfied: visions[type_image_path]==0.7.5 in /usr/local/lib/python3.8/dist-packages (from pandas-profiling>=2.8.0->pycaret) (0.7.5)\n",
            "Requirement already satisfied: requests<2.29,>=2.24.0 in /usr/local/lib/python3.8/dist-packages (from pandas-profiling>=2.8.0->pycaret) (2.28.1)\n",
            "Requirement already satisfied: attrs>=19.3.0 in /usr/local/lib/python3.8/dist-packages (from visions[type_image_path]==0.7.5->pandas-profiling>=2.8.0->pycaret) (22.1.0)\n",
            "Requirement already satisfied: networkx>=2.4 in /usr/local/lib/python3.8/dist-packages (from visions[type_image_path]==0.7.5->pandas-profiling>=2.8.0->pycaret) (2.8.8)\n",
            "Requirement already satisfied: tangled-up-in-unicode>=0.0.4 in /usr/local/lib/python3.8/dist-packages (from visions[type_image_path]==0.7.5->pandas-profiling>=2.8.0->pycaret) (0.2.0)\n",
            "Requirement already satisfied: imagehash in /usr/local/lib/python3.8/dist-packages (from visions[type_image_path]==0.7.5->pandas-profiling>=2.8.0->pycaret) (4.3.1)\n",
            "Requirement already satisfied: Pillow in /usr/local/lib/python3.8/dist-packages (from visions[type_image_path]==0.7.5->pandas-profiling>=2.8.0->pycaret) (7.1.2)\n",
            "Requirement already satisfied: tenacity>=6.2.0 in /usr/local/lib/python3.8/dist-packages (from plotly>=4.4.1->pycaret) (8.1.0)\n",
            "Requirement already satisfied: preshed<3.1.0,>=3.0.2 in /usr/local/lib/python3.8/dist-packages (from spacy<2.4.0->pycaret) (3.0.8)\n",
            "Requirement already satisfied: wasabi<1.1.0,>=0.4.0 in /usr/local/lib/python3.8/dist-packages (from spacy<2.4.0->pycaret) (0.10.1)\n",
            "Requirement already satisfied: catalogue<1.1.0,>=0.0.7 in /usr/local/lib/python3.8/dist-packages (from spacy<2.4.0->pycaret) (1.0.2)\n",
            "Requirement already satisfied: blis<0.8.0,>=0.4.0 in /usr/local/lib/python3.8/dist-packages (from spacy<2.4.0->pycaret) (0.7.9)\n",
            "Requirement already satisfied: thinc<7.5.0,>=7.4.1 in /usr/local/lib/python3.8/dist-packages (from spacy<2.4.0->pycaret) (7.4.6)\n",
            "Requirement already satisfied: murmurhash<1.1.0,>=0.28.0 in /usr/local/lib/python3.8/dist-packages (from spacy<2.4.0->pycaret) (1.0.9)\n",
            "Requirement already satisfied: plac<1.2.0,>=0.9.6 in /usr/local/lib/python3.8/dist-packages (from spacy<2.4.0->pycaret) (1.1.3)\n",
            "Requirement already satisfied: cymem<2.1.0,>=2.0.2 in /usr/local/lib/python3.8/dist-packages (from spacy<2.4.0->pycaret) (2.0.7)\n",
            "Requirement already satisfied: srsly<1.1.0,>=1.0.2 in /usr/local/lib/python3.8/dist-packages (from spacy<2.4.0->pycaret) (1.0.6)\n",
            "Requirement already satisfied: packaging<22 in /usr/local/lib/python3.8/dist-packages (from mlflow->pycaret) (21.3)\n",
            "Requirement already satisfied: gitpython<4,>=2.1.0 in /usr/local/lib/python3.8/dist-packages (from mlflow->pycaret) (3.1.29)\n",
            "Requirement already satisfied: cloudpickle<3 in /usr/local/lib/python3.8/dist-packages (from mlflow->pycaret) (1.5.0)\n",
            "Requirement already satisfied: sqlparse<1,>=0.4.0 in /usr/local/lib/python3.8/dist-packages (from mlflow->pycaret) (0.4.3)\n",
            "Requirement already satisfied: gunicorn<21 in /usr/local/lib/python3.8/dist-packages (from mlflow->pycaret) (20.1.0)\n",
            "Requirement already satisfied: alembic<2 in /usr/local/lib/python3.8/dist-packages (from mlflow->pycaret) (1.8.1)\n",
            "Requirement already satisfied: click<9,>=7.0 in /usr/local/lib/python3.8/dist-packages (from mlflow->pycaret) (7.1.2)\n",
            "Requirement already satisfied: entrypoints<1 in /usr/local/lib/python3.8/dist-packages (from mlflow->pycaret) (0.4)\n",
            "Requirement already satisfied: sqlalchemy<2,>=1.4.0 in /usr/local/lib/python3.8/dist-packages (from mlflow->pycaret) (1.4.44)\n",
            "Requirement already satisfied: databricks-cli<1,>=0.8.7 in /usr/local/lib/python3.8/dist-packages (from mlflow->pycaret) (0.17.4)\n",
            "Requirement already satisfied: querystring-parser<2 in /usr/local/lib/python3.8/dist-packages (from mlflow->pycaret) (1.2.4)\n",
            "Requirement already satisfied: shap<1,>=0.40 in /usr/local/lib/python3.8/dist-packages (from mlflow->pycaret) (0.41.0)\n",
            "Requirement already satisfied: Flask<3 in /usr/local/lib/python3.8/dist-packages (from mlflow->pycaret) (1.1.4)\n",
            "Requirement already satisfied: pyarrow<11,>=4.0.0 in /usr/local/lib/python3.8/dist-packages (from mlflow->pycaret) (9.0.0)\n",
            "Requirement already satisfied: protobuf<5,>=3.12.0 in /usr/local/lib/python3.8/dist-packages (from mlflow->pycaret) (3.19.6)\n",
            "Requirement already satisfied: docker<7,>=4.0.0 in /usr/local/lib/python3.8/dist-packages (from mlflow->pycaret) (6.0.1)\n",
            "Requirement already satisfied: importlib-metadata!=4.7.0,<6,>=3.7.0 in /usr/local/lib/python3.8/dist-packages (from mlflow->pycaret) (4.13.0)\n",
            "Requirement already satisfied: markdown<4,>=3.3 in /usr/local/lib/python3.8/dist-packages (from mlflow->pycaret) (3.4.1)\n",
            "Requirement already satisfied: regex>=2021.8.3 in /usr/local/lib/python3.8/dist-packages (from nltk->pycaret) (2022.6.2)\n",
            "Requirement already satisfied: numexpr in /usr/local/lib/python3.8/dist-packages (from pyLDAvis->pycaret) (2.8.4)\n",
            "Requirement already satisfied: future in /usr/local/lib/python3.8/dist-packages (from pyLDAvis->pycaret) (0.16.0)\n",
            "Requirement already satisfied: funcy in /usr/local/lib/python3.8/dist-packages (from pyLDAvis->pycaret) (1.17)\n",
            "Requirement already satisfied: pynndescent>=0.5 in /usr/local/lib/python3.8/dist-packages (from umap-learn->pycaret) (0.5.8)\n",
            "Requirement already satisfied: Mako in /usr/local/lib/python3.8/dist-packages (from alembic<2->mlflow->pycaret) (1.2.4)\n",
            "Requirement already satisfied: importlib-resources in /usr/local/lib/python3.8/dist-packages (from alembic<2->mlflow->pycaret) (5.10.0)\n",
            "Requirement already satisfied: oauthlib>=3.1.0 in /usr/local/lib/python3.8/dist-packages (from databricks-cli<1,>=0.8.7->mlflow->pycaret) (3.2.2)\n",
            "Requirement already satisfied: pyjwt>=1.7.0 in /usr/local/lib/python3.8/dist-packages (from databricks-cli<1,>=0.8.7->mlflow->pycaret) (2.6.0)\n",
            "Requirement already satisfied: tabulate>=0.7.7 in /usr/local/lib/python3.8/dist-packages (from databricks-cli<1,>=0.8.7->mlflow->pycaret) (0.8.10)\n",
            "Requirement already satisfied: urllib3>=1.26.0 in /usr/local/lib/python3.8/dist-packages (from docker<7,>=4.0.0->mlflow->pycaret) (1.26.13)\n",
            "Requirement already satisfied: websocket-client>=0.32.0 in /usr/local/lib/python3.8/dist-packages (from docker<7,>=4.0.0->mlflow->pycaret) (1.4.2)\n",
            "Requirement already satisfied: Werkzeug<2.0,>=0.15 in /usr/local/lib/python3.8/dist-packages (from Flask<3->mlflow->pycaret) (1.0.1)\n",
            "Requirement already satisfied: itsdangerous<2.0,>=0.24 in /usr/local/lib/python3.8/dist-packages (from Flask<3->mlflow->pycaret) (1.1.0)\n",
            "Requirement already satisfied: gitdb<5,>=4.0.1 in /usr/local/lib/python3.8/dist-packages (from gitpython<4,>=2.1.0->mlflow->pycaret) (4.0.10)\n",
            "Requirement already satisfied: zipp>=0.5 in /usr/local/lib/python3.8/dist-packages (from importlib-metadata!=4.7.0,<6,>=3.7.0->mlflow->pycaret) (3.11.0)\n",
            "Requirement already satisfied: jupyter-client in /usr/local/lib/python3.8/dist-packages (from ipykernel>=4.5.1->ipywidgets->pycaret) (6.1.12)\n",
            "Requirement already satisfied: tornado>=4.2 in /usr/local/lib/python3.8/dist-packages (from ipykernel>=4.5.1->ipywidgets->pycaret) (6.0.4)\n",
            "Requirement already satisfied: parso<0.9.0,>=0.8.0 in /usr/local/lib/python3.8/dist-packages (from jedi>=0.10->IPython->pycaret) (0.8.3)\n",
            "Requirement already satisfied: MarkupSafe>=0.23 in /usr/local/lib/python3.8/dist-packages (from jinja2<3.2,>=2.11.1->pandas-profiling>=2.8.0->pycaret) (2.0.1)\n",
            "Requirement already satisfied: wcwidth in /usr/local/lib/python3.8/dist-packages (from prompt-toolkit<2.1.0,>=2.0.0->IPython->pycaret) (0.2.5)\n",
            "Requirement already satisfied: typing-extensions>=4.1.0 in /usr/local/lib/python3.8/dist-packages (from pydantic<1.11,>=1.8.1->pandas-profiling>=2.8.0->pycaret) (4.4.0)\n",
            "Requirement already satisfied: idna<4,>=2.5 in /usr/local/lib/python3.8/dist-packages (from requests<2.29,>=2.24.0->pandas-profiling>=2.8.0->pycaret) (2.10)\n",
            "Requirement already satisfied: certifi>=2017.4.17 in /usr/local/lib/python3.8/dist-packages (from requests<2.29,>=2.24.0->pandas-profiling>=2.8.0->pycaret) (2022.9.24)\n",
            "Requirement already satisfied: charset-normalizer<3,>=2 in /usr/local/lib/python3.8/dist-packages (from requests<2.29,>=2.24.0->pandas-profiling>=2.8.0->pycaret) (2.1.1)\n",
            "Requirement already satisfied: slicer==0.0.7 in /usr/local/lib/python3.8/dist-packages (from shap<1,>=0.40->mlflow->pycaret) (0.0.7)\n",
            "Requirement already satisfied: greenlet!=0.4.17 in /usr/local/lib/python3.8/dist-packages (from sqlalchemy<2,>=1.4.0->mlflow->pycaret) (2.0.1)\n",
            "Requirement already satisfied: patsy>=0.5.2 in /usr/local/lib/python3.8/dist-packages (from statsmodels<0.14,>=0.13.2->pandas-profiling>=2.8.0->pycaret) (0.5.3)\n",
            "Requirement already satisfied: notebook>=4.4.1 in /usr/local/lib/python3.8/dist-packages (from widgetsnbextension~=3.6.0->ipywidgets->pycaret) (5.7.16)\n",
            "Requirement already satisfied: ptyprocess>=0.5 in /usr/local/lib/python3.8/dist-packages (from pexpect->IPython->pycaret) (0.7.0)\n",
            "Requirement already satisfied: smmap<6,>=3.0.1 in /usr/local/lib/python3.8/dist-packages (from gitdb<5,>=4.0.1->gitpython<4,>=2.1.0->mlflow->pycaret) (5.0.0)\n",
            "Requirement already satisfied: prometheus-client in /usr/local/lib/python3.8/dist-packages (from notebook>=4.4.1->widgetsnbextension~=3.6.0->ipywidgets->pycaret) (0.15.0)\n",
            "Requirement already satisfied: nbconvert<6.0 in /usr/local/lib/python3.8/dist-packages (from notebook>=4.4.1->widgetsnbextension~=3.6.0->ipywidgets->pycaret) (5.6.1)\n",
            "Requirement already satisfied: Send2Trash in /usr/local/lib/python3.8/dist-packages (from notebook>=4.4.1->widgetsnbextension~=3.6.0->ipywidgets->pycaret) (1.8.0)\n",
            "Requirement already satisfied: nbformat in /usr/local/lib/python3.8/dist-packages (from notebook>=4.4.1->widgetsnbextension~=3.6.0->ipywidgets->pycaret) (5.7.0)\n",
            "Requirement already satisfied: jupyter-core>=4.4.0 in /usr/local/lib/python3.8/dist-packages (from notebook>=4.4.1->widgetsnbextension~=3.6.0->ipywidgets->pycaret) (5.1.0)\n",
            "Requirement already satisfied: terminado>=0.8.1 in /usr/local/lib/python3.8/dist-packages (from notebook>=4.4.1->widgetsnbextension~=3.6.0->ipywidgets->pycaret) (0.13.3)\n",
            "Requirement already satisfied: pyzmq>=17 in /usr/local/lib/python3.8/dist-packages (from notebook>=4.4.1->widgetsnbextension~=3.6.0->ipywidgets->pycaret) (23.2.1)\n",
            "Requirement already satisfied: PyWavelets in /usr/local/lib/python3.8/dist-packages (from imagehash->visions[type_image_path]==0.7.5->pandas-profiling>=2.8.0->pycaret) (1.4.1)\n",
            "Requirement already satisfied: platformdirs>=2.5 in /usr/local/lib/python3.8/dist-packages (from jupyter-core>=4.4.0->notebook>=4.4.1->widgetsnbextension~=3.6.0->ipywidgets->pycaret) (2.5.4)\n",
            "Requirement already satisfied: bleach in /usr/local/lib/python3.8/dist-packages (from nbconvert<6.0->notebook>=4.4.1->widgetsnbextension~=3.6.0->ipywidgets->pycaret) (5.0.1)\n",
            "Requirement already satisfied: testpath in /usr/local/lib/python3.8/dist-packages (from nbconvert<6.0->notebook>=4.4.1->widgetsnbextension~=3.6.0->ipywidgets->pycaret) (0.6.0)\n",
            "Requirement already satisfied: mistune<2,>=0.8.1 in /usr/local/lib/python3.8/dist-packages (from nbconvert<6.0->notebook>=4.4.1->widgetsnbextension~=3.6.0->ipywidgets->pycaret) (0.8.4)\n",
            "Requirement already satisfied: pandocfilters>=1.4.1 in /usr/local/lib/python3.8/dist-packages (from nbconvert<6.0->notebook>=4.4.1->widgetsnbextension~=3.6.0->ipywidgets->pycaret) (1.5.0)\n",
            "Requirement already satisfied: defusedxml in /usr/local/lib/python3.8/dist-packages (from nbconvert<6.0->notebook>=4.4.1->widgetsnbextension~=3.6.0->ipywidgets->pycaret) (0.7.1)\n",
            "Requirement already satisfied: fastjsonschema in /usr/local/lib/python3.8/dist-packages (from nbformat->notebook>=4.4.1->widgetsnbextension~=3.6.0->ipywidgets->pycaret) (2.16.2)\n",
            "Requirement already satisfied: jsonschema>=2.6 in /usr/local/lib/python3.8/dist-packages (from nbformat->notebook>=4.4.1->widgetsnbextension~=3.6.0->ipywidgets->pycaret) (4.3.3)\n",
            "Requirement already satisfied: pyrsistent!=0.17.0,!=0.17.1,!=0.17.2,>=0.14.0 in /usr/local/lib/python3.8/dist-packages (from jsonschema>=2.6->nbformat->notebook>=4.4.1->widgetsnbextension~=3.6.0->ipywidgets->pycaret) (0.19.2)\n",
            "Requirement already satisfied: webencodings in /usr/local/lib/python3.8/dist-packages (from bleach->nbconvert<6.0->notebook>=4.4.1->widgetsnbextension~=3.6.0->ipywidgets->pycaret) (0.5.1)\n",
            "\u001b[33mWARNING: Running pip as the 'root' user can result in broken permissions and conflicting behaviour with the system package manager. It is recommended to use a virtual environment instead: https://pip.pypa.io/warnings/venv\u001b[0m\u001b[33m\n",
            "\u001b[0m"
          ]
        }
      ],
      "source": [
        "\n",
        "!pip install pycaret\n"
      ]
    },
    {
      "cell_type": "code",
      "source": [
        "!pip install matplotlib-venn"
      ],
      "metadata": {
        "colab": {
          "base_uri": "https://localhost:8080/"
        },
        "id": "aX5KhSY1vqVY",
        "outputId": "61617ba6-ad8f-401e-c444-2ba28de4c8a8"
      },
      "execution_count": 156,
      "outputs": [
        {
          "output_type": "stream",
          "name": "stdout",
          "text": [
            "Looking in indexes: https://pypi.org/simple, https://us-python.pkg.dev/colab-wheels/public/simple/\n",
            "Requirement already satisfied: matplotlib-venn in /usr/local/lib/python3.8/dist-packages (0.11.7)\n",
            "Requirement already satisfied: matplotlib in /usr/local/lib/python3.8/dist-packages (from matplotlib-venn) (3.2.2)\n",
            "Requirement already satisfied: numpy in /usr/local/lib/python3.8/dist-packages (from matplotlib-venn) (1.19.5)\n",
            "Requirement already satisfied: scipy in /usr/local/lib/python3.8/dist-packages (from matplotlib-venn) (1.5.4)\n",
            "Requirement already satisfied: pyparsing!=2.0.4,!=2.1.2,!=2.1.6,>=2.0.1 in /usr/local/lib/python3.8/dist-packages (from matplotlib->matplotlib-venn) (3.0.9)\n",
            "Requirement already satisfied: python-dateutil>=2.1 in /usr/local/lib/python3.8/dist-packages (from matplotlib->matplotlib-venn) (2.8.2)\n",
            "Requirement already satisfied: kiwisolver>=1.0.1 in /usr/local/lib/python3.8/dist-packages (from matplotlib->matplotlib-venn) (1.4.4)\n",
            "Requirement already satisfied: cycler>=0.10 in /usr/local/lib/python3.8/dist-packages (from matplotlib->matplotlib-venn) (0.11.0)\n",
            "Requirement already satisfied: six>=1.5 in /usr/local/lib/python3.8/dist-packages (from python-dateutil>=2.1->matplotlib->matplotlib-venn) (1.15.0)\n",
            "\u001b[33mWARNING: Running pip as the 'root' user can result in broken permissions and conflicting behaviour with the system package manager. It is recommended to use a virtual environment instead: https://pip.pypa.io/warnings/venv\u001b[0m\u001b[33m\n",
            "\u001b[0m"
          ]
        }
      ]
    },
    {
      "cell_type": "markdown",
      "source": [
        "##Importando librerias numpy y pandas para carga de datos y transformaciones"
      ],
      "metadata": {
        "id": "MFw6hr8N3eDL"
      }
    },
    {
      "cell_type": "code",
      "source": [
        "import numpy as np \n",
        "import pandas as pd "
      ],
      "metadata": {
        "id": "rdipJXLdfSmL"
      },
      "execution_count": 157,
      "outputs": []
    },
    {
      "cell_type": "markdown",
      "source": [
        "## Cargando dataset"
      ],
      "metadata": {
        "id": "UMiM2OJs4GaN"
      }
    },
    {
      "cell_type": "code",
      "source": [
        "data  = pd.read_csv('https://raw.githubusercontent.com/lalopezabc123/csv/main/08-12-2022BD_sin%20dia%20semana%20y%20sin%20dia%20a%C3%B1o%20tambien%20sin%20trimestre%20y%20semana.csv')"
      ],
      "metadata": {
        "id": "DYDfVJkD4ChD"
      },
      "execution_count": 158,
      "outputs": []
    },
    {
      "cell_type": "markdown",
      "source": [
        "## Transformación de tipo de datos"
      ],
      "metadata": {
        "id": "4PY520ZI4OA7"
      }
    },
    {
      "cell_type": "code",
      "source": [
        "data['datetime'] = pd.to_datetime(data['Fecha'])\n",
        "data['Numero de Asegurados'] = pd.to_numeric(data['Numero de Asegurados'])"
      ],
      "metadata": {
        "id": "5O4Koh3k4Mh0"
      },
      "execution_count": 159,
      "outputs": []
    },
    {
      "cell_type": "markdown",
      "source": [
        "## Verificando ultimos 10 registros"
      ],
      "metadata": {
        "id": "11NHfg1t4Tls"
      }
    },
    {
      "cell_type": "code",
      "source": [
        "data.tail(10)"
      ],
      "metadata": {
        "colab": {
          "base_uri": "https://localhost:8080/",
          "height": 363
        },
        "id": "ON8r7jms4Yj8",
        "outputId": "f674efc3-00b2-4034-d843-e30147d373c8"
      },
      "execution_count": 160,
      "outputs": [
        {
          "output_type": "execute_result",
          "data": {
            "text/plain": [
              "         Fecha   Año  Mes  dia  Numero de Asegurados   datetime\n",
              "122   1/3/2022  2022    3    1                744934 2022-01-03\n",
              "123   1/4/2022  2022    4    1                741484 2022-01-04\n",
              "124   1/5/2022  2022    5    1                741490 2022-01-05\n",
              "125   1/6/2022  2022    6    1                753201 2022-01-06\n",
              "126   1/7/2022  2022    7    1                755908 2022-01-07\n",
              "127   1/8/2022  2022    8    1                758571 2022-01-08\n",
              "128   1/9/2022  2022    9    1                761201 2022-01-09\n",
              "129  1/10/2022  2022   10    1                763805 2022-01-10\n",
              "130  1/11/2022  2022   11    1                766387 2022-01-11\n",
              "131  1/12/2022  2022   12    1                768950 2022-01-12"
            ],
            "text/html": [
              "\n",
              "  <div id=\"df-6a2c918d-7409-469b-a30c-6bddd78e5c2e\">\n",
              "    <div class=\"colab-df-container\">\n",
              "      <div>\n",
              "<style scoped>\n",
              "    .dataframe tbody tr th:only-of-type {\n",
              "        vertical-align: middle;\n",
              "    }\n",
              "\n",
              "    .dataframe tbody tr th {\n",
              "        vertical-align: top;\n",
              "    }\n",
              "\n",
              "    .dataframe thead th {\n",
              "        text-align: right;\n",
              "    }\n",
              "</style>\n",
              "<table border=\"1\" class=\"dataframe\">\n",
              "  <thead>\n",
              "    <tr style=\"text-align: right;\">\n",
              "      <th></th>\n",
              "      <th>Fecha</th>\n",
              "      <th>Año</th>\n",
              "      <th>Mes</th>\n",
              "      <th>dia</th>\n",
              "      <th>Numero de Asegurados</th>\n",
              "      <th>datetime</th>\n",
              "    </tr>\n",
              "  </thead>\n",
              "  <tbody>\n",
              "    <tr>\n",
              "      <th>122</th>\n",
              "      <td>1/3/2022</td>\n",
              "      <td>2022</td>\n",
              "      <td>3</td>\n",
              "      <td>1</td>\n",
              "      <td>744934</td>\n",
              "      <td>2022-01-03</td>\n",
              "    </tr>\n",
              "    <tr>\n",
              "      <th>123</th>\n",
              "      <td>1/4/2022</td>\n",
              "      <td>2022</td>\n",
              "      <td>4</td>\n",
              "      <td>1</td>\n",
              "      <td>741484</td>\n",
              "      <td>2022-01-04</td>\n",
              "    </tr>\n",
              "    <tr>\n",
              "      <th>124</th>\n",
              "      <td>1/5/2022</td>\n",
              "      <td>2022</td>\n",
              "      <td>5</td>\n",
              "      <td>1</td>\n",
              "      <td>741490</td>\n",
              "      <td>2022-01-05</td>\n",
              "    </tr>\n",
              "    <tr>\n",
              "      <th>125</th>\n",
              "      <td>1/6/2022</td>\n",
              "      <td>2022</td>\n",
              "      <td>6</td>\n",
              "      <td>1</td>\n",
              "      <td>753201</td>\n",
              "      <td>2022-01-06</td>\n",
              "    </tr>\n",
              "    <tr>\n",
              "      <th>126</th>\n",
              "      <td>1/7/2022</td>\n",
              "      <td>2022</td>\n",
              "      <td>7</td>\n",
              "      <td>1</td>\n",
              "      <td>755908</td>\n",
              "      <td>2022-01-07</td>\n",
              "    </tr>\n",
              "    <tr>\n",
              "      <th>127</th>\n",
              "      <td>1/8/2022</td>\n",
              "      <td>2022</td>\n",
              "      <td>8</td>\n",
              "      <td>1</td>\n",
              "      <td>758571</td>\n",
              "      <td>2022-01-08</td>\n",
              "    </tr>\n",
              "    <tr>\n",
              "      <th>128</th>\n",
              "      <td>1/9/2022</td>\n",
              "      <td>2022</td>\n",
              "      <td>9</td>\n",
              "      <td>1</td>\n",
              "      <td>761201</td>\n",
              "      <td>2022-01-09</td>\n",
              "    </tr>\n",
              "    <tr>\n",
              "      <th>129</th>\n",
              "      <td>1/10/2022</td>\n",
              "      <td>2022</td>\n",
              "      <td>10</td>\n",
              "      <td>1</td>\n",
              "      <td>763805</td>\n",
              "      <td>2022-01-10</td>\n",
              "    </tr>\n",
              "    <tr>\n",
              "      <th>130</th>\n",
              "      <td>1/11/2022</td>\n",
              "      <td>2022</td>\n",
              "      <td>11</td>\n",
              "      <td>1</td>\n",
              "      <td>766387</td>\n",
              "      <td>2022-01-11</td>\n",
              "    </tr>\n",
              "    <tr>\n",
              "      <th>131</th>\n",
              "      <td>1/12/2022</td>\n",
              "      <td>2022</td>\n",
              "      <td>12</td>\n",
              "      <td>1</td>\n",
              "      <td>768950</td>\n",
              "      <td>2022-01-12</td>\n",
              "    </tr>\n",
              "  </tbody>\n",
              "</table>\n",
              "</div>\n",
              "      <button class=\"colab-df-convert\" onclick=\"convertToInteractive('df-6a2c918d-7409-469b-a30c-6bddd78e5c2e')\"\n",
              "              title=\"Convert this dataframe to an interactive table.\"\n",
              "              style=\"display:none;\">\n",
              "        \n",
              "  <svg xmlns=\"http://www.w3.org/2000/svg\" height=\"24px\"viewBox=\"0 0 24 24\"\n",
              "       width=\"24px\">\n",
              "    <path d=\"M0 0h24v24H0V0z\" fill=\"none\"/>\n",
              "    <path d=\"M18.56 5.44l.94 2.06.94-2.06 2.06-.94-2.06-.94-.94-2.06-.94 2.06-2.06.94zm-11 1L8.5 8.5l.94-2.06 2.06-.94-2.06-.94L8.5 2.5l-.94 2.06-2.06.94zm10 10l.94 2.06.94-2.06 2.06-.94-2.06-.94-.94-2.06-.94 2.06-2.06.94z\"/><path d=\"M17.41 7.96l-1.37-1.37c-.4-.4-.92-.59-1.43-.59-.52 0-1.04.2-1.43.59L10.3 9.45l-7.72 7.72c-.78.78-.78 2.05 0 2.83L4 21.41c.39.39.9.59 1.41.59.51 0 1.02-.2 1.41-.59l7.78-7.78 2.81-2.81c.8-.78.8-2.07 0-2.86zM5.41 20L4 18.59l7.72-7.72 1.47 1.35L5.41 20z\"/>\n",
              "  </svg>\n",
              "      </button>\n",
              "      \n",
              "  <style>\n",
              "    .colab-df-container {\n",
              "      display:flex;\n",
              "      flex-wrap:wrap;\n",
              "      gap: 12px;\n",
              "    }\n",
              "\n",
              "    .colab-df-convert {\n",
              "      background-color: #E8F0FE;\n",
              "      border: none;\n",
              "      border-radius: 50%;\n",
              "      cursor: pointer;\n",
              "      display: none;\n",
              "      fill: #1967D2;\n",
              "      height: 32px;\n",
              "      padding: 0 0 0 0;\n",
              "      width: 32px;\n",
              "    }\n",
              "\n",
              "    .colab-df-convert:hover {\n",
              "      background-color: #E2EBFA;\n",
              "      box-shadow: 0px 1px 2px rgba(60, 64, 67, 0.3), 0px 1px 3px 1px rgba(60, 64, 67, 0.15);\n",
              "      fill: #174EA6;\n",
              "    }\n",
              "\n",
              "    [theme=dark] .colab-df-convert {\n",
              "      background-color: #3B4455;\n",
              "      fill: #D2E3FC;\n",
              "    }\n",
              "\n",
              "    [theme=dark] .colab-df-convert:hover {\n",
              "      background-color: #434B5C;\n",
              "      box-shadow: 0px 1px 3px 1px rgba(0, 0, 0, 0.15);\n",
              "      filter: drop-shadow(0px 1px 2px rgba(0, 0, 0, 0.3));\n",
              "      fill: #FFFFFF;\n",
              "    }\n",
              "  </style>\n",
              "\n",
              "      <script>\n",
              "        const buttonEl =\n",
              "          document.querySelector('#df-6a2c918d-7409-469b-a30c-6bddd78e5c2e button.colab-df-convert');\n",
              "        buttonEl.style.display =\n",
              "          google.colab.kernel.accessAllowed ? 'block' : 'none';\n",
              "\n",
              "        async function convertToInteractive(key) {\n",
              "          const element = document.querySelector('#df-6a2c918d-7409-469b-a30c-6bddd78e5c2e');\n",
              "          const dataTable =\n",
              "            await google.colab.kernel.invokeFunction('convertToInteractive',\n",
              "                                                     [key], {});\n",
              "          if (!dataTable) return;\n",
              "\n",
              "          const docLinkHtml = 'Like what you see? Visit the ' +\n",
              "            '<a target=\"_blank\" href=https://colab.research.google.com/notebooks/data_table.ipynb>data table notebook</a>'\n",
              "            + ' to learn more about interactive tables.';\n",
              "          element.innerHTML = '';\n",
              "          dataTable['output_type'] = 'display_data';\n",
              "          await google.colab.output.renderOutput(dataTable, element);\n",
              "          const docLink = document.createElement('div');\n",
              "          docLink.innerHTML = docLinkHtml;\n",
              "          element.appendChild(docLink);\n",
              "        }\n",
              "      </script>\n",
              "    </div>\n",
              "  </div>\n",
              "  "
            ]
          },
          "metadata": {},
          "execution_count": 160
        }
      ]
    },
    {
      "cell_type": "markdown",
      "source": [
        "## Gráfica para explorar comportamiento de lo datos\n",
        "\n"
      ],
      "metadata": {
        "id": "7b0sRwUx4eCt"
      }
    },
    {
      "cell_type": "code",
      "source": [
        "import plotly.express as px \n",
        "fig = px.line(data, x=\"Fecha\", y=\"Numero de Asegurados\")\n",
        "fig.show()"
      ],
      "metadata": {
        "colab": {
          "base_uri": "https://localhost:8080/",
          "height": 542
        },
        "id": "V-uTPZ5QfqAl",
        "outputId": "96e73a8c-6b3e-4486-d12f-a7d318697f5a"
      },
      "execution_count": 206,
      "outputs": [
        {
          "output_type": "display_data",
          "data": {
            "text/html": [
              "<html>\n",
              "<head><meta charset=\"utf-8\" /></head>\n",
              "<body>\n",
              "    <div>            <script src=\"https://cdnjs.cloudflare.com/ajax/libs/mathjax/2.7.5/MathJax.js?config=TeX-AMS-MML_SVG\"></script><script type=\"text/javascript\">if (window.MathJax) {MathJax.Hub.Config({SVG: {font: \"STIX-Web\"}});}</script>                <script type=\"text/javascript\">window.PlotlyConfig = {MathJaxConfig: 'local'};</script>\n",
              "        <script src=\"https://cdn.plot.ly/plotly-2.8.3.min.js\"></script>                <div id=\"a3a287fb-d5eb-4eb7-a97b-f5f718790788\" class=\"plotly-graph-div\" style=\"height:525px; width:100%;\"></div>            <script type=\"text/javascript\">                                    window.PLOTLYENV=window.PLOTLYENV || {};                                    if (document.getElementById(\"a3a287fb-d5eb-4eb7-a97b-f5f718790788\")) {                    Plotly.newPlot(                        \"a3a287fb-d5eb-4eb7-a97b-f5f718790788\",                        [{\"hovertemplate\":\"Fecha=%{x}<br>Numero de Asegurados=%{y}<extra></extra>\",\"legendgroup\":\"\",\"line\":{\"color\":\"#636efa\",\"dash\":\"solid\"},\"marker\":{\"symbol\":\"circle\"},\"mode\":\"lines\",\"name\":\"\",\"orientation\":\"v\",\"showlegend\":false,\"x\":[\"1/1/2012\",\"1/2/2012\",\"1/3/2012\",\"1/4/2012\",\"1/5/2012\",\"1/6/2012\",\"1/7/2012\",\"1/8/2012\",\"1/9/2012\",\"1/10/2012\",\"1/11/2012\",\"1/12/2012\",\"1/1/2013\",\"1/2/2013\",\"1/3/2013\",\"1/4/2013\",\"1/5/2013\",\"1/6/2013\",\"1/7/2013\",\"1/8/2013\",\"1/9/2013\",\"1/10/2013\",\"1/11/2013\",\"1/12/2013\",\"1/1/2014\",\"1/2/2014\",\"1/3/2014\",\"1/4/2014\",\"1/5/2014\",\"1/6/2014\",\"1/7/2014\",\"1/8/2014\",\"1/9/2014\",\"1/10/2014\",\"1/11/2014\",\"1/12/2014\",\"1/1/2015\",\"1/2/2015\",\"1/3/2015\",\"1/4/2015\",\"1/5/2015\",\"1/6/2015\",\"1/7/2015\",\"1/8/2015\",\"1/9/2015\",\"1/10/2015\",\"1/11/2015\",\"1/12/2015\",\"1/1/2016\",\"1/2/2016\",\"1/3/2016\",\"1/4/2016\",\"1/5/2016\",\"1/6/2016\",\"1/7/2016\",\"1/8/2016\",\"1/9/2016\",\"1/10/2016\",\"1/11/2016\",\"1/12/2016\",\"1/1/2017\",\"1/2/2017\",\"1/3/2017\",\"1/4/2017\",\"1/5/2017\",\"1/6/2017\",\"1/7/2017\",\"1/8/2017\",\"1/9/2017\",\"1/10/2017\",\"1/11/2017\",\"1/12/2017\",\"1/1/2018\",\"1/2/2018\",\"1/3/2018\",\"1/4/2018\",\"1/5/2018\",\"1/6/2018\",\"1/7/2018\",\"1/8/2018\",\"1/9/2018\",\"1/10/2018\",\"1/11/2018\",\"1/12/2018\",\"1/1/2019\",\"1/2/2019\",\"1/3/2019\",\"1/4/2019\",\"1/5/2019\",\"1/6/2019\",\"1/7/2019\",\"1/8/2019\",\"1/9/2019\",\"1/10/2019\",\"1/11/2019\",\"1/12/2019\",\"1/1/2020\",\"1/2/2020\",\"1/3/2020\",\"1/4/2020\",\"1/5/2020\",\"1/6/2020\",\"1/7/2020\",\"1/8/2020\",\"1/9/2020\",\"1/10/2020\",\"1/11/2020\",\"1/12/2020\",\"1/1/2021\",\"1/2/2021\",\"1/3/2021\",\"1/4/2021\",\"1/5/2021\",\"1/6/2021\",\"1/7/2021\",\"1/8/2021\",\"1/9/2021\",\"1/10/2021\",\"1/11/2021\",\"1/12/2021\",\"1/1/2022\",\"1/2/2022\",\"1/3/2022\",\"1/4/2022\",\"1/5/2022\",\"1/6/2022\",\"1/7/2022\",\"1/8/2022\",\"1/9/2022\",\"1/10/2022\",\"1/11/2022\",\"1/12/2022\"],\"xaxis\":\"x\",\"y\":[603160,612813,616574,616036,626015,622641,623115,624644,624099,627408,641451,643538,651130,661617,664051,669625,673951,675391,676207,678861,673116,677667,692167,687804,690870,698226,705692,702076,711910,709019,709240,710907,710087,716037,731774,725014,732885,743822,753626,755434,769880,770317,774810,781638,784168,795991,807678,810654,824865,835631,838030,840436,842849,845268,847695,850129,852569,855017,857472,859933,738018,747669,752662,752277,756177,753825,751209,748804,747029,750441,761356,758663,767972,777055,783794,781371,771331,740106,712782,701775,695575,694657,701217,696644,698245,696934,693919,685118,684654,677281,672334,668811,663115,667274,676616,674881,681311,689615,687441,668373,658028,648019,645696,648613,649338,660318,666882,675578,688607,696666,703638,705587,711587,709666,710019,710136,707489,715439,726154,721975,731705,736827,744934,741484,741490,753201,755908,758571,761201,763805,766387,768950],\"yaxis\":\"y\",\"type\":\"scatter\"}],                        {\"template\":{\"data\":{\"bar\":[{\"error_x\":{\"color\":\"#2a3f5f\"},\"error_y\":{\"color\":\"#2a3f5f\"},\"marker\":{\"line\":{\"color\":\"#E5ECF6\",\"width\":0.5},\"pattern\":{\"fillmode\":\"overlay\",\"size\":10,\"solidity\":0.2}},\"type\":\"bar\"}],\"barpolar\":[{\"marker\":{\"line\":{\"color\":\"#E5ECF6\",\"width\":0.5},\"pattern\":{\"fillmode\":\"overlay\",\"size\":10,\"solidity\":0.2}},\"type\":\"barpolar\"}],\"carpet\":[{\"aaxis\":{\"endlinecolor\":\"#2a3f5f\",\"gridcolor\":\"white\",\"linecolor\":\"white\",\"minorgridcolor\":\"white\",\"startlinecolor\":\"#2a3f5f\"},\"baxis\":{\"endlinecolor\":\"#2a3f5f\",\"gridcolor\":\"white\",\"linecolor\":\"white\",\"minorgridcolor\":\"white\",\"startlinecolor\":\"#2a3f5f\"},\"type\":\"carpet\"}],\"choropleth\":[{\"colorbar\":{\"outlinewidth\":0,\"ticks\":\"\"},\"type\":\"choropleth\"}],\"contour\":[{\"colorbar\":{\"outlinewidth\":0,\"ticks\":\"\"},\"colorscale\":[[0.0,\"#0d0887\"],[0.1111111111111111,\"#46039f\"],[0.2222222222222222,\"#7201a8\"],[0.3333333333333333,\"#9c179e\"],[0.4444444444444444,\"#bd3786\"],[0.5555555555555556,\"#d8576b\"],[0.6666666666666666,\"#ed7953\"],[0.7777777777777778,\"#fb9f3a\"],[0.8888888888888888,\"#fdca26\"],[1.0,\"#f0f921\"]],\"type\":\"contour\"}],\"contourcarpet\":[{\"colorbar\":{\"outlinewidth\":0,\"ticks\":\"\"},\"type\":\"contourcarpet\"}],\"heatmap\":[{\"colorbar\":{\"outlinewidth\":0,\"ticks\":\"\"},\"colorscale\":[[0.0,\"#0d0887\"],[0.1111111111111111,\"#46039f\"],[0.2222222222222222,\"#7201a8\"],[0.3333333333333333,\"#9c179e\"],[0.4444444444444444,\"#bd3786\"],[0.5555555555555556,\"#d8576b\"],[0.6666666666666666,\"#ed7953\"],[0.7777777777777778,\"#fb9f3a\"],[0.8888888888888888,\"#fdca26\"],[1.0,\"#f0f921\"]],\"type\":\"heatmap\"}],\"heatmapgl\":[{\"colorbar\":{\"outlinewidth\":0,\"ticks\":\"\"},\"colorscale\":[[0.0,\"#0d0887\"],[0.1111111111111111,\"#46039f\"],[0.2222222222222222,\"#7201a8\"],[0.3333333333333333,\"#9c179e\"],[0.4444444444444444,\"#bd3786\"],[0.5555555555555556,\"#d8576b\"],[0.6666666666666666,\"#ed7953\"],[0.7777777777777778,\"#fb9f3a\"],[0.8888888888888888,\"#fdca26\"],[1.0,\"#f0f921\"]],\"type\":\"heatmapgl\"}],\"histogram\":[{\"marker\":{\"pattern\":{\"fillmode\":\"overlay\",\"size\":10,\"solidity\":0.2}},\"type\":\"histogram\"}],\"histogram2d\":[{\"colorbar\":{\"outlinewidth\":0,\"ticks\":\"\"},\"colorscale\":[[0.0,\"#0d0887\"],[0.1111111111111111,\"#46039f\"],[0.2222222222222222,\"#7201a8\"],[0.3333333333333333,\"#9c179e\"],[0.4444444444444444,\"#bd3786\"],[0.5555555555555556,\"#d8576b\"],[0.6666666666666666,\"#ed7953\"],[0.7777777777777778,\"#fb9f3a\"],[0.8888888888888888,\"#fdca26\"],[1.0,\"#f0f921\"]],\"type\":\"histogram2d\"}],\"histogram2dcontour\":[{\"colorbar\":{\"outlinewidth\":0,\"ticks\":\"\"},\"colorscale\":[[0.0,\"#0d0887\"],[0.1111111111111111,\"#46039f\"],[0.2222222222222222,\"#7201a8\"],[0.3333333333333333,\"#9c179e\"],[0.4444444444444444,\"#bd3786\"],[0.5555555555555556,\"#d8576b\"],[0.6666666666666666,\"#ed7953\"],[0.7777777777777778,\"#fb9f3a\"],[0.8888888888888888,\"#fdca26\"],[1.0,\"#f0f921\"]],\"type\":\"histogram2dcontour\"}],\"mesh3d\":[{\"colorbar\":{\"outlinewidth\":0,\"ticks\":\"\"},\"type\":\"mesh3d\"}],\"parcoords\":[{\"line\":{\"colorbar\":{\"outlinewidth\":0,\"ticks\":\"\"}},\"type\":\"parcoords\"}],\"pie\":[{\"automargin\":true,\"type\":\"pie\"}],\"scatter\":[{\"marker\":{\"colorbar\":{\"outlinewidth\":0,\"ticks\":\"\"}},\"type\":\"scatter\"}],\"scatter3d\":[{\"line\":{\"colorbar\":{\"outlinewidth\":0,\"ticks\":\"\"}},\"marker\":{\"colorbar\":{\"outlinewidth\":0,\"ticks\":\"\"}},\"type\":\"scatter3d\"}],\"scattercarpet\":[{\"marker\":{\"colorbar\":{\"outlinewidth\":0,\"ticks\":\"\"}},\"type\":\"scattercarpet\"}],\"scattergeo\":[{\"marker\":{\"colorbar\":{\"outlinewidth\":0,\"ticks\":\"\"}},\"type\":\"scattergeo\"}],\"scattergl\":[{\"marker\":{\"colorbar\":{\"outlinewidth\":0,\"ticks\":\"\"}},\"type\":\"scattergl\"}],\"scattermapbox\":[{\"marker\":{\"colorbar\":{\"outlinewidth\":0,\"ticks\":\"\"}},\"type\":\"scattermapbox\"}],\"scatterpolar\":[{\"marker\":{\"colorbar\":{\"outlinewidth\":0,\"ticks\":\"\"}},\"type\":\"scatterpolar\"}],\"scatterpolargl\":[{\"marker\":{\"colorbar\":{\"outlinewidth\":0,\"ticks\":\"\"}},\"type\":\"scatterpolargl\"}],\"scatterternary\":[{\"marker\":{\"colorbar\":{\"outlinewidth\":0,\"ticks\":\"\"}},\"type\":\"scatterternary\"}],\"surface\":[{\"colorbar\":{\"outlinewidth\":0,\"ticks\":\"\"},\"colorscale\":[[0.0,\"#0d0887\"],[0.1111111111111111,\"#46039f\"],[0.2222222222222222,\"#7201a8\"],[0.3333333333333333,\"#9c179e\"],[0.4444444444444444,\"#bd3786\"],[0.5555555555555556,\"#d8576b\"],[0.6666666666666666,\"#ed7953\"],[0.7777777777777778,\"#fb9f3a\"],[0.8888888888888888,\"#fdca26\"],[1.0,\"#f0f921\"]],\"type\":\"surface\"}],\"table\":[{\"cells\":{\"fill\":{\"color\":\"#EBF0F8\"},\"line\":{\"color\":\"white\"}},\"header\":{\"fill\":{\"color\":\"#C8D4E3\"},\"line\":{\"color\":\"white\"}},\"type\":\"table\"}]},\"layout\":{\"annotationdefaults\":{\"arrowcolor\":\"#2a3f5f\",\"arrowhead\":0,\"arrowwidth\":1},\"autotypenumbers\":\"strict\",\"coloraxis\":{\"colorbar\":{\"outlinewidth\":0,\"ticks\":\"\"}},\"colorscale\":{\"diverging\":[[0,\"#8e0152\"],[0.1,\"#c51b7d\"],[0.2,\"#de77ae\"],[0.3,\"#f1b6da\"],[0.4,\"#fde0ef\"],[0.5,\"#f7f7f7\"],[0.6,\"#e6f5d0\"],[0.7,\"#b8e186\"],[0.8,\"#7fbc41\"],[0.9,\"#4d9221\"],[1,\"#276419\"]],\"sequential\":[[0.0,\"#0d0887\"],[0.1111111111111111,\"#46039f\"],[0.2222222222222222,\"#7201a8\"],[0.3333333333333333,\"#9c179e\"],[0.4444444444444444,\"#bd3786\"],[0.5555555555555556,\"#d8576b\"],[0.6666666666666666,\"#ed7953\"],[0.7777777777777778,\"#fb9f3a\"],[0.8888888888888888,\"#fdca26\"],[1.0,\"#f0f921\"]],\"sequentialminus\":[[0.0,\"#0d0887\"],[0.1111111111111111,\"#46039f\"],[0.2222222222222222,\"#7201a8\"],[0.3333333333333333,\"#9c179e\"],[0.4444444444444444,\"#bd3786\"],[0.5555555555555556,\"#d8576b\"],[0.6666666666666666,\"#ed7953\"],[0.7777777777777778,\"#fb9f3a\"],[0.8888888888888888,\"#fdca26\"],[1.0,\"#f0f921\"]]},\"colorway\":[\"#636efa\",\"#EF553B\",\"#00cc96\",\"#ab63fa\",\"#FFA15A\",\"#19d3f3\",\"#FF6692\",\"#B6E880\",\"#FF97FF\",\"#FECB52\"],\"font\":{\"color\":\"#2a3f5f\"},\"geo\":{\"bgcolor\":\"white\",\"lakecolor\":\"white\",\"landcolor\":\"#E5ECF6\",\"showlakes\":true,\"showland\":true,\"subunitcolor\":\"white\"},\"hoverlabel\":{\"align\":\"left\"},\"hovermode\":\"closest\",\"mapbox\":{\"style\":\"light\"},\"paper_bgcolor\":\"white\",\"plot_bgcolor\":\"#E5ECF6\",\"polar\":{\"angularaxis\":{\"gridcolor\":\"white\",\"linecolor\":\"white\",\"ticks\":\"\"},\"bgcolor\":\"#E5ECF6\",\"radialaxis\":{\"gridcolor\":\"white\",\"linecolor\":\"white\",\"ticks\":\"\"}},\"scene\":{\"xaxis\":{\"backgroundcolor\":\"#E5ECF6\",\"gridcolor\":\"white\",\"gridwidth\":2,\"linecolor\":\"white\",\"showbackground\":true,\"ticks\":\"\",\"zerolinecolor\":\"white\"},\"yaxis\":{\"backgroundcolor\":\"#E5ECF6\",\"gridcolor\":\"white\",\"gridwidth\":2,\"linecolor\":\"white\",\"showbackground\":true,\"ticks\":\"\",\"zerolinecolor\":\"white\"},\"zaxis\":{\"backgroundcolor\":\"#E5ECF6\",\"gridcolor\":\"white\",\"gridwidth\":2,\"linecolor\":\"white\",\"showbackground\":true,\"ticks\":\"\",\"zerolinecolor\":\"white\"}},\"shapedefaults\":{\"line\":{\"color\":\"#2a3f5f\"}},\"ternary\":{\"aaxis\":{\"gridcolor\":\"white\",\"linecolor\":\"white\",\"ticks\":\"\"},\"baxis\":{\"gridcolor\":\"white\",\"linecolor\":\"white\",\"ticks\":\"\"},\"bgcolor\":\"#E5ECF6\",\"caxis\":{\"gridcolor\":\"white\",\"linecolor\":\"white\",\"ticks\":\"\"}},\"title\":{\"x\":0.05},\"xaxis\":{\"automargin\":true,\"gridcolor\":\"white\",\"linecolor\":\"white\",\"ticks\":\"\",\"title\":{\"standoff\":15},\"zerolinecolor\":\"white\",\"zerolinewidth\":2},\"yaxis\":{\"automargin\":true,\"gridcolor\":\"white\",\"linecolor\":\"white\",\"ticks\":\"\",\"title\":{\"standoff\":15},\"zerolinecolor\":\"white\",\"zerolinewidth\":2}}},\"xaxis\":{\"anchor\":\"y\",\"domain\":[0.0,1.0],\"title\":{\"text\":\"Fecha\"}},\"yaxis\":{\"anchor\":\"x\",\"domain\":[0.0,1.0],\"title\":{\"text\":\"Numero de Asegurados\"}},\"legend\":{\"tracegroupgap\":0},\"margin\":{\"t\":60}},                        {\"responsive\": true}                    ).then(function(){\n",
              "                            \n",
              "var gd = document.getElementById('a3a287fb-d5eb-4eb7-a97b-f5f718790788');\n",
              "var x = new MutationObserver(function (mutations, observer) {{\n",
              "        var display = window.getComputedStyle(gd).display;\n",
              "        if (!display || display === 'none') {{\n",
              "            console.log([gd, 'removed!']);\n",
              "            Plotly.purge(gd);\n",
              "            observer.disconnect();\n",
              "        }}\n",
              "}});\n",
              "\n",
              "// Listen for the removal of the full notebook cells\n",
              "var notebookContainer = gd.closest('#notebook-container');\n",
              "if (notebookContainer) {{\n",
              "    x.observe(notebookContainer, {childList: true});\n",
              "}}\n",
              "\n",
              "// Listen for the clearing of the current output cell\n",
              "var outputEl = gd.closest('.output');\n",
              "if (outputEl) {{\n",
              "    x.observe(outputEl, {childList: true});\n",
              "}}\n",
              "\n",
              "                        })                };                            </script>        </div>\n",
              "</body>\n",
              "</html>"
            ]
          },
          "metadata": {}
        }
      ]
    },
    {
      "cell_type": "markdown",
      "source": [
        "## Importando pycaret"
      ],
      "metadata": {
        "id": "9PL3CcOV40P5"
      }
    },
    {
      "cell_type": "code",
      "source": [
        "from pycaret.regression import *"
      ],
      "metadata": {
        "id": "RPISPH-J4zrS"
      },
      "execution_count": 162,
      "outputs": []
    },
    {
      "cell_type": "markdown",
      "source": [
        "## Configurando parametros para modelo de series de tiempo"
      ],
      "metadata": {
        "id": "HR1t-rcF5EmQ"
      }
    },
    {
      "cell_type": "code",
      "source": [
        "s = setup(data, target = 'Numero de Asegurados', train_size = 0.95,\n",
        "              data_split_shuffle = False, fold_strategy = 'timeseries', fold = 3,\n",
        "              ignore_features = ['Fecha', 'datetime'],\n",
        "              numeric_features = ['Año', 'Mes', 'dia',],\n",
        "              categorical_features = ['Mes'],\n",
        "              silent = True, verbose = False, session_id = 123)"
      ],
      "metadata": {
        "id": "KiiryQM8iASx",
        "colab": {
          "base_uri": "https://localhost:8080/"
        },
        "outputId": "b63294d8-d91c-4f05-d990-7695e21831aa"
      },
      "execution_count": 163,
      "outputs": [
        {
          "output_type": "stream",
          "name": "stderr",
          "text": [
            "INFO:logs:PyCaret Supervised Module\n",
            "INFO:logs:ML Usecase: regression\n",
            "INFO:logs:version 2.3.10\n",
            "INFO:logs:Initializing setup()\n",
            "INFO:logs:setup(target=Numero de Asegurados, ml_usecase=regression, available_plots={'parameter': 'Hyperparameters', 'residuals': 'Residuals', 'error': 'Prediction Error', 'cooks': 'Cooks Distance', 'rfe': 'Feature Selection', 'learning': 'Learning Curve', 'manifold': 'Manifold Learning', 'vc': 'Validation Curve', 'feature': 'Feature Importance', 'feature_all': 'Feature Importance (All)', 'tree': 'Decision Tree', 'residuals_interactive': 'Interactive Residuals'}, train_size=0.95, test_data=None, preprocess=True, imputation_type=simple, iterative_imputation_iters=5, categorical_features=['Mes'], categorical_imputation=constant, categorical_iterative_imputer=lightgbm, ordinal_features=None, high_cardinality_features=None, high_cardinality_method=frequency, numeric_features=['Año', 'Mes', 'dia'], numeric_imputation=mean, numeric_iterative_imputer=lightgbm, date_features=None, ignore_features=['Fecha', 'datetime'], normalize=False, normalize_method=zscore, transformation=False, transformation_method=yeo-johnson, handle_unknown_categorical=True, unknown_categorical_method=least_frequent, pca=False, pca_method=linear, pca_components=None, ignore_low_variance=False, combine_rare_levels=False, rare_level_threshold=0.1, bin_numeric_features=None, remove_outliers=False, outliers_threshold=0.05, remove_multicollinearity=False, multicollinearity_threshold=0.9, remove_perfect_collinearity=True, create_clusters=False, cluster_iter=20, polynomial_features=False, polynomial_degree=2, trigonometry_features=False, polynomial_threshold=0.1, group_features=None, group_names=None, feature_selection=False, feature_selection_threshold=0.8, feature_selection_method=classic, feature_interaction=False, feature_ratio=False, interaction_threshold=0.01, fix_imbalance=False, fix_imbalance_method=None, transform_target=False, transform_target_method=box-cox, data_split_shuffle=False, data_split_stratify=False, fold_strategy=timeseries, fold=3, fold_shuffle=False, fold_groups=None, n_jobs=-1, use_gpu=False, custom_pipeline=None, html=True, session_id=123, log_experiment=False, experiment_name=None, experiment_custom_tags=None, log_plots=False, log_profile=False, log_data=False, silent=True, verbose=False, profile=False, profile_kwargs=None, display=None)\n",
            "INFO:logs:Checking environment\n",
            "INFO:logs:python_version: 3.8.16\n",
            "INFO:logs:python_build: ('default', 'Dec  7 2022 01:12:13')\n",
            "INFO:logs:machine: x86_64\n",
            "INFO:logs:platform: Linux-5.10.133+-x86_64-with-glibc2.27\n",
            "INFO:logs:Memory: svmem(total=13616353280, available=12557819904, percent=7.8, used=897069056, free=10462253056, active=984272896, inactive=1881251840, buffers=376483840, cached=1880547328, shared=1318912, slab=221790208)\n",
            "INFO:logs:Physical Core: 1\n",
            "INFO:logs:Logical Core: 2\n",
            "INFO:logs:Checking libraries\n",
            "INFO:logs:pd==1.3.5\n",
            "INFO:logs:numpy==1.21.6\n",
            "INFO:logs:sklearn==0.23.2\n",
            "INFO:logs:lightgbm==3.3.3\n",
            "WARNING:logs:catboost not found\n",
            "INFO:logs:xgboost==0.90\n",
            "INFO:logs:mlflow==2.0.1\n",
            "INFO:logs:Checking Exceptions\n",
            "INFO:logs:Declaring global variables\n",
            "INFO:logs:USI: 2fb6\n",
            "INFO:logs:pycaret_globals: {'X_train', 'data_before_preprocess', 'fold_shuffle_param', 'exp_name_log', 'target_param', 'gpu_param', 'fix_imbalance_param', 'fold_groups_param_full', 'imputation_regressor', '_gpu_n_jobs_param', 'prep_pipe', 'y', '_ml_usecase', 'y_test', 'master_model_container', 'html_param', 'transform_target_method_param', 'create_model_container', 'seed', 'log_plots_param', 'X', 'imputation_classifier', 'iterative_imputation_iters_param', 'fix_imbalance_method_param', 'fold_groups_param', 'transform_target_param', '_all_models_internal', 'y_train', 'n_jobs_param', '_all_models', 'experiment__', 'fold_param', 'stratify_param', '_available_plots', 'pycaret_globals', 'logging_param', 'fold_generator', 'dashboard_logger', 'USI', 'display_container', '_internal_pipeline', 'X_test', '_all_metrics'}\n",
            "INFO:logs:Preparing display monitor\n",
            "INFO:logs:Importing libraries\n",
            "INFO:logs:Copying data for preprocessing\n",
            "INFO:logs:Declaring preprocessing parameters\n",
            "INFO:logs:Creating preprocessing pipeline\n",
            "INFO:logs:Preprocessing pipeline created successfully\n",
            "ERROR:logs:(Process Exit): setup has been interupted with user command 'quit'. setup must rerun.\n",
            "INFO:logs:Creating global containers\n",
            "INFO:logs:Internal pipeline: Pipeline(memory=None, steps=[('empty_step', 'passthrough')], verbose=False)\n",
            "WARNING:logs:Wrong xgboost version. Expected xgboost>=1.1.0, got xgboost==0.90\n",
            "WARNING:logs:Couldn't import catboost.CatBoostRegressor\n",
            "WARNING:logs:Wrong xgboost version. Expected xgboost>=1.1.0, got xgboost==0.90\n",
            "WARNING:logs:Couldn't import catboost.CatBoostRegressor\n",
            "INFO:logs:Creating grid variables\n",
            "INFO:logs:create_model_container: 0\n",
            "INFO:logs:master_model_container: 0\n",
            "INFO:logs:display_container: 1\n",
            "INFO:logs:Pipeline(memory=None,\n",
            "         steps=[('dtypes',\n",
            "                 DataTypes_Auto_infer(categorical_features=['Mes'],\n",
            "                                      display_types=False,\n",
            "                                      features_todrop=['Fecha', 'datetime'],\n",
            "                                      id_columns=[], ml_usecase='regression',\n",
            "                                      numerical_features=['Año', 'Mes', 'dia'],\n",
            "                                      target='Numero de Asegurados',\n",
            "                                      time_features=[])),\n",
            "                ('imputer',\n",
            "                 Simple_Imputer(categorical_strategy='not_available',\n",
            "                                fill_value_categor...\n",
            "                ('scaling', 'passthrough'), ('P_transform', 'passthrough'),\n",
            "                ('binn', 'passthrough'), ('rem_outliers', 'passthrough'),\n",
            "                ('cluster_all', 'passthrough'),\n",
            "                ('dummy', Dummify(target='Numero de Asegurados')),\n",
            "                ('fix_perfect', Remove_100(target='Numero de Asegurados')),\n",
            "                ('clean_names', Clean_Colum_Names()),\n",
            "                ('feature_select', 'passthrough'), ('fix_multi', 'passthrough'),\n",
            "                ('dfs', 'passthrough'), ('pca', 'passthrough')],\n",
            "         verbose=False)\n",
            "INFO:logs:setup() succesfully completed......................................\n"
          ]
        }
      ]
    },
    {
      "cell_type": "markdown",
      "source": [
        "## Comparación de algoritmos"
      ],
      "metadata": {
        "id": "ogusYZza5Q4e"
      }
    },
    {
      "cell_type": "code",
      "source": [
        "best = compare_models(sort = 'MAE')"
      ],
      "metadata": {
        "colab": {
          "base_uri": "https://localhost:8080/",
          "height": 787,
          "referenced_widgets": [
            "d6c008a4a927484ea00f5a2604f04aa4",
            "848784c3b9774cc688b06b9d921e228b",
            "15124a09e05744d2b1b78e099201115a"
          ]
        },
        "id": "D7kpbsnhjTYh",
        "outputId": "49b9b35b-5a98-4f98-9a1c-3ad0743014c5"
      },
      "execution_count": 164,
      "outputs": [
        {
          "output_type": "display_data",
          "data": {
            "text/plain": [
              "                                    Model          MAE           MSE  \\\n",
              "dt                Decision Tree Regressor   50180.4839  4.312003e+09   \n",
              "ada                    AdaBoost Regressor   50522.2724  4.385668e+09   \n",
              "gbr           Gradient Boosting Regressor   55174.7030  4.814357e+09   \n",
              "et                  Extra Trees Regressor   55640.5266  4.942066e+09   \n",
              "rf                Random Forest Regressor   57018.2184  5.138639e+09   \n",
              "huber                     Huber Regressor   66414.9316  7.394813e+09   \n",
              "dummy                     Dummy Regressor   66881.2430  7.481925e+09   \n",
              "br                         Bayesian Ridge   66881.2462  7.481925e+09   \n",
              "knn                 K Neighbors Regressor   79494.6882  9.085545e+09   \n",
              "lightgbm  Light Gradient Boosting Machine   79707.1295  9.590815e+09   \n",
              "en                            Elastic Net  104315.7742  1.440493e+10   \n",
              "llar         Lasso Least Angle Regression  105466.7048  1.738587e+10   \n",
              "lar                Least Angle Regression  105477.5875  1.739033e+10   \n",
              "lr                      Linear Regression  105480.8925  1.739156e+10   \n",
              "lasso                    Lasso Regression  105481.7527  1.739116e+10   \n",
              "omp           Orthogonal Matching Pursuit  105679.5396  1.655733e+10   \n",
              "ridge                    Ridge Regression  106095.1290  1.727223e+10   \n",
              "par          Passive Aggressive Regressor  140013.5832  2.171089e+10   \n",
              "\n",
              "                 RMSE       R2   RMSLE    MAPE  TT (Sec)  \n",
              "dt         59381.9704  -1.2543  0.0802  0.0658    0.0600  \n",
              "ada        58929.0913  -1.2367  0.0796  0.0663    0.1700  \n",
              "gbr        64344.2542  -1.6207  0.0869  0.0729    0.0633  \n",
              "et         64917.5525  -1.6796  0.0874  0.0735    0.4467  \n",
              "rf         66314.9550  -1.8070  0.0892  0.0755    0.5800  \n",
              "huber      73246.4528  -2.6577  0.1007  0.0868    0.0667  \n",
              "dummy      73196.1841  -2.7040  0.1007  0.0875    0.0300  \n",
              "br         73196.1882  -2.7040  0.1007  0.0875    0.0500  \n",
              "knn        88181.7367  -4.2642  0.1176  0.1068    0.0667  \n",
              "lightgbm   87731.2342  -4.0168  0.1191  0.1059    0.5367  \n",
              "en        113053.4525  -9.4654  0.1466  0.1447    0.0300  \n",
              "llar      113379.2518 -12.0178  0.1443  0.1487    0.0433  \n",
              "lar       113391.4995 -12.0215  0.1444  0.1487    0.0333  \n",
              "lr        113394.6142 -12.0223  0.1444  0.1487    1.3867  \n",
              "lasso     113394.7006 -12.0220  0.1444  0.1487    0.0200  \n",
              "omp       113175.9840 -11.3743  0.1445  0.1484    0.0500  \n",
              "ridge     113687.5306 -11.9214  0.1448  0.1493    0.0367  \n",
              "par       145695.4026 -15.6126  0.2003  0.1896    0.0533  "
            ],
            "text/html": [
              "\n",
              "  <div id=\"df-3f22e1e1-d3c6-4ed9-a7c5-c196ebcfb4d9\">\n",
              "    <div class=\"colab-df-container\">\n",
              "      <div>\n",
              "<style scoped>\n",
              "    .dataframe tbody tr th:only-of-type {\n",
              "        vertical-align: middle;\n",
              "    }\n",
              "\n",
              "    .dataframe tbody tr th {\n",
              "        vertical-align: top;\n",
              "    }\n",
              "\n",
              "    .dataframe thead th {\n",
              "        text-align: right;\n",
              "    }\n",
              "</style>\n",
              "<table border=\"1\" class=\"dataframe\">\n",
              "  <thead>\n",
              "    <tr style=\"text-align: right;\">\n",
              "      <th></th>\n",
              "      <th>Model</th>\n",
              "      <th>MAE</th>\n",
              "      <th>MSE</th>\n",
              "      <th>RMSE</th>\n",
              "      <th>R2</th>\n",
              "      <th>RMSLE</th>\n",
              "      <th>MAPE</th>\n",
              "      <th>TT (Sec)</th>\n",
              "    </tr>\n",
              "  </thead>\n",
              "  <tbody>\n",
              "    <tr>\n",
              "      <th>dt</th>\n",
              "      <td>Decision Tree Regressor</td>\n",
              "      <td>50180.4839</td>\n",
              "      <td>4.312003e+09</td>\n",
              "      <td>59381.9704</td>\n",
              "      <td>-1.2543</td>\n",
              "      <td>0.0802</td>\n",
              "      <td>0.0658</td>\n",
              "      <td>0.0600</td>\n",
              "    </tr>\n",
              "    <tr>\n",
              "      <th>ada</th>\n",
              "      <td>AdaBoost Regressor</td>\n",
              "      <td>50522.2724</td>\n",
              "      <td>4.385668e+09</td>\n",
              "      <td>58929.0913</td>\n",
              "      <td>-1.2367</td>\n",
              "      <td>0.0796</td>\n",
              "      <td>0.0663</td>\n",
              "      <td>0.1700</td>\n",
              "    </tr>\n",
              "    <tr>\n",
              "      <th>gbr</th>\n",
              "      <td>Gradient Boosting Regressor</td>\n",
              "      <td>55174.7030</td>\n",
              "      <td>4.814357e+09</td>\n",
              "      <td>64344.2542</td>\n",
              "      <td>-1.6207</td>\n",
              "      <td>0.0869</td>\n",
              "      <td>0.0729</td>\n",
              "      <td>0.0633</td>\n",
              "    </tr>\n",
              "    <tr>\n",
              "      <th>et</th>\n",
              "      <td>Extra Trees Regressor</td>\n",
              "      <td>55640.5266</td>\n",
              "      <td>4.942066e+09</td>\n",
              "      <td>64917.5525</td>\n",
              "      <td>-1.6796</td>\n",
              "      <td>0.0874</td>\n",
              "      <td>0.0735</td>\n",
              "      <td>0.4467</td>\n",
              "    </tr>\n",
              "    <tr>\n",
              "      <th>rf</th>\n",
              "      <td>Random Forest Regressor</td>\n",
              "      <td>57018.2184</td>\n",
              "      <td>5.138639e+09</td>\n",
              "      <td>66314.9550</td>\n",
              "      <td>-1.8070</td>\n",
              "      <td>0.0892</td>\n",
              "      <td>0.0755</td>\n",
              "      <td>0.5800</td>\n",
              "    </tr>\n",
              "    <tr>\n",
              "      <th>huber</th>\n",
              "      <td>Huber Regressor</td>\n",
              "      <td>66414.9316</td>\n",
              "      <td>7.394813e+09</td>\n",
              "      <td>73246.4528</td>\n",
              "      <td>-2.6577</td>\n",
              "      <td>0.1007</td>\n",
              "      <td>0.0868</td>\n",
              "      <td>0.0667</td>\n",
              "    </tr>\n",
              "    <tr>\n",
              "      <th>dummy</th>\n",
              "      <td>Dummy Regressor</td>\n",
              "      <td>66881.2430</td>\n",
              "      <td>7.481925e+09</td>\n",
              "      <td>73196.1841</td>\n",
              "      <td>-2.7040</td>\n",
              "      <td>0.1007</td>\n",
              "      <td>0.0875</td>\n",
              "      <td>0.0300</td>\n",
              "    </tr>\n",
              "    <tr>\n",
              "      <th>br</th>\n",
              "      <td>Bayesian Ridge</td>\n",
              "      <td>66881.2462</td>\n",
              "      <td>7.481925e+09</td>\n",
              "      <td>73196.1882</td>\n",
              "      <td>-2.7040</td>\n",
              "      <td>0.1007</td>\n",
              "      <td>0.0875</td>\n",
              "      <td>0.0500</td>\n",
              "    </tr>\n",
              "    <tr>\n",
              "      <th>knn</th>\n",
              "      <td>K Neighbors Regressor</td>\n",
              "      <td>79494.6882</td>\n",
              "      <td>9.085545e+09</td>\n",
              "      <td>88181.7367</td>\n",
              "      <td>-4.2642</td>\n",
              "      <td>0.1176</td>\n",
              "      <td>0.1068</td>\n",
              "      <td>0.0667</td>\n",
              "    </tr>\n",
              "    <tr>\n",
              "      <th>lightgbm</th>\n",
              "      <td>Light Gradient Boosting Machine</td>\n",
              "      <td>79707.1295</td>\n",
              "      <td>9.590815e+09</td>\n",
              "      <td>87731.2342</td>\n",
              "      <td>-4.0168</td>\n",
              "      <td>0.1191</td>\n",
              "      <td>0.1059</td>\n",
              "      <td>0.5367</td>\n",
              "    </tr>\n",
              "    <tr>\n",
              "      <th>en</th>\n",
              "      <td>Elastic Net</td>\n",
              "      <td>104315.7742</td>\n",
              "      <td>1.440493e+10</td>\n",
              "      <td>113053.4525</td>\n",
              "      <td>-9.4654</td>\n",
              "      <td>0.1466</td>\n",
              "      <td>0.1447</td>\n",
              "      <td>0.0300</td>\n",
              "    </tr>\n",
              "    <tr>\n",
              "      <th>llar</th>\n",
              "      <td>Lasso Least Angle Regression</td>\n",
              "      <td>105466.7048</td>\n",
              "      <td>1.738587e+10</td>\n",
              "      <td>113379.2518</td>\n",
              "      <td>-12.0178</td>\n",
              "      <td>0.1443</td>\n",
              "      <td>0.1487</td>\n",
              "      <td>0.0433</td>\n",
              "    </tr>\n",
              "    <tr>\n",
              "      <th>lar</th>\n",
              "      <td>Least Angle Regression</td>\n",
              "      <td>105477.5875</td>\n",
              "      <td>1.739033e+10</td>\n",
              "      <td>113391.4995</td>\n",
              "      <td>-12.0215</td>\n",
              "      <td>0.1444</td>\n",
              "      <td>0.1487</td>\n",
              "      <td>0.0333</td>\n",
              "    </tr>\n",
              "    <tr>\n",
              "      <th>lr</th>\n",
              "      <td>Linear Regression</td>\n",
              "      <td>105480.8925</td>\n",
              "      <td>1.739156e+10</td>\n",
              "      <td>113394.6142</td>\n",
              "      <td>-12.0223</td>\n",
              "      <td>0.1444</td>\n",
              "      <td>0.1487</td>\n",
              "      <td>1.3867</td>\n",
              "    </tr>\n",
              "    <tr>\n",
              "      <th>lasso</th>\n",
              "      <td>Lasso Regression</td>\n",
              "      <td>105481.7527</td>\n",
              "      <td>1.739116e+10</td>\n",
              "      <td>113394.7006</td>\n",
              "      <td>-12.0220</td>\n",
              "      <td>0.1444</td>\n",
              "      <td>0.1487</td>\n",
              "      <td>0.0200</td>\n",
              "    </tr>\n",
              "    <tr>\n",
              "      <th>omp</th>\n",
              "      <td>Orthogonal Matching Pursuit</td>\n",
              "      <td>105679.5396</td>\n",
              "      <td>1.655733e+10</td>\n",
              "      <td>113175.9840</td>\n",
              "      <td>-11.3743</td>\n",
              "      <td>0.1445</td>\n",
              "      <td>0.1484</td>\n",
              "      <td>0.0500</td>\n",
              "    </tr>\n",
              "    <tr>\n",
              "      <th>ridge</th>\n",
              "      <td>Ridge Regression</td>\n",
              "      <td>106095.1290</td>\n",
              "      <td>1.727223e+10</td>\n",
              "      <td>113687.5306</td>\n",
              "      <td>-11.9214</td>\n",
              "      <td>0.1448</td>\n",
              "      <td>0.1493</td>\n",
              "      <td>0.0367</td>\n",
              "    </tr>\n",
              "    <tr>\n",
              "      <th>par</th>\n",
              "      <td>Passive Aggressive Regressor</td>\n",
              "      <td>140013.5832</td>\n",
              "      <td>2.171089e+10</td>\n",
              "      <td>145695.4026</td>\n",
              "      <td>-15.6126</td>\n",
              "      <td>0.2003</td>\n",
              "      <td>0.1896</td>\n",
              "      <td>0.0533</td>\n",
              "    </tr>\n",
              "  </tbody>\n",
              "</table>\n",
              "</div>\n",
              "      <button class=\"colab-df-convert\" onclick=\"convertToInteractive('df-3f22e1e1-d3c6-4ed9-a7c5-c196ebcfb4d9')\"\n",
              "              title=\"Convert this dataframe to an interactive table.\"\n",
              "              style=\"display:none;\">\n",
              "        \n",
              "  <svg xmlns=\"http://www.w3.org/2000/svg\" height=\"24px\"viewBox=\"0 0 24 24\"\n",
              "       width=\"24px\">\n",
              "    <path d=\"M0 0h24v24H0V0z\" fill=\"none\"/>\n",
              "    <path d=\"M18.56 5.44l.94 2.06.94-2.06 2.06-.94-2.06-.94-.94-2.06-.94 2.06-2.06.94zm-11 1L8.5 8.5l.94-2.06 2.06-.94-2.06-.94L8.5 2.5l-.94 2.06-2.06.94zm10 10l.94 2.06.94-2.06 2.06-.94-2.06-.94-.94-2.06-.94 2.06-2.06.94z\"/><path d=\"M17.41 7.96l-1.37-1.37c-.4-.4-.92-.59-1.43-.59-.52 0-1.04.2-1.43.59L10.3 9.45l-7.72 7.72c-.78.78-.78 2.05 0 2.83L4 21.41c.39.39.9.59 1.41.59.51 0 1.02-.2 1.41-.59l7.78-7.78 2.81-2.81c.8-.78.8-2.07 0-2.86zM5.41 20L4 18.59l7.72-7.72 1.47 1.35L5.41 20z\"/>\n",
              "  </svg>\n",
              "      </button>\n",
              "      \n",
              "  <style>\n",
              "    .colab-df-container {\n",
              "      display:flex;\n",
              "      flex-wrap:wrap;\n",
              "      gap: 12px;\n",
              "    }\n",
              "\n",
              "    .colab-df-convert {\n",
              "      background-color: #E8F0FE;\n",
              "      border: none;\n",
              "      border-radius: 50%;\n",
              "      cursor: pointer;\n",
              "      display: none;\n",
              "      fill: #1967D2;\n",
              "      height: 32px;\n",
              "      padding: 0 0 0 0;\n",
              "      width: 32px;\n",
              "    }\n",
              "\n",
              "    .colab-df-convert:hover {\n",
              "      background-color: #E2EBFA;\n",
              "      box-shadow: 0px 1px 2px rgba(60, 64, 67, 0.3), 0px 1px 3px 1px rgba(60, 64, 67, 0.15);\n",
              "      fill: #174EA6;\n",
              "    }\n",
              "\n",
              "    [theme=dark] .colab-df-convert {\n",
              "      background-color: #3B4455;\n",
              "      fill: #D2E3FC;\n",
              "    }\n",
              "\n",
              "    [theme=dark] .colab-df-convert:hover {\n",
              "      background-color: #434B5C;\n",
              "      box-shadow: 0px 1px 3px 1px rgba(0, 0, 0, 0.15);\n",
              "      filter: drop-shadow(0px 1px 2px rgba(0, 0, 0, 0.3));\n",
              "      fill: #FFFFFF;\n",
              "    }\n",
              "  </style>\n",
              "\n",
              "      <script>\n",
              "        const buttonEl =\n",
              "          document.querySelector('#df-3f22e1e1-d3c6-4ed9-a7c5-c196ebcfb4d9 button.colab-df-convert');\n",
              "        buttonEl.style.display =\n",
              "          google.colab.kernel.accessAllowed ? 'block' : 'none';\n",
              "\n",
              "        async function convertToInteractive(key) {\n",
              "          const element = document.querySelector('#df-3f22e1e1-d3c6-4ed9-a7c5-c196ebcfb4d9');\n",
              "          const dataTable =\n",
              "            await google.colab.kernel.invokeFunction('convertToInteractive',\n",
              "                                                     [key], {});\n",
              "          if (!dataTable) return;\n",
              "\n",
              "          const docLinkHtml = 'Like what you see? Visit the ' +\n",
              "            '<a target=\"_blank\" href=https://colab.research.google.com/notebooks/data_table.ipynb>data table notebook</a>'\n",
              "            + ' to learn more about interactive tables.';\n",
              "          element.innerHTML = '';\n",
              "          dataTable['output_type'] = 'display_data';\n",
              "          await google.colab.output.renderOutput(dataTable, element);\n",
              "          const docLink = document.createElement('div');\n",
              "          docLink.innerHTML = docLinkHtml;\n",
              "          element.appendChild(docLink);\n",
              "        }\n",
              "      </script>\n",
              "    </div>\n",
              "  </div>\n",
              "  "
            ]
          },
          "metadata": {}
        },
        {
          "output_type": "stream",
          "name": "stderr",
          "text": [
            "INFO:logs:create_model_container: 18\n",
            "INFO:logs:master_model_container: 18\n",
            "INFO:logs:display_container: 2\n",
            "INFO:logs:DecisionTreeRegressor(ccp_alpha=0.0, criterion='mse', max_depth=None,\n",
            "                      max_features=None, max_leaf_nodes=None,\n",
            "                      min_impurity_decrease=0.0, min_impurity_split=None,\n",
            "                      min_samples_leaf=1, min_samples_split=2,\n",
            "                      min_weight_fraction_leaf=0.0, presort='deprecated',\n",
            "                      random_state=123, splitter='best')\n",
            "INFO:logs:compare_models() succesfully completed......................................\n"
          ]
        }
      ]
    },
    {
      "cell_type": "markdown",
      "source": [
        "## Seleccion de algoritmo para modelo"
      ],
      "metadata": {
        "id": "xMZRyCEr74o2"
      }
    },
    {
      "cell_type": "code",
      "source": [
        "best_model = create_model('dt', verbose = False)\n",
        "f = finalize_model(best_model)"
      ],
      "metadata": {
        "id": "w8DTk1l5jbEk",
        "colab": {
          "base_uri": "https://localhost:8080/"
        },
        "outputId": "42d76aad-edeb-4d18-f7dc-d470c3c2bafc"
      },
      "execution_count": 199,
      "outputs": [
        {
          "output_type": "stream",
          "name": "stderr",
          "text": [
            "INFO:logs:Initializing create_model()\n",
            "INFO:logs:create_model(estimator=dt, fold=None, round=4, cross_validation=True, predict=True, fit_kwargs=None, groups=None, refit=True, verbose=False, system=True, metrics=None, experiment_custom_tags=None, add_to_model_list=True, probability_threshold=None, display=None, return_train_score=False, kwargs={})\n",
            "INFO:logs:Checking exceptions\n",
            "INFO:logs:Importing libraries\n",
            "INFO:logs:Copying training dataset\n",
            "INFO:logs:Defining folds\n",
            "INFO:logs:Declaring metric variables\n",
            "INFO:logs:Importing untrained model\n",
            "INFO:logs:Decision Tree Regressor Imported succesfully\n",
            "INFO:logs:Starting cross validation\n",
            "INFO:logs:Cross validating with TimeSeriesSplit(max_train_size=None, n_splits=3), n_jobs=-1\n",
            "INFO:logs:Calculating mean and std\n",
            "INFO:logs:Creating metrics dataframe\n",
            "INFO:logs:Finalizing model\n",
            "INFO:logs:Uploading results into container\n",
            "INFO:logs:Uploading model into container now\n",
            "INFO:logs:create_model_container: 23\n",
            "INFO:logs:master_model_container: 23\n",
            "INFO:logs:display_container: 7\n",
            "INFO:logs:DecisionTreeRegressor(ccp_alpha=0.0, criterion='mse', max_depth=None,\n",
            "                      max_features=None, max_leaf_nodes=None,\n",
            "                      min_impurity_decrease=0.0, min_impurity_split=None,\n",
            "                      min_samples_leaf=1, min_samples_split=2,\n",
            "                      min_weight_fraction_leaf=0.0, presort='deprecated',\n",
            "                      random_state=123, splitter='best')\n",
            "INFO:logs:create_model() succesfully completed......................................\n",
            "INFO:logs:Initializing finalize_model()\n",
            "INFO:logs:finalize_model(estimator=DecisionTreeRegressor(ccp_alpha=0.0, criterion='mse', max_depth=None,\n",
            "                      max_features=None, max_leaf_nodes=None,\n",
            "                      min_impurity_decrease=0.0, min_impurity_split=None,\n",
            "                      min_samples_leaf=1, min_samples_split=2,\n",
            "                      min_weight_fraction_leaf=0.0, presort='deprecated',\n",
            "                      random_state=123, splitter='best'), fit_kwargs=None, groups=None, model_only=True, display=None, experiment_custom_tags=None, return_train_score=False)\n",
            "INFO:logs:Finalizing DecisionTreeRegressor(ccp_alpha=0.0, criterion='mse', max_depth=None,\n",
            "                      max_features=None, max_leaf_nodes=None,\n",
            "                      min_impurity_decrease=0.0, min_impurity_split=None,\n",
            "                      min_samples_leaf=1, min_samples_split=2,\n",
            "                      min_weight_fraction_leaf=0.0, presort='deprecated',\n",
            "                      random_state=123, splitter='best')\n",
            "INFO:logs:Initializing create_model()\n",
            "INFO:logs:create_model(estimator=DecisionTreeRegressor(ccp_alpha=0.0, criterion='mse', max_depth=None,\n",
            "                      max_features=None, max_leaf_nodes=None,\n",
            "                      min_impurity_decrease=0.0, min_impurity_split=None,\n",
            "                      min_samples_leaf=1, min_samples_split=2,\n",
            "                      min_weight_fraction_leaf=0.0, presort='deprecated',\n",
            "                      random_state=123, splitter='best'), fold=None, round=4, cross_validation=True, predict=True, fit_kwargs={}, groups=None, refit=True, verbose=False, system=False, metrics=None, experiment_custom_tags=None, add_to_model_list=False, probability_threshold=None, display=None, return_train_score=False, kwargs={})\n",
            "INFO:logs:Checking exceptions\n",
            "INFO:logs:Importing libraries\n",
            "INFO:logs:Copying training dataset\n",
            "INFO:logs:Defining folds\n",
            "INFO:logs:Declaring metric variables\n",
            "INFO:logs:Importing untrained model\n",
            "INFO:logs:Declaring custom model\n",
            "INFO:logs:Decision Tree Regressor Imported succesfully\n",
            "INFO:logs:Starting cross validation\n",
            "INFO:logs:Cross validating with TimeSeriesSplit(max_train_size=None, n_splits=3), n_jobs=-1\n",
            "INFO:logs:Calculating mean and std\n",
            "INFO:logs:Creating metrics dataframe\n",
            "INFO:logs:Finalizing model\n",
            "INFO:logs:create_model_container: 23\n",
            "INFO:logs:master_model_container: 23\n",
            "INFO:logs:display_container: 8\n",
            "INFO:logs:DecisionTreeRegressor(ccp_alpha=0.0, criterion='mse', max_depth=None,\n",
            "                      max_features=None, max_leaf_nodes=None,\n",
            "                      min_impurity_decrease=0.0, min_impurity_split=None,\n",
            "                      min_samples_leaf=1, min_samples_split=2,\n",
            "                      min_weight_fraction_leaf=0.0, presort='deprecated',\n",
            "                      random_state=123, splitter='best')\n",
            "INFO:logs:create_model() succesfully completed......................................\n",
            "INFO:logs:create_model_container: 23\n",
            "INFO:logs:master_model_container: 23\n",
            "INFO:logs:display_container: 7\n",
            "INFO:logs:DecisionTreeRegressor(ccp_alpha=0.0, criterion='mse', max_depth=None,\n",
            "                      max_features=None, max_leaf_nodes=None,\n",
            "                      min_impurity_decrease=0.0, min_impurity_split=None,\n",
            "                      min_samples_leaf=1, min_samples_split=2,\n",
            "                      min_weight_fraction_leaf=0.0, presort='deprecated',\n",
            "                      random_state=123, splitter='best')\n",
            "INFO:logs:finalize_model() succesfully completed......................................\n"
          ]
        }
      ]
    },
    {
      "cell_type": "markdown",
      "source": [
        "## Preparando dataframe para predicción"
      ],
      "metadata": {
        "id": "l31EUAP18EDZ"
      }
    },
    {
      "cell_type": "code",
      "source": [
        "all_dates = pd.date_range(start='2012-01-01', end = '2024-12-01', freq = 'd')\n",
        "# dataframe vacio\n",
        "score_df = pd.DataFrame()\n",
        "# añadiendo columnas al dataset\n",
        "score_df['Fecha'] = all_dates\n",
        "score_df['datetime'] = pd.to_datetime(score_df['Fecha'])\n",
        "score_df['Año'] = [i.year for i in score_df['Fecha']]\n",
        "score_df['Mes'] = [i.month for i in score_df['Fecha']]\n",
        "score_df['dia'] = [i.day for i in score_df['Fecha']]\n",
        "\n",
        "p = predict_model(best_model, data = score_df)   \n",
        "\n",
        "\n",
        "  \n",
        "\n",
        " "
      ],
      "metadata": {
        "id": "LlAUfWj_j8kx",
        "colab": {
          "base_uri": "https://localhost:8080/"
        },
        "outputId": "d8eab42f-8de5-4681-cf00-21a232e13c7f"
      },
      "execution_count": 200,
      "outputs": [
        {
          "output_type": "stream",
          "name": "stderr",
          "text": [
            "INFO:logs:Initializing predict_model()\n",
            "INFO:logs:predict_model(estimator=DecisionTreeRegressor(ccp_alpha=0.0, criterion='mse', max_depth=None,\n",
            "                      max_features=None, max_leaf_nodes=None,\n",
            "                      min_impurity_decrease=0.0, min_impurity_split=None,\n",
            "                      min_samples_leaf=1, min_samples_split=2,\n",
            "                      min_weight_fraction_leaf=0.0, presort='deprecated',\n",
            "                      random_state=123, splitter='best'), probability_threshold=None, encoded_labels=True, drift_report=False, raw_score=False, round=4, verbose=True, ml_usecase=MLUsecase.REGRESSION, display=None, drift_kwargs=None)\n",
            "INFO:logs:Checking exceptions\n",
            "INFO:logs:Preloading libraries\n",
            "INFO:logs:Preparing display monitor\n"
          ]
        }
      ]
    },
    {
      "cell_type": "markdown",
      "source": [
        "## Filtrando dataframes para graficar"
      ],
      "metadata": {
        "id": "EXDj0eJo9QEz"
      }
    },
    {
      "cell_type": "code",
      "source": [
        "data = data[data['datetime'] <= '2022-12-01']\n",
        "p = p[p['datetime'] > '2022-12-01']"
      ],
      "metadata": {
        "id": "CLaR_p-Yhqda"
      },
      "execution_count": 201,
      "outputs": []
    },
    {
      "cell_type": "markdown",
      "source": [
        "## Grafica proyección"
      ],
      "metadata": {
        "id": "M_NJyFRr9Y2R"
      }
    },
    {
      "cell_type": "code",
      "source": [
        "import plotly.graph_objects as go\n",
        "fig = go.Figure()\n",
        "\n",
        "fig.add_trace(go.Scatter(x = data[\"Fecha\"], y = data[\"Numero de Asegurados\"], mode='lines', name='Histórico'))\n",
        "fig.add_trace(go.Scatter(x = p[\"Fecha\"], y = p[\"Label\"], mode = 'lines+markers', name='Proyección'))\n",
        "\n",
        "fig.show()"
      ],
      "metadata": {
        "colab": {
          "base_uri": "https://localhost:8080/",
          "height": 542
        },
        "id": "ooBxSCi3ncgB",
        "outputId": "c729c0b1-e581-41ec-9ffa-f23b74d115bd"
      },
      "execution_count": 208,
      "outputs": [
        {
          "output_type": "display_data",
          "data": {
            "text/html": [
              "<html>\n",
              "<head><meta charset=\"utf-8\" /></head>\n",
              "<body>\n",
              "    <div>            <script src=\"https://cdnjs.cloudflare.com/ajax/libs/mathjax/2.7.5/MathJax.js?config=TeX-AMS-MML_SVG\"></script><script type=\"text/javascript\">if (window.MathJax) {MathJax.Hub.Config({SVG: {font: \"STIX-Web\"}});}</script>                <script type=\"text/javascript\">window.PlotlyConfig = {MathJaxConfig: 'local'};</script>\n",
              "        <script src=\"https://cdn.plot.ly/plotly-2.8.3.min.js\"></script>                <div id=\"42ad9445-2c1b-4e31-8098-b3607cc0fb1d\" class=\"plotly-graph-div\" style=\"height:525px; width:100%;\"></div>            <script type=\"text/javascript\">                                    window.PLOTLYENV=window.PLOTLYENV || {};                                    if (document.getElementById(\"42ad9445-2c1b-4e31-8098-b3607cc0fb1d\")) {                    Plotly.newPlot(                        \"42ad9445-2c1b-4e31-8098-b3607cc0fb1d\",                        [{\"mode\":\"lines\",\"name\":\"Hist\\u00f3rico\",\"x\":[\"1/1/2012\",\"1/2/2012\",\"1/3/2012\",\"1/4/2012\",\"1/5/2012\",\"1/6/2012\",\"1/7/2012\",\"1/8/2012\",\"1/9/2012\",\"1/10/2012\",\"1/11/2012\",\"1/12/2012\",\"1/1/2013\",\"1/2/2013\",\"1/3/2013\",\"1/4/2013\",\"1/5/2013\",\"1/6/2013\",\"1/7/2013\",\"1/8/2013\",\"1/9/2013\",\"1/10/2013\",\"1/11/2013\",\"1/12/2013\",\"1/1/2014\",\"1/2/2014\",\"1/3/2014\",\"1/4/2014\",\"1/5/2014\",\"1/6/2014\",\"1/7/2014\",\"1/8/2014\",\"1/9/2014\",\"1/10/2014\",\"1/11/2014\",\"1/12/2014\",\"1/1/2015\",\"1/2/2015\",\"1/3/2015\",\"1/4/2015\",\"1/5/2015\",\"1/6/2015\",\"1/7/2015\",\"1/8/2015\",\"1/9/2015\",\"1/10/2015\",\"1/11/2015\",\"1/12/2015\",\"1/1/2016\",\"1/2/2016\",\"1/3/2016\",\"1/4/2016\",\"1/5/2016\",\"1/6/2016\",\"1/7/2016\",\"1/8/2016\",\"1/9/2016\",\"1/10/2016\",\"1/11/2016\",\"1/12/2016\",\"1/1/2017\",\"1/2/2017\",\"1/3/2017\",\"1/4/2017\",\"1/5/2017\",\"1/6/2017\",\"1/7/2017\",\"1/8/2017\",\"1/9/2017\",\"1/10/2017\",\"1/11/2017\",\"1/12/2017\",\"1/1/2018\",\"1/2/2018\",\"1/3/2018\",\"1/4/2018\",\"1/5/2018\",\"1/6/2018\",\"1/7/2018\",\"1/8/2018\",\"1/9/2018\",\"1/10/2018\",\"1/11/2018\",\"1/12/2018\",\"1/1/2019\",\"1/2/2019\",\"1/3/2019\",\"1/4/2019\",\"1/5/2019\",\"1/6/2019\",\"1/7/2019\",\"1/8/2019\",\"1/9/2019\",\"1/10/2019\",\"1/11/2019\",\"1/12/2019\",\"1/1/2020\",\"1/2/2020\",\"1/3/2020\",\"1/4/2020\",\"1/5/2020\",\"1/6/2020\",\"1/7/2020\",\"1/8/2020\",\"1/9/2020\",\"1/10/2020\",\"1/11/2020\",\"1/12/2020\",\"1/1/2021\",\"1/2/2021\",\"1/3/2021\",\"1/4/2021\",\"1/5/2021\",\"1/6/2021\",\"1/7/2021\",\"1/8/2021\",\"1/9/2021\",\"1/10/2021\",\"1/11/2021\",\"1/12/2021\",\"1/1/2022\",\"1/2/2022\",\"1/3/2022\",\"1/4/2022\",\"1/5/2022\",\"1/6/2022\",\"1/7/2022\",\"1/8/2022\",\"1/9/2022\",\"1/10/2022\",\"1/11/2022\",\"1/12/2022\"],\"y\":[603160,612813,616574,616036,626015,622641,623115,624644,624099,627408,641451,643538,651130,661617,664051,669625,673951,675391,676207,678861,673116,677667,692167,687804,690870,698226,705692,702076,711910,709019,709240,710907,710087,716037,731774,725014,732885,743822,753626,755434,769880,770317,774810,781638,784168,795991,807678,810654,824865,835631,838030,840436,842849,845268,847695,850129,852569,855017,857472,859933,738018,747669,752662,752277,756177,753825,751209,748804,747029,750441,761356,758663,767972,777055,783794,781371,771331,740106,712782,701775,695575,694657,701217,696644,698245,696934,693919,685118,684654,677281,672334,668811,663115,667274,676616,674881,681311,689615,687441,668373,658028,648019,645696,648613,649338,660318,666882,675578,688607,696666,703638,705587,711587,709666,710019,710136,707489,715439,726154,721975,731705,736827,744934,741484,741490,753201,755908,758571,761201,763805,766387,768950],\"type\":\"scatter\"},{\"mode\":\"lines+markers\",\"name\":\"Proyecci\\u00f3n\",\"x\":[\"2022-12-02T00:00:00\",\"2022-12-03T00:00:00\",\"2022-12-04T00:00:00\",\"2022-12-05T00:00:00\",\"2022-12-06T00:00:00\",\"2022-12-07T00:00:00\",\"2022-12-08T00:00:00\",\"2022-12-09T00:00:00\",\"2022-12-10T00:00:00\",\"2022-12-11T00:00:00\",\"2022-12-12T00:00:00\",\"2022-12-13T00:00:00\",\"2022-12-14T00:00:00\",\"2022-12-15T00:00:00\",\"2022-12-16T00:00:00\",\"2022-12-17T00:00:00\",\"2022-12-18T00:00:00\",\"2022-12-19T00:00:00\",\"2022-12-20T00:00:00\",\"2022-12-21T00:00:00\",\"2022-12-22T00:00:00\",\"2022-12-23T00:00:00\",\"2022-12-24T00:00:00\",\"2022-12-25T00:00:00\",\"2022-12-26T00:00:00\",\"2022-12-27T00:00:00\",\"2022-12-28T00:00:00\",\"2022-12-29T00:00:00\",\"2022-12-30T00:00:00\",\"2022-12-31T00:00:00\",\"2023-01-01T00:00:00\",\"2023-01-02T00:00:00\",\"2023-01-03T00:00:00\",\"2023-01-04T00:00:00\",\"2023-01-05T00:00:00\",\"2023-01-06T00:00:00\",\"2023-01-07T00:00:00\",\"2023-01-08T00:00:00\",\"2023-01-09T00:00:00\",\"2023-01-10T00:00:00\",\"2023-01-11T00:00:00\",\"2023-01-12T00:00:00\",\"2023-01-13T00:00:00\",\"2023-01-14T00:00:00\",\"2023-01-15T00:00:00\",\"2023-01-16T00:00:00\",\"2023-01-17T00:00:00\",\"2023-01-18T00:00:00\",\"2023-01-19T00:00:00\",\"2023-01-20T00:00:00\",\"2023-01-21T00:00:00\",\"2023-01-22T00:00:00\",\"2023-01-23T00:00:00\",\"2023-01-24T00:00:00\",\"2023-01-25T00:00:00\",\"2023-01-26T00:00:00\",\"2023-01-27T00:00:00\",\"2023-01-28T00:00:00\",\"2023-01-29T00:00:00\",\"2023-01-30T00:00:00\",\"2023-01-31T00:00:00\",\"2023-02-01T00:00:00\",\"2023-02-02T00:00:00\",\"2023-02-03T00:00:00\",\"2023-02-04T00:00:00\",\"2023-02-05T00:00:00\",\"2023-02-06T00:00:00\",\"2023-02-07T00:00:00\",\"2023-02-08T00:00:00\",\"2023-02-09T00:00:00\",\"2023-02-10T00:00:00\",\"2023-02-11T00:00:00\",\"2023-02-12T00:00:00\",\"2023-02-13T00:00:00\",\"2023-02-14T00:00:00\",\"2023-02-15T00:00:00\",\"2023-02-16T00:00:00\",\"2023-02-17T00:00:00\",\"2023-02-18T00:00:00\",\"2023-02-19T00:00:00\",\"2023-02-20T00:00:00\",\"2023-02-21T00:00:00\",\"2023-02-22T00:00:00\",\"2023-02-23T00:00:00\",\"2023-02-24T00:00:00\",\"2023-02-25T00:00:00\",\"2023-02-26T00:00:00\",\"2023-02-27T00:00:00\",\"2023-02-28T00:00:00\",\"2023-03-01T00:00:00\",\"2023-03-02T00:00:00\",\"2023-03-03T00:00:00\",\"2023-03-04T00:00:00\",\"2023-03-05T00:00:00\",\"2023-03-06T00:00:00\",\"2023-03-07T00:00:00\",\"2023-03-08T00:00:00\",\"2023-03-09T00:00:00\",\"2023-03-10T00:00:00\",\"2023-03-11T00:00:00\",\"2023-03-12T00:00:00\",\"2023-03-13T00:00:00\",\"2023-03-14T00:00:00\",\"2023-03-15T00:00:00\",\"2023-03-16T00:00:00\",\"2023-03-17T00:00:00\",\"2023-03-18T00:00:00\",\"2023-03-19T00:00:00\",\"2023-03-20T00:00:00\",\"2023-03-21T00:00:00\",\"2023-03-22T00:00:00\",\"2023-03-23T00:00:00\",\"2023-03-24T00:00:00\",\"2023-03-25T00:00:00\",\"2023-03-26T00:00:00\",\"2023-03-27T00:00:00\",\"2023-03-28T00:00:00\",\"2023-03-29T00:00:00\",\"2023-03-30T00:00:00\",\"2023-03-31T00:00:00\",\"2023-04-01T00:00:00\",\"2023-04-02T00:00:00\",\"2023-04-03T00:00:00\",\"2023-04-04T00:00:00\",\"2023-04-05T00:00:00\",\"2023-04-06T00:00:00\",\"2023-04-07T00:00:00\",\"2023-04-08T00:00:00\",\"2023-04-09T00:00:00\",\"2023-04-10T00:00:00\",\"2023-04-11T00:00:00\",\"2023-04-12T00:00:00\",\"2023-04-13T00:00:00\",\"2023-04-14T00:00:00\",\"2023-04-15T00:00:00\",\"2023-04-16T00:00:00\",\"2023-04-17T00:00:00\",\"2023-04-18T00:00:00\",\"2023-04-19T00:00:00\",\"2023-04-20T00:00:00\",\"2023-04-21T00:00:00\",\"2023-04-22T00:00:00\",\"2023-04-23T00:00:00\",\"2023-04-24T00:00:00\",\"2023-04-25T00:00:00\",\"2023-04-26T00:00:00\",\"2023-04-27T00:00:00\",\"2023-04-28T00:00:00\",\"2023-04-29T00:00:00\",\"2023-04-30T00:00:00\",\"2023-05-01T00:00:00\",\"2023-05-02T00:00:00\",\"2023-05-03T00:00:00\",\"2023-05-04T00:00:00\",\"2023-05-05T00:00:00\",\"2023-05-06T00:00:00\",\"2023-05-07T00:00:00\",\"2023-05-08T00:00:00\",\"2023-05-09T00:00:00\",\"2023-05-10T00:00:00\",\"2023-05-11T00:00:00\",\"2023-05-12T00:00:00\",\"2023-05-13T00:00:00\",\"2023-05-14T00:00:00\",\"2023-05-15T00:00:00\",\"2023-05-16T00:00:00\",\"2023-05-17T00:00:00\",\"2023-05-18T00:00:00\",\"2023-05-19T00:00:00\",\"2023-05-20T00:00:00\",\"2023-05-21T00:00:00\",\"2023-05-22T00:00:00\",\"2023-05-23T00:00:00\",\"2023-05-24T00:00:00\",\"2023-05-25T00:00:00\",\"2023-05-26T00:00:00\",\"2023-05-27T00:00:00\",\"2023-05-28T00:00:00\",\"2023-05-29T00:00:00\",\"2023-05-30T00:00:00\",\"2023-05-31T00:00:00\",\"2023-06-01T00:00:00\",\"2023-06-02T00:00:00\",\"2023-06-03T00:00:00\",\"2023-06-04T00:00:00\",\"2023-06-05T00:00:00\",\"2023-06-06T00:00:00\",\"2023-06-07T00:00:00\",\"2023-06-08T00:00:00\",\"2023-06-09T00:00:00\",\"2023-06-10T00:00:00\",\"2023-06-11T00:00:00\",\"2023-06-12T00:00:00\",\"2023-06-13T00:00:00\",\"2023-06-14T00:00:00\",\"2023-06-15T00:00:00\",\"2023-06-16T00:00:00\",\"2023-06-17T00:00:00\",\"2023-06-18T00:00:00\",\"2023-06-19T00:00:00\",\"2023-06-20T00:00:00\",\"2023-06-21T00:00:00\",\"2023-06-22T00:00:00\",\"2023-06-23T00:00:00\",\"2023-06-24T00:00:00\",\"2023-06-25T00:00:00\",\"2023-06-26T00:00:00\",\"2023-06-27T00:00:00\",\"2023-06-28T00:00:00\",\"2023-06-29T00:00:00\",\"2023-06-30T00:00:00\",\"2023-07-01T00:00:00\",\"2023-07-02T00:00:00\",\"2023-07-03T00:00:00\",\"2023-07-04T00:00:00\",\"2023-07-05T00:00:00\",\"2023-07-06T00:00:00\",\"2023-07-07T00:00:00\",\"2023-07-08T00:00:00\",\"2023-07-09T00:00:00\",\"2023-07-10T00:00:00\",\"2023-07-11T00:00:00\",\"2023-07-12T00:00:00\",\"2023-07-13T00:00:00\",\"2023-07-14T00:00:00\",\"2023-07-15T00:00:00\",\"2023-07-16T00:00:00\",\"2023-07-17T00:00:00\",\"2023-07-18T00:00:00\",\"2023-07-19T00:00:00\",\"2023-07-20T00:00:00\",\"2023-07-21T00:00:00\",\"2023-07-22T00:00:00\",\"2023-07-23T00:00:00\",\"2023-07-24T00:00:00\",\"2023-07-25T00:00:00\",\"2023-07-26T00:00:00\",\"2023-07-27T00:00:00\",\"2023-07-28T00:00:00\",\"2023-07-29T00:00:00\",\"2023-07-30T00:00:00\",\"2023-07-31T00:00:00\",\"2023-08-01T00:00:00\",\"2023-08-02T00:00:00\",\"2023-08-03T00:00:00\",\"2023-08-04T00:00:00\",\"2023-08-05T00:00:00\",\"2023-08-06T00:00:00\",\"2023-08-07T00:00:00\",\"2023-08-08T00:00:00\",\"2023-08-09T00:00:00\",\"2023-08-10T00:00:00\",\"2023-08-11T00:00:00\",\"2023-08-12T00:00:00\",\"2023-08-13T00:00:00\",\"2023-08-14T00:00:00\",\"2023-08-15T00:00:00\",\"2023-08-16T00:00:00\",\"2023-08-17T00:00:00\",\"2023-08-18T00:00:00\",\"2023-08-19T00:00:00\",\"2023-08-20T00:00:00\",\"2023-08-21T00:00:00\",\"2023-08-22T00:00:00\",\"2023-08-23T00:00:00\",\"2023-08-24T00:00:00\",\"2023-08-25T00:00:00\",\"2023-08-26T00:00:00\",\"2023-08-27T00:00:00\",\"2023-08-28T00:00:00\",\"2023-08-29T00:00:00\",\"2023-08-30T00:00:00\",\"2023-08-31T00:00:00\",\"2023-09-01T00:00:00\",\"2023-09-02T00:00:00\",\"2023-09-03T00:00:00\",\"2023-09-04T00:00:00\",\"2023-09-05T00:00:00\",\"2023-09-06T00:00:00\",\"2023-09-07T00:00:00\",\"2023-09-08T00:00:00\",\"2023-09-09T00:00:00\",\"2023-09-10T00:00:00\",\"2023-09-11T00:00:00\",\"2023-09-12T00:00:00\",\"2023-09-13T00:00:00\",\"2023-09-14T00:00:00\",\"2023-09-15T00:00:00\",\"2023-09-16T00:00:00\",\"2023-09-17T00:00:00\",\"2023-09-18T00:00:00\",\"2023-09-19T00:00:00\",\"2023-09-20T00:00:00\",\"2023-09-21T00:00:00\",\"2023-09-22T00:00:00\",\"2023-09-23T00:00:00\",\"2023-09-24T00:00:00\",\"2023-09-25T00:00:00\",\"2023-09-26T00:00:00\",\"2023-09-27T00:00:00\",\"2023-09-28T00:00:00\",\"2023-09-29T00:00:00\",\"2023-09-30T00:00:00\",\"2023-10-01T00:00:00\",\"2023-10-02T00:00:00\",\"2023-10-03T00:00:00\",\"2023-10-04T00:00:00\",\"2023-10-05T00:00:00\",\"2023-10-06T00:00:00\",\"2023-10-07T00:00:00\",\"2023-10-08T00:00:00\",\"2023-10-09T00:00:00\",\"2023-10-10T00:00:00\",\"2023-10-11T00:00:00\",\"2023-10-12T00:00:00\",\"2023-10-13T00:00:00\",\"2023-10-14T00:00:00\",\"2023-10-15T00:00:00\",\"2023-10-16T00:00:00\",\"2023-10-17T00:00:00\",\"2023-10-18T00:00:00\",\"2023-10-19T00:00:00\",\"2023-10-20T00:00:00\",\"2023-10-21T00:00:00\",\"2023-10-22T00:00:00\",\"2023-10-23T00:00:00\",\"2023-10-24T00:00:00\",\"2023-10-25T00:00:00\",\"2023-10-26T00:00:00\",\"2023-10-27T00:00:00\",\"2023-10-28T00:00:00\",\"2023-10-29T00:00:00\",\"2023-10-30T00:00:00\",\"2023-10-31T00:00:00\",\"2023-11-01T00:00:00\",\"2023-11-02T00:00:00\",\"2023-11-03T00:00:00\",\"2023-11-04T00:00:00\",\"2023-11-05T00:00:00\",\"2023-11-06T00:00:00\",\"2023-11-07T00:00:00\",\"2023-11-08T00:00:00\",\"2023-11-09T00:00:00\",\"2023-11-10T00:00:00\",\"2023-11-11T00:00:00\",\"2023-11-12T00:00:00\",\"2023-11-13T00:00:00\",\"2023-11-14T00:00:00\",\"2023-11-15T00:00:00\",\"2023-11-16T00:00:00\",\"2023-11-17T00:00:00\",\"2023-11-18T00:00:00\",\"2023-11-19T00:00:00\",\"2023-11-20T00:00:00\",\"2023-11-21T00:00:00\",\"2023-11-22T00:00:00\",\"2023-11-23T00:00:00\",\"2023-11-24T00:00:00\",\"2023-11-25T00:00:00\",\"2023-11-26T00:00:00\",\"2023-11-27T00:00:00\",\"2023-11-28T00:00:00\",\"2023-11-29T00:00:00\",\"2023-11-30T00:00:00\",\"2023-12-01T00:00:00\",\"2023-12-02T00:00:00\",\"2023-12-03T00:00:00\",\"2023-12-04T00:00:00\",\"2023-12-05T00:00:00\",\"2023-12-06T00:00:00\",\"2023-12-07T00:00:00\",\"2023-12-08T00:00:00\",\"2023-12-09T00:00:00\",\"2023-12-10T00:00:00\",\"2023-12-11T00:00:00\",\"2023-12-12T00:00:00\",\"2023-12-13T00:00:00\",\"2023-12-14T00:00:00\",\"2023-12-15T00:00:00\",\"2023-12-16T00:00:00\",\"2023-12-17T00:00:00\",\"2023-12-18T00:00:00\",\"2023-12-19T00:00:00\",\"2023-12-20T00:00:00\",\"2023-12-21T00:00:00\",\"2023-12-22T00:00:00\",\"2023-12-23T00:00:00\",\"2023-12-24T00:00:00\",\"2023-12-25T00:00:00\",\"2023-12-26T00:00:00\",\"2023-12-27T00:00:00\",\"2023-12-28T00:00:00\",\"2023-12-29T00:00:00\",\"2023-12-30T00:00:00\",\"2023-12-31T00:00:00\",\"2024-01-01T00:00:00\",\"2024-01-02T00:00:00\",\"2024-01-03T00:00:00\",\"2024-01-04T00:00:00\",\"2024-01-05T00:00:00\",\"2024-01-06T00:00:00\",\"2024-01-07T00:00:00\",\"2024-01-08T00:00:00\",\"2024-01-09T00:00:00\",\"2024-01-10T00:00:00\",\"2024-01-11T00:00:00\",\"2024-01-12T00:00:00\",\"2024-01-13T00:00:00\",\"2024-01-14T00:00:00\",\"2024-01-15T00:00:00\",\"2024-01-16T00:00:00\",\"2024-01-17T00:00:00\",\"2024-01-18T00:00:00\",\"2024-01-19T00:00:00\",\"2024-01-20T00:00:00\",\"2024-01-21T00:00:00\",\"2024-01-22T00:00:00\",\"2024-01-23T00:00:00\",\"2024-01-24T00:00:00\",\"2024-01-25T00:00:00\",\"2024-01-26T00:00:00\",\"2024-01-27T00:00:00\",\"2024-01-28T00:00:00\",\"2024-01-29T00:00:00\",\"2024-01-30T00:00:00\",\"2024-01-31T00:00:00\",\"2024-02-01T00:00:00\",\"2024-02-02T00:00:00\",\"2024-02-03T00:00:00\",\"2024-02-04T00:00:00\",\"2024-02-05T00:00:00\",\"2024-02-06T00:00:00\",\"2024-02-07T00:00:00\",\"2024-02-08T00:00:00\",\"2024-02-09T00:00:00\",\"2024-02-10T00:00:00\",\"2024-02-11T00:00:00\",\"2024-02-12T00:00:00\",\"2024-02-13T00:00:00\",\"2024-02-14T00:00:00\",\"2024-02-15T00:00:00\",\"2024-02-16T00:00:00\",\"2024-02-17T00:00:00\",\"2024-02-18T00:00:00\",\"2024-02-19T00:00:00\",\"2024-02-20T00:00:00\",\"2024-02-21T00:00:00\",\"2024-02-22T00:00:00\",\"2024-02-23T00:00:00\",\"2024-02-24T00:00:00\",\"2024-02-25T00:00:00\",\"2024-02-26T00:00:00\",\"2024-02-27T00:00:00\",\"2024-02-28T00:00:00\",\"2024-02-29T00:00:00\",\"2024-03-01T00:00:00\",\"2024-03-02T00:00:00\",\"2024-03-03T00:00:00\",\"2024-03-04T00:00:00\",\"2024-03-05T00:00:00\",\"2024-03-06T00:00:00\",\"2024-03-07T00:00:00\",\"2024-03-08T00:00:00\",\"2024-03-09T00:00:00\",\"2024-03-10T00:00:00\",\"2024-03-11T00:00:00\",\"2024-03-12T00:00:00\",\"2024-03-13T00:00:00\",\"2024-03-14T00:00:00\",\"2024-03-15T00:00:00\",\"2024-03-16T00:00:00\",\"2024-03-17T00:00:00\",\"2024-03-18T00:00:00\",\"2024-03-19T00:00:00\",\"2024-03-20T00:00:00\",\"2024-03-21T00:00:00\",\"2024-03-22T00:00:00\",\"2024-03-23T00:00:00\",\"2024-03-24T00:00:00\",\"2024-03-25T00:00:00\",\"2024-03-26T00:00:00\",\"2024-03-27T00:00:00\",\"2024-03-28T00:00:00\",\"2024-03-29T00:00:00\",\"2024-03-30T00:00:00\",\"2024-03-31T00:00:00\",\"2024-04-01T00:00:00\",\"2024-04-02T00:00:00\",\"2024-04-03T00:00:00\",\"2024-04-04T00:00:00\",\"2024-04-05T00:00:00\",\"2024-04-06T00:00:00\",\"2024-04-07T00:00:00\",\"2024-04-08T00:00:00\",\"2024-04-09T00:00:00\",\"2024-04-10T00:00:00\",\"2024-04-11T00:00:00\",\"2024-04-12T00:00:00\",\"2024-04-13T00:00:00\",\"2024-04-14T00:00:00\",\"2024-04-15T00:00:00\",\"2024-04-16T00:00:00\",\"2024-04-17T00:00:00\",\"2024-04-18T00:00:00\",\"2024-04-19T00:00:00\",\"2024-04-20T00:00:00\",\"2024-04-21T00:00:00\",\"2024-04-22T00:00:00\",\"2024-04-23T00:00:00\",\"2024-04-24T00:00:00\",\"2024-04-25T00:00:00\",\"2024-04-26T00:00:00\",\"2024-04-27T00:00:00\",\"2024-04-28T00:00:00\",\"2024-04-29T00:00:00\",\"2024-04-30T00:00:00\",\"2024-05-01T00:00:00\",\"2024-05-02T00:00:00\",\"2024-05-03T00:00:00\",\"2024-05-04T00:00:00\",\"2024-05-05T00:00:00\",\"2024-05-06T00:00:00\",\"2024-05-07T00:00:00\",\"2024-05-08T00:00:00\",\"2024-05-09T00:00:00\",\"2024-05-10T00:00:00\",\"2024-05-11T00:00:00\",\"2024-05-12T00:00:00\",\"2024-05-13T00:00:00\",\"2024-05-14T00:00:00\",\"2024-05-15T00:00:00\",\"2024-05-16T00:00:00\",\"2024-05-17T00:00:00\",\"2024-05-18T00:00:00\",\"2024-05-19T00:00:00\",\"2024-05-20T00:00:00\",\"2024-05-21T00:00:00\",\"2024-05-22T00:00:00\",\"2024-05-23T00:00:00\",\"2024-05-24T00:00:00\",\"2024-05-25T00:00:00\",\"2024-05-26T00:00:00\",\"2024-05-27T00:00:00\",\"2024-05-28T00:00:00\",\"2024-05-29T00:00:00\",\"2024-05-30T00:00:00\",\"2024-05-31T00:00:00\",\"2024-06-01T00:00:00\",\"2024-06-02T00:00:00\",\"2024-06-03T00:00:00\",\"2024-06-04T00:00:00\",\"2024-06-05T00:00:00\",\"2024-06-06T00:00:00\",\"2024-06-07T00:00:00\",\"2024-06-08T00:00:00\",\"2024-06-09T00:00:00\",\"2024-06-10T00:00:00\",\"2024-06-11T00:00:00\",\"2024-06-12T00:00:00\",\"2024-06-13T00:00:00\",\"2024-06-14T00:00:00\",\"2024-06-15T00:00:00\",\"2024-06-16T00:00:00\",\"2024-06-17T00:00:00\",\"2024-06-18T00:00:00\",\"2024-06-19T00:00:00\",\"2024-06-20T00:00:00\",\"2024-06-21T00:00:00\",\"2024-06-22T00:00:00\",\"2024-06-23T00:00:00\",\"2024-06-24T00:00:00\",\"2024-06-25T00:00:00\",\"2024-06-26T00:00:00\",\"2024-06-27T00:00:00\",\"2024-06-28T00:00:00\",\"2024-06-29T00:00:00\",\"2024-06-30T00:00:00\",\"2024-07-01T00:00:00\",\"2024-07-02T00:00:00\",\"2024-07-03T00:00:00\",\"2024-07-04T00:00:00\",\"2024-07-05T00:00:00\",\"2024-07-06T00:00:00\",\"2024-07-07T00:00:00\",\"2024-07-08T00:00:00\",\"2024-07-09T00:00:00\",\"2024-07-10T00:00:00\",\"2024-07-11T00:00:00\",\"2024-07-12T00:00:00\",\"2024-07-13T00:00:00\",\"2024-07-14T00:00:00\",\"2024-07-15T00:00:00\",\"2024-07-16T00:00:00\",\"2024-07-17T00:00:00\",\"2024-07-18T00:00:00\",\"2024-07-19T00:00:00\",\"2024-07-20T00:00:00\",\"2024-07-21T00:00:00\",\"2024-07-22T00:00:00\",\"2024-07-23T00:00:00\",\"2024-07-24T00:00:00\",\"2024-07-25T00:00:00\",\"2024-07-26T00:00:00\",\"2024-07-27T00:00:00\",\"2024-07-28T00:00:00\",\"2024-07-29T00:00:00\",\"2024-07-30T00:00:00\",\"2024-07-31T00:00:00\",\"2024-08-01T00:00:00\",\"2024-08-02T00:00:00\",\"2024-08-03T00:00:00\",\"2024-08-04T00:00:00\",\"2024-08-05T00:00:00\",\"2024-08-06T00:00:00\",\"2024-08-07T00:00:00\",\"2024-08-08T00:00:00\",\"2024-08-09T00:00:00\",\"2024-08-10T00:00:00\",\"2024-08-11T00:00:00\",\"2024-08-12T00:00:00\",\"2024-08-13T00:00:00\",\"2024-08-14T00:00:00\",\"2024-08-15T00:00:00\",\"2024-08-16T00:00:00\",\"2024-08-17T00:00:00\",\"2024-08-18T00:00:00\",\"2024-08-19T00:00:00\",\"2024-08-20T00:00:00\",\"2024-08-21T00:00:00\",\"2024-08-22T00:00:00\",\"2024-08-23T00:00:00\",\"2024-08-24T00:00:00\",\"2024-08-25T00:00:00\",\"2024-08-26T00:00:00\",\"2024-08-27T00:00:00\",\"2024-08-28T00:00:00\",\"2024-08-29T00:00:00\",\"2024-08-30T00:00:00\",\"2024-08-31T00:00:00\",\"2024-09-01T00:00:00\",\"2024-09-02T00:00:00\",\"2024-09-03T00:00:00\",\"2024-09-04T00:00:00\",\"2024-09-05T00:00:00\",\"2024-09-06T00:00:00\",\"2024-09-07T00:00:00\",\"2024-09-08T00:00:00\",\"2024-09-09T00:00:00\",\"2024-09-10T00:00:00\",\"2024-09-11T00:00:00\",\"2024-09-12T00:00:00\",\"2024-09-13T00:00:00\",\"2024-09-14T00:00:00\",\"2024-09-15T00:00:00\",\"2024-09-16T00:00:00\",\"2024-09-17T00:00:00\",\"2024-09-18T00:00:00\",\"2024-09-19T00:00:00\",\"2024-09-20T00:00:00\",\"2024-09-21T00:00:00\",\"2024-09-22T00:00:00\",\"2024-09-23T00:00:00\",\"2024-09-24T00:00:00\",\"2024-09-25T00:00:00\",\"2024-09-26T00:00:00\",\"2024-09-27T00:00:00\",\"2024-09-28T00:00:00\",\"2024-09-29T00:00:00\",\"2024-09-30T00:00:00\",\"2024-10-01T00:00:00\",\"2024-10-02T00:00:00\",\"2024-10-03T00:00:00\",\"2024-10-04T00:00:00\",\"2024-10-05T00:00:00\",\"2024-10-06T00:00:00\",\"2024-10-07T00:00:00\",\"2024-10-08T00:00:00\",\"2024-10-09T00:00:00\",\"2024-10-10T00:00:00\",\"2024-10-11T00:00:00\",\"2024-10-12T00:00:00\",\"2024-10-13T00:00:00\",\"2024-10-14T00:00:00\",\"2024-10-15T00:00:00\",\"2024-10-16T00:00:00\",\"2024-10-17T00:00:00\",\"2024-10-18T00:00:00\",\"2024-10-19T00:00:00\",\"2024-10-20T00:00:00\",\"2024-10-21T00:00:00\",\"2024-10-22T00:00:00\",\"2024-10-23T00:00:00\",\"2024-10-24T00:00:00\",\"2024-10-25T00:00:00\",\"2024-10-26T00:00:00\",\"2024-10-27T00:00:00\",\"2024-10-28T00:00:00\",\"2024-10-29T00:00:00\",\"2024-10-30T00:00:00\",\"2024-10-31T00:00:00\",\"2024-11-01T00:00:00\",\"2024-11-02T00:00:00\",\"2024-11-03T00:00:00\",\"2024-11-04T00:00:00\",\"2024-11-05T00:00:00\",\"2024-11-06T00:00:00\",\"2024-11-07T00:00:00\",\"2024-11-08T00:00:00\",\"2024-11-09T00:00:00\",\"2024-11-10T00:00:00\",\"2024-11-11T00:00:00\",\"2024-11-12T00:00:00\",\"2024-11-13T00:00:00\",\"2024-11-14T00:00:00\",\"2024-11-15T00:00:00\",\"2024-11-16T00:00:00\",\"2024-11-17T00:00:00\",\"2024-11-18T00:00:00\",\"2024-11-19T00:00:00\",\"2024-11-20T00:00:00\",\"2024-11-21T00:00:00\",\"2024-11-22T00:00:00\",\"2024-11-23T00:00:00\",\"2024-11-24T00:00:00\",\"2024-11-25T00:00:00\",\"2024-11-26T00:00:00\",\"2024-11-27T00:00:00\",\"2024-11-28T00:00:00\",\"2024-11-29T00:00:00\",\"2024-11-30T00:00:00\",\"2024-12-01T00:00:00\"],\"y\":[741490.0,741490.0,741490.0,741490.0,741490.0,741490.0,741490.0,741490.0,741490.0,741490.0,741490.0,741490.0,741490.0,741490.0,741490.0,741490.0,741490.0,741490.0,741490.0,741490.0,741490.0,741490.0,741490.0,741490.0,741490.0,741490.0,741490.0,741490.0,741490.0,741490.0,731705.0,731705.0,731705.0,731705.0,731705.0,731705.0,731705.0,731705.0,731705.0,731705.0,731705.0,731705.0,731705.0,731705.0,731705.0,731705.0,731705.0,731705.0,731705.0,731705.0,731705.0,731705.0,731705.0,731705.0,731705.0,731705.0,731705.0,731705.0,731705.0,731705.0,731705.0,736827.0,736827.0,736827.0,736827.0,736827.0,736827.0,736827.0,736827.0,736827.0,736827.0,736827.0,736827.0,736827.0,736827.0,736827.0,736827.0,736827.0,736827.0,736827.0,736827.0,736827.0,736827.0,736827.0,736827.0,736827.0,736827.0,736827.0,736827.0,744934.0,744934.0,744934.0,744934.0,744934.0,744934.0,744934.0,744934.0,744934.0,744934.0,744934.0,744934.0,744934.0,744934.0,744934.0,744934.0,744934.0,744934.0,744934.0,744934.0,744934.0,744934.0,744934.0,744934.0,744934.0,744934.0,744934.0,744934.0,744934.0,744934.0,744934.0,741484.0,741484.0,741484.0,741484.0,741484.0,741484.0,741484.0,741484.0,741484.0,741484.0,741484.0,741484.0,741484.0,741484.0,741484.0,741484.0,741484.0,741484.0,741484.0,741484.0,741484.0,741484.0,741484.0,741484.0,741484.0,741484.0,741484.0,741484.0,741484.0,741484.0,741490.0,741490.0,741490.0,741490.0,741490.0,741490.0,741490.0,741490.0,741490.0,741490.0,741490.0,741490.0,741490.0,741490.0,741490.0,741490.0,741490.0,741490.0,741490.0,741490.0,741490.0,741490.0,741490.0,741490.0,741490.0,741490.0,741490.0,741490.0,741490.0,741490.0,741490.0,741490.0,741490.0,741490.0,741490.0,741490.0,741490.0,741490.0,741490.0,741490.0,741490.0,741490.0,741490.0,741490.0,741490.0,741490.0,741490.0,741490.0,741490.0,741490.0,741490.0,741490.0,741490.0,741490.0,741490.0,741490.0,741490.0,741490.0,741490.0,741490.0,741490.0,741490.0,741490.0,741490.0,741490.0,741490.0,741490.0,741490.0,741490.0,741490.0,741490.0,741490.0,741490.0,741490.0,741490.0,741490.0,741490.0,741490.0,741490.0,741490.0,741490.0,741490.0,741490.0,741490.0,741490.0,741490.0,741490.0,741490.0,741490.0,741490.0,741490.0,741490.0,741490.0,741490.0,741490.0,741490.0,741490.0,741490.0,741490.0,741490.0,741490.0,741490.0,741490.0,741490.0,741490.0,741490.0,741490.0,741490.0,741490.0,741490.0,741490.0,741490.0,741490.0,741490.0,741490.0,741490.0,741490.0,741490.0,741490.0,741490.0,741490.0,741490.0,741490.0,741490.0,741490.0,741490.0,741490.0,741490.0,741490.0,741490.0,741490.0,741490.0,741490.0,741490.0,741490.0,741490.0,741490.0,741490.0,741490.0,741490.0,741490.0,741490.0,741490.0,741490.0,741490.0,741490.0,741490.0,741490.0,741490.0,741490.0,741490.0,741490.0,741490.0,741490.0,741490.0,741490.0,741490.0,741490.0,741490.0,741490.0,741490.0,741490.0,741490.0,741490.0,741490.0,741490.0,741490.0,741490.0,741490.0,741490.0,741490.0,741490.0,741490.0,741490.0,741490.0,741490.0,741490.0,741490.0,741490.0,741490.0,741490.0,741490.0,741490.0,741490.0,741490.0,741490.0,741490.0,741490.0,741490.0,741490.0,741490.0,741490.0,741490.0,741490.0,741490.0,741490.0,741490.0,741490.0,741490.0,741490.0,741490.0,741490.0,741490.0,741490.0,741490.0,741490.0,741490.0,741490.0,741490.0,741490.0,741490.0,741490.0,741490.0,741490.0,741490.0,741490.0,741490.0,741490.0,741490.0,741490.0,741490.0,741490.0,741490.0,741490.0,741490.0,741490.0,741490.0,741490.0,741490.0,741490.0,741490.0,741490.0,741490.0,741490.0,741490.0,741490.0,741490.0,741490.0,741490.0,741490.0,741490.0,741490.0,741490.0,741490.0,741490.0,731705.0,731705.0,731705.0,731705.0,731705.0,731705.0,731705.0,731705.0,731705.0,731705.0,731705.0,731705.0,731705.0,731705.0,731705.0,731705.0,731705.0,731705.0,731705.0,731705.0,731705.0,731705.0,731705.0,731705.0,731705.0,731705.0,731705.0,731705.0,731705.0,731705.0,731705.0,736827.0,736827.0,736827.0,736827.0,736827.0,736827.0,736827.0,736827.0,736827.0,736827.0,736827.0,736827.0,736827.0,736827.0,736827.0,736827.0,736827.0,736827.0,736827.0,736827.0,736827.0,736827.0,736827.0,736827.0,736827.0,736827.0,736827.0,736827.0,736827.0,744934.0,744934.0,744934.0,744934.0,744934.0,744934.0,744934.0,744934.0,744934.0,744934.0,744934.0,744934.0,744934.0,744934.0,744934.0,744934.0,744934.0,744934.0,744934.0,744934.0,744934.0,744934.0,744934.0,744934.0,744934.0,744934.0,744934.0,744934.0,744934.0,744934.0,744934.0,741484.0,741484.0,741484.0,741484.0,741484.0,741484.0,741484.0,741484.0,741484.0,741484.0,741484.0,741484.0,741484.0,741484.0,741484.0,741484.0,741484.0,741484.0,741484.0,741484.0,741484.0,741484.0,741484.0,741484.0,741484.0,741484.0,741484.0,741484.0,741484.0,741484.0,741490.0,741490.0,741490.0,741490.0,741490.0,741490.0,741490.0,741490.0,741490.0,741490.0,741490.0,741490.0,741490.0,741490.0,741490.0,741490.0,741490.0,741490.0,741490.0,741490.0,741490.0,741490.0,741490.0,741490.0,741490.0,741490.0,741490.0,741490.0,741490.0,741490.0,741490.0,741490.0,741490.0,741490.0,741490.0,741490.0,741490.0,741490.0,741490.0,741490.0,741490.0,741490.0,741490.0,741490.0,741490.0,741490.0,741490.0,741490.0,741490.0,741490.0,741490.0,741490.0,741490.0,741490.0,741490.0,741490.0,741490.0,741490.0,741490.0,741490.0,741490.0,741490.0,741490.0,741490.0,741490.0,741490.0,741490.0,741490.0,741490.0,741490.0,741490.0,741490.0,741490.0,741490.0,741490.0,741490.0,741490.0,741490.0,741490.0,741490.0,741490.0,741490.0,741490.0,741490.0,741490.0,741490.0,741490.0,741490.0,741490.0,741490.0,741490.0,741490.0,741490.0,741490.0,741490.0,741490.0,741490.0,741490.0,741490.0,741490.0,741490.0,741490.0,741490.0,741490.0,741490.0,741490.0,741490.0,741490.0,741490.0,741490.0,741490.0,741490.0,741490.0,741490.0,741490.0,741490.0,741490.0,741490.0,741490.0,741490.0,741490.0,741490.0,741490.0,741490.0,741490.0,741490.0,741490.0,741490.0,741490.0,741490.0,741490.0,741490.0,741490.0,741490.0,741490.0,741490.0,741490.0,741490.0,741490.0,741490.0,741490.0,741490.0,741490.0,741490.0,741490.0,741490.0,741490.0,741490.0,741490.0,741490.0,741490.0,741490.0,741490.0,741490.0,741490.0,741490.0,741490.0,741490.0,741490.0,741490.0,741490.0,741490.0,741490.0,741490.0,741490.0,741490.0,741490.0,741490.0,741490.0,741490.0,741490.0,741490.0,741490.0,741490.0,741490.0,741490.0,741490.0,741490.0,741490.0,741490.0,741490.0,741490.0,741490.0,741490.0,741490.0,741490.0,741490.0,741490.0,741490.0,741490.0,741490.0,741490.0,741490.0,741490.0,741490.0,741490.0,741490.0,741490.0,741490.0,741490.0,741490.0,741490.0,741490.0,741490.0,741490.0,741490.0,741490.0,741490.0,741490.0,741490.0,741490.0,741490.0,741490.0,741490.0,741490.0],\"type\":\"scatter\"}],                        {\"template\":{\"data\":{\"bar\":[{\"error_x\":{\"color\":\"#2a3f5f\"},\"error_y\":{\"color\":\"#2a3f5f\"},\"marker\":{\"line\":{\"color\":\"#E5ECF6\",\"width\":0.5},\"pattern\":{\"fillmode\":\"overlay\",\"size\":10,\"solidity\":0.2}},\"type\":\"bar\"}],\"barpolar\":[{\"marker\":{\"line\":{\"color\":\"#E5ECF6\",\"width\":0.5},\"pattern\":{\"fillmode\":\"overlay\",\"size\":10,\"solidity\":0.2}},\"type\":\"barpolar\"}],\"carpet\":[{\"aaxis\":{\"endlinecolor\":\"#2a3f5f\",\"gridcolor\":\"white\",\"linecolor\":\"white\",\"minorgridcolor\":\"white\",\"startlinecolor\":\"#2a3f5f\"},\"baxis\":{\"endlinecolor\":\"#2a3f5f\",\"gridcolor\":\"white\",\"linecolor\":\"white\",\"minorgridcolor\":\"white\",\"startlinecolor\":\"#2a3f5f\"},\"type\":\"carpet\"}],\"choropleth\":[{\"colorbar\":{\"outlinewidth\":0,\"ticks\":\"\"},\"type\":\"choropleth\"}],\"contour\":[{\"colorbar\":{\"outlinewidth\":0,\"ticks\":\"\"},\"colorscale\":[[0.0,\"#0d0887\"],[0.1111111111111111,\"#46039f\"],[0.2222222222222222,\"#7201a8\"],[0.3333333333333333,\"#9c179e\"],[0.4444444444444444,\"#bd3786\"],[0.5555555555555556,\"#d8576b\"],[0.6666666666666666,\"#ed7953\"],[0.7777777777777778,\"#fb9f3a\"],[0.8888888888888888,\"#fdca26\"],[1.0,\"#f0f921\"]],\"type\":\"contour\"}],\"contourcarpet\":[{\"colorbar\":{\"outlinewidth\":0,\"ticks\":\"\"},\"type\":\"contourcarpet\"}],\"heatmap\":[{\"colorbar\":{\"outlinewidth\":0,\"ticks\":\"\"},\"colorscale\":[[0.0,\"#0d0887\"],[0.1111111111111111,\"#46039f\"],[0.2222222222222222,\"#7201a8\"],[0.3333333333333333,\"#9c179e\"],[0.4444444444444444,\"#bd3786\"],[0.5555555555555556,\"#d8576b\"],[0.6666666666666666,\"#ed7953\"],[0.7777777777777778,\"#fb9f3a\"],[0.8888888888888888,\"#fdca26\"],[1.0,\"#f0f921\"]],\"type\":\"heatmap\"}],\"heatmapgl\":[{\"colorbar\":{\"outlinewidth\":0,\"ticks\":\"\"},\"colorscale\":[[0.0,\"#0d0887\"],[0.1111111111111111,\"#46039f\"],[0.2222222222222222,\"#7201a8\"],[0.3333333333333333,\"#9c179e\"],[0.4444444444444444,\"#bd3786\"],[0.5555555555555556,\"#d8576b\"],[0.6666666666666666,\"#ed7953\"],[0.7777777777777778,\"#fb9f3a\"],[0.8888888888888888,\"#fdca26\"],[1.0,\"#f0f921\"]],\"type\":\"heatmapgl\"}],\"histogram\":[{\"marker\":{\"pattern\":{\"fillmode\":\"overlay\",\"size\":10,\"solidity\":0.2}},\"type\":\"histogram\"}],\"histogram2d\":[{\"colorbar\":{\"outlinewidth\":0,\"ticks\":\"\"},\"colorscale\":[[0.0,\"#0d0887\"],[0.1111111111111111,\"#46039f\"],[0.2222222222222222,\"#7201a8\"],[0.3333333333333333,\"#9c179e\"],[0.4444444444444444,\"#bd3786\"],[0.5555555555555556,\"#d8576b\"],[0.6666666666666666,\"#ed7953\"],[0.7777777777777778,\"#fb9f3a\"],[0.8888888888888888,\"#fdca26\"],[1.0,\"#f0f921\"]],\"type\":\"histogram2d\"}],\"histogram2dcontour\":[{\"colorbar\":{\"outlinewidth\":0,\"ticks\":\"\"},\"colorscale\":[[0.0,\"#0d0887\"],[0.1111111111111111,\"#46039f\"],[0.2222222222222222,\"#7201a8\"],[0.3333333333333333,\"#9c179e\"],[0.4444444444444444,\"#bd3786\"],[0.5555555555555556,\"#d8576b\"],[0.6666666666666666,\"#ed7953\"],[0.7777777777777778,\"#fb9f3a\"],[0.8888888888888888,\"#fdca26\"],[1.0,\"#f0f921\"]],\"type\":\"histogram2dcontour\"}],\"mesh3d\":[{\"colorbar\":{\"outlinewidth\":0,\"ticks\":\"\"},\"type\":\"mesh3d\"}],\"parcoords\":[{\"line\":{\"colorbar\":{\"outlinewidth\":0,\"ticks\":\"\"}},\"type\":\"parcoords\"}],\"pie\":[{\"automargin\":true,\"type\":\"pie\"}],\"scatter\":[{\"marker\":{\"colorbar\":{\"outlinewidth\":0,\"ticks\":\"\"}},\"type\":\"scatter\"}],\"scatter3d\":[{\"line\":{\"colorbar\":{\"outlinewidth\":0,\"ticks\":\"\"}},\"marker\":{\"colorbar\":{\"outlinewidth\":0,\"ticks\":\"\"}},\"type\":\"scatter3d\"}],\"scattercarpet\":[{\"marker\":{\"colorbar\":{\"outlinewidth\":0,\"ticks\":\"\"}},\"type\":\"scattercarpet\"}],\"scattergeo\":[{\"marker\":{\"colorbar\":{\"outlinewidth\":0,\"ticks\":\"\"}},\"type\":\"scattergeo\"}],\"scattergl\":[{\"marker\":{\"colorbar\":{\"outlinewidth\":0,\"ticks\":\"\"}},\"type\":\"scattergl\"}],\"scattermapbox\":[{\"marker\":{\"colorbar\":{\"outlinewidth\":0,\"ticks\":\"\"}},\"type\":\"scattermapbox\"}],\"scatterpolar\":[{\"marker\":{\"colorbar\":{\"outlinewidth\":0,\"ticks\":\"\"}},\"type\":\"scatterpolar\"}],\"scatterpolargl\":[{\"marker\":{\"colorbar\":{\"outlinewidth\":0,\"ticks\":\"\"}},\"type\":\"scatterpolargl\"}],\"scatterternary\":[{\"marker\":{\"colorbar\":{\"outlinewidth\":0,\"ticks\":\"\"}},\"type\":\"scatterternary\"}],\"surface\":[{\"colorbar\":{\"outlinewidth\":0,\"ticks\":\"\"},\"colorscale\":[[0.0,\"#0d0887\"],[0.1111111111111111,\"#46039f\"],[0.2222222222222222,\"#7201a8\"],[0.3333333333333333,\"#9c179e\"],[0.4444444444444444,\"#bd3786\"],[0.5555555555555556,\"#d8576b\"],[0.6666666666666666,\"#ed7953\"],[0.7777777777777778,\"#fb9f3a\"],[0.8888888888888888,\"#fdca26\"],[1.0,\"#f0f921\"]],\"type\":\"surface\"}],\"table\":[{\"cells\":{\"fill\":{\"color\":\"#EBF0F8\"},\"line\":{\"color\":\"white\"}},\"header\":{\"fill\":{\"color\":\"#C8D4E3\"},\"line\":{\"color\":\"white\"}},\"type\":\"table\"}]},\"layout\":{\"annotationdefaults\":{\"arrowcolor\":\"#2a3f5f\",\"arrowhead\":0,\"arrowwidth\":1},\"autotypenumbers\":\"strict\",\"coloraxis\":{\"colorbar\":{\"outlinewidth\":0,\"ticks\":\"\"}},\"colorscale\":{\"diverging\":[[0,\"#8e0152\"],[0.1,\"#c51b7d\"],[0.2,\"#de77ae\"],[0.3,\"#f1b6da\"],[0.4,\"#fde0ef\"],[0.5,\"#f7f7f7\"],[0.6,\"#e6f5d0\"],[0.7,\"#b8e186\"],[0.8,\"#7fbc41\"],[0.9,\"#4d9221\"],[1,\"#276419\"]],\"sequential\":[[0.0,\"#0d0887\"],[0.1111111111111111,\"#46039f\"],[0.2222222222222222,\"#7201a8\"],[0.3333333333333333,\"#9c179e\"],[0.4444444444444444,\"#bd3786\"],[0.5555555555555556,\"#d8576b\"],[0.6666666666666666,\"#ed7953\"],[0.7777777777777778,\"#fb9f3a\"],[0.8888888888888888,\"#fdca26\"],[1.0,\"#f0f921\"]],\"sequentialminus\":[[0.0,\"#0d0887\"],[0.1111111111111111,\"#46039f\"],[0.2222222222222222,\"#7201a8\"],[0.3333333333333333,\"#9c179e\"],[0.4444444444444444,\"#bd3786\"],[0.5555555555555556,\"#d8576b\"],[0.6666666666666666,\"#ed7953\"],[0.7777777777777778,\"#fb9f3a\"],[0.8888888888888888,\"#fdca26\"],[1.0,\"#f0f921\"]]},\"colorway\":[\"#636efa\",\"#EF553B\",\"#00cc96\",\"#ab63fa\",\"#FFA15A\",\"#19d3f3\",\"#FF6692\",\"#B6E880\",\"#FF97FF\",\"#FECB52\"],\"font\":{\"color\":\"#2a3f5f\"},\"geo\":{\"bgcolor\":\"white\",\"lakecolor\":\"white\",\"landcolor\":\"#E5ECF6\",\"showlakes\":true,\"showland\":true,\"subunitcolor\":\"white\"},\"hoverlabel\":{\"align\":\"left\"},\"hovermode\":\"closest\",\"mapbox\":{\"style\":\"light\"},\"paper_bgcolor\":\"white\",\"plot_bgcolor\":\"#E5ECF6\",\"polar\":{\"angularaxis\":{\"gridcolor\":\"white\",\"linecolor\":\"white\",\"ticks\":\"\"},\"bgcolor\":\"#E5ECF6\",\"radialaxis\":{\"gridcolor\":\"white\",\"linecolor\":\"white\",\"ticks\":\"\"}},\"scene\":{\"xaxis\":{\"backgroundcolor\":\"#E5ECF6\",\"gridcolor\":\"white\",\"gridwidth\":2,\"linecolor\":\"white\",\"showbackground\":true,\"ticks\":\"\",\"zerolinecolor\":\"white\"},\"yaxis\":{\"backgroundcolor\":\"#E5ECF6\",\"gridcolor\":\"white\",\"gridwidth\":2,\"linecolor\":\"white\",\"showbackground\":true,\"ticks\":\"\",\"zerolinecolor\":\"white\"},\"zaxis\":{\"backgroundcolor\":\"#E5ECF6\",\"gridcolor\":\"white\",\"gridwidth\":2,\"linecolor\":\"white\",\"showbackground\":true,\"ticks\":\"\",\"zerolinecolor\":\"white\"}},\"shapedefaults\":{\"line\":{\"color\":\"#2a3f5f\"}},\"ternary\":{\"aaxis\":{\"gridcolor\":\"white\",\"linecolor\":\"white\",\"ticks\":\"\"},\"baxis\":{\"gridcolor\":\"white\",\"linecolor\":\"white\",\"ticks\":\"\"},\"bgcolor\":\"#E5ECF6\",\"caxis\":{\"gridcolor\":\"white\",\"linecolor\":\"white\",\"ticks\":\"\"}},\"title\":{\"x\":0.05},\"xaxis\":{\"automargin\":true,\"gridcolor\":\"white\",\"linecolor\":\"white\",\"ticks\":\"\",\"title\":{\"standoff\":15},\"zerolinecolor\":\"white\",\"zerolinewidth\":2},\"yaxis\":{\"automargin\":true,\"gridcolor\":\"white\",\"linecolor\":\"white\",\"ticks\":\"\",\"title\":{\"standoff\":15},\"zerolinecolor\":\"white\",\"zerolinewidth\":2}}}},                        {\"responsive\": true}                    ).then(function(){\n",
              "                            \n",
              "var gd = document.getElementById('42ad9445-2c1b-4e31-8098-b3607cc0fb1d');\n",
              "var x = new MutationObserver(function (mutations, observer) {{\n",
              "        var display = window.getComputedStyle(gd).display;\n",
              "        if (!display || display === 'none') {{\n",
              "            console.log([gd, 'removed!']);\n",
              "            Plotly.purge(gd);\n",
              "            observer.disconnect();\n",
              "        }}\n",
              "}});\n",
              "\n",
              "// Listen for the removal of the full notebook cells\n",
              "var notebookContainer = gd.closest('#notebook-container');\n",
              "if (notebookContainer) {{\n",
              "    x.observe(notebookContainer, {childList: true});\n",
              "}}\n",
              "\n",
              "// Listen for the clearing of the current output cell\n",
              "var outputEl = gd.closest('.output');\n",
              "if (outputEl) {{\n",
              "    x.observe(outputEl, {childList: true});\n",
              "}}\n",
              "\n",
              "                        })                };                            </script>        </div>\n",
              "</body>\n",
              "</html>"
            ]
          },
          "metadata": {}
        }
      ]
    },
    {
      "cell_type": "markdown",
      "source": [
        "# Conclusiones"
      ],
      "metadata": {
        "id": "9OSJKOF71XMp"
      }
    },
    {
      "cell_type": "markdown",
      "source": [
        "Para este análisis hemos considerado información del numero de asegurados desde el año (2012-2022) del INIDE (Sistema de Estadistica PUblicas y Censo),Nota. para el año 2022 estimamos el mejor cierre del mes dic-2022\n",
        "\n",
        "Para que el modelo tome sentido hemos hecho transformaciones en la fecha, obteniendo información que entrene a nuestro modelo como el trimestre, semana, dia del año.\n",
        "\n",
        "El objetivo es predecir el comportamiento que tendran el numero de asegurados de los proximos años (2023-2026) por lo cual establecemos que ingresaran al sistema unico de prevsion social o seguridad social para los años antes mencionados,y asi poder formular una plantilla presupuestadas para determinar el nivel de ingresos esto con el fin de poder cubrir con las prestaciones economicas como son las pensiones, subsidios entre otras y de igual manera garantizar la atencion medica a los derechohabiente.\n",
        "\n",
        "Determinamos que los datos se caracterizan por tener un comportamiennto lineal"
      ],
      "metadata": {
        "id": "w9prHAdZ1c5b"
      }
    }
  ]
}