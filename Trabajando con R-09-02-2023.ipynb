{
  "nbformat": 4,
  "nbformat_minor": 0,
  "metadata": {
    "colab": {
      "name": "R_01_UNI_intro_R.ipynb",
      "provenance": [],
      "include_colab_link": true
    },
    "kernelspec": {
      "name": "ir",
      "display_name": "R"
    },
    "language_info": {
      "name": "R"
    }
  },
  "cells": [
    {
      "cell_type": "markdown",
      "metadata": {
        "id": "view-in-github",
        "colab_type": "text"
      },
      "source": [
        "<a href=\"https://colab.research.google.com/github/lalopezabc123/csv/blob/main/Trabajando%20con%20R-09-02-2023.ipynb\" target=\"_parent\"><img src=\"https://colab.research.google.com/assets/colab-badge.svg\" alt=\"Open In Colab\"/></a>"
      ]
    },
    {
      "cell_type": "markdown",
      "source": [
        "*Ejercicios de R*<font color=\"#091f60\">\n",
        "<h1><b>\n",
        "Trabajando con R-09-02-2023\n",
        "\n",
        "</font>"
      ],
      "metadata": {
        "id": "JNyWOqY-yUL5"
      }
    },
    {
      "cell_type": "code",
      "source": [
        "library(tidyverse)\n",
        "\n",
        "library(modelr)\n",
        "options(na.action = na.warn)"
      ],
      "metadata": {
        "id": "05Crb4A8x8gk",
        "outputId": "eab515a8-b8a6-49cf-e806-2f634b9c34a1",
        "colab": {
          "base_uri": "https://localhost:8080/"
        }
      },
      "execution_count": 1,
      "outputs": [
        {
          "output_type": "stream",
          "name": "stderr",
          "text": [
            "Warning message in system(\"timedatectl\", intern = TRUE):\n",
            "“running command 'timedatectl' had status 1”\n",
            "── \u001b[1mAttaching packages\u001b[22m ─────────────────────────────────────── tidyverse 1.3.1 ──\n",
            "\n",
            "\u001b[32m✔\u001b[39m \u001b[34mggplot2\u001b[39m 3.4.0     \u001b[32m✔\u001b[39m \u001b[34mpurrr  \u001b[39m 1.0.1\n",
            "\u001b[32m✔\u001b[39m \u001b[34mtibble \u001b[39m 3.1.8     \u001b[32m✔\u001b[39m \u001b[34mdplyr  \u001b[39m 1.1.0\n",
            "\u001b[32m✔\u001b[39m \u001b[34mtidyr  \u001b[39m 1.3.0     \u001b[32m✔\u001b[39m \u001b[34mstringr\u001b[39m 1.4.1\n",
            "\u001b[32m✔\u001b[39m \u001b[34mreadr  \u001b[39m 2.1.3     \u001b[32m✔\u001b[39m \u001b[34mforcats\u001b[39m 1.0.0\n",
            "\n",
            "── \u001b[1mConflicts\u001b[22m ────────────────────────────────────────── tidyverse_conflicts() ──\n",
            "\u001b[31m✖\u001b[39m \u001b[34mdplyr\u001b[39m::\u001b[32mfilter()\u001b[39m masks \u001b[34mstats\u001b[39m::filter()\n",
            "\u001b[31m✖\u001b[39m \u001b[34mdplyr\u001b[39m::\u001b[32mlag()\u001b[39m    masks \u001b[34mstats\u001b[39m::lag()\n",
            "\n"
          ]
        }
      ]
    },
    {
      "cell_type": "code",
      "source": [
        "ggplot(sim1, aes(x, y)) + \n",
        "  geom_point()"
      ],
      "metadata": {
        "id": "fzBUYOdhyDTh",
        "outputId": "0a9d6523-7b1e-41e1-b418-c96de12e19bc",
        "colab": {
          "base_uri": "https://localhost:8080/",
          "height": 437
        }
      },
      "execution_count": 2,
      "outputs": [
        {
          "output_type": "display_data",
          "data": {
            "text/plain": [
              "plot without title"
            ],
            "image/png": "[encoded data removed]"
          },
          "metadata": {
            "image/png": {
              "width": 420,
              "height": 420
            }
          }
        }
      ]
    },
    {
      "cell_type": "code",
      "source": [],
      "metadata": {
        "id": "4N7geB7NyNxN"
      },
      "execution_count": null,
      "outputs": []
    },
    {
      "cell_type": "markdown",
      "metadata": {
        "id": "shgY0VK5PEGI"
      },
      "source": []
    },
    {
      "cell_type": "markdown",
      "metadata": {
        "id": "F5TZg-CWPRzo"
      },
      "source": [
        "# Introducción a R"
      ]
    },
    {
      "cell_type": "markdown",
      "metadata": {
        "id": "x6BCzJcjPq5S"
      },
      "source": [
        "R es un lenguaje de programación fácil de aprender. Cuenta con un enfoque simple pero efectivo de lo que se conoce como la programación orientada a objetos. Su principal uso está enfocado a la estadística"
      ]
    },
    {
      "cell_type": "markdown",
      "metadata": {
        "id": "p4lVvVa-PjS0"
      },
      "source": [
        "## Números y operaciones matemáticas básicas"
      ]
    },
    {
      "cell_type": "markdown",
      "metadata": {
        "id": "XNbR_m2APyx5"
      },
      "source": [
        "### Datos numéricos"
      ]
    },
    {
      "cell_type": "markdown",
      "metadata": {
        "id": "xAPX0MbXP0wt"
      },
      "source": [
        "#### Enteros y decimales"
      ]
    },
    {
      "cell_type": "markdown",
      "metadata": {
        "id": "2J33rjdOP3u8"
      },
      "source": [
        "R distingue entre números enteros y decimales. Al escribir un número decimal, el separador entre la parte entera y la parte decimal es un punto."
      ]
    },
    {
      "cell_type": "code",
      "metadata": {
        "colab": {
          "base_uri": "https://localhost:8080/",
          "height": 34
        },
        "id": "2nFwIiK3Pf7p",
        "outputId": "c51e4abd-981a-4fd7-c2d8-7231ce340915"
      },
      "source": [
        "780.6 # numero con decimal"
      ],
      "execution_count": null,
      "outputs": [
        {
          "output_type": "display_data",
          "data": {
            "text/plain": [
              "[1] 780.6"
            ],
            "text/latex": "780.6",
            "text/markdown": "780.6",
            "text/html": [
              "780.6"
            ]
          },
          "metadata": {}
        }
      ]
    },
    {
      "cell_type": "code",
      "metadata": {
        "colab": {
          "base_uri": "https://localhost:8080/",
          "height": 34
        },
        "id": "VminQSfzP7jT",
        "outputId": "f35e75cb-05d7-4206-ccda-2e100c85f5af"
      },
      "source": [
        "1050 # número entero"
      ],
      "execution_count": null,
      "outputs": [
        {
          "output_type": "display_data",
          "data": {
            "text/plain": [
              "[1] 1050"
            ],
            "text/latex": "1050",
            "text/markdown": "1050",
            "text/html": [
              "1050"
            ]
          },
          "metadata": {}
        }
      ]
    },
    {
      "cell_type": "markdown",
      "metadata": {
        "id": "jNtTZ6KsP-TW"
      },
      "source": [
        "### Usando R como calculadora"
      ]
    },
    {
      "cell_type": "markdown",
      "metadata": {
        "id": "Anypgj3pQCjW"
      },
      "source": [
        "Las cuatro operaciones básicas son la suma (+), la resta (-), la multiplicación (*) y la división (/).\n",
        "\n",
        "*Al hacer operaciones en las que intervienen números enteros y decimales, el resultado es siempre decimal.*\n",
        "\n",
        "En el caso de que el resultado no tenga parte decimal, R escribe 0 como parte decimal para indicar que el resultado es un número decimal"
      ]
    },
    {
      "cell_type": "code",
      "metadata": {
        "colab": {
          "base_uri": "https://localhost:8080/",
          "height": 34
        },
        "id": "8ghMDR_vQCUp",
        "outputId": "dab15391-2199-4123-a7c2-3809e8d17b83"
      },
      "source": [
        "250 + 350"
      ],
      "execution_count": null,
      "outputs": [
        {
          "output_type": "display_data",
          "data": {
            "text/plain": [
              "[1] 600"
            ],
            "text/latex": "600",
            "text/markdown": "600",
            "text/html": [
              "600"
            ]
          },
          "metadata": {}
        }
      ]
    },
    {
      "cell_type": "code",
      "metadata": {
        "colab": {
          "base_uri": "https://localhost:8080/",
          "height": 34
        },
        "id": "cmHVfqHLQF6e",
        "outputId": "43e014e2-d3aa-454c-cc37-c7a8f008989e"
      },
      "source": [
        "100 - 20 * 4"
      ],
      "execution_count": null,
      "outputs": [
        {
          "output_type": "display_data",
          "data": {
            "text/plain": [
              "[1] 20"
            ],
            "text/latex": "20",
            "text/markdown": "20",
            "text/html": [
              "20"
            ]
          },
          "metadata": {}
        }
      ]
    },
    {
      "cell_type": "code",
      "metadata": {
        "colab": {
          "base_uri": "https://localhost:8080/",
          "height": 34
        },
        "id": "IGiCZs_ZQF2V",
        "outputId": "c43547f2-d3b8-4877-a06e-82e454f79cd7"
      },
      "source": [
        "(100 - 20 * 4) / 5"
      ],
      "execution_count": null,
      "outputs": [
        {
          "output_type": "display_data",
          "data": {
            "text/plain": [
              "[1] 4"
            ],
            "text/latex": "4",
            "text/markdown": "4",
            "text/html": [
              "4"
            ]
          },
          "metadata": {}
        }
      ]
    },
    {
      "cell_type": "markdown",
      "metadata": {
        "id": "7cf1nVelQNs3"
      },
      "source": [
        "#### Potencias y raíces"
      ]
    },
    {
      "cell_type": "markdown",
      "metadata": {
        "id": "HwZ90hecQRsu"
      },
      "source": [
        "Las potencias se calculan con el operador $**$, teniendo en cuenta que $x$ $**$ $y$ $=$ $x^y$. Utilizando exponentes negativos o decimales se pueden calcular potencias inversas o raíces n-ésimas."
      ]
    },
    {
      "cell_type": "markdown",
      "metadata": {
        "id": "bpcQ-KByQUVY"
      },
      "source": [
        "Si se quiere calcular un valor al cuadrado, por ejemplo $5^2$, entonces..."
      ]
    },
    {
      "cell_type": "code",
      "metadata": {
        "colab": {
          "base_uri": "https://localhost:8080/",
          "height": 34
        },
        "id": "Z1L5x8maQVmA",
        "outputId": "9cde3e03-2734-49e2-a6b2-5b42b60208ce"
      },
      "source": [
        "5 ** 2"
      ],
      "execution_count": null,
      "outputs": [
        {
          "output_type": "display_data",
          "data": {
            "text/plain": [
              "[1] 25"
            ],
            "text/latex": "25",
            "text/markdown": "25",
            "text/html": [
              "25"
            ]
          },
          "metadata": {}
        }
      ]
    },
    {
      "cell_type": "markdown",
      "metadata": {
        "id": "lR92l6g1QXc-"
      },
      "source": [
        "O si se quiere calcular la raiz de un número, por ejemplo $\\sqrt{9}$\n",
        "entonces..."
      ]
    },
    {
      "cell_type": "code",
      "metadata": {
        "colab": {
          "base_uri": "https://localhost:8080/",
          "height": 34
        },
        "id": "4x4mm6JyQYtX",
        "outputId": "dd15fd1a-65fe-48c9-c282-a99a92fe653c"
      },
      "source": [
        "9 ** 0.5"
      ],
      "execution_count": null,
      "outputs": [
        {
          "output_type": "display_data",
          "data": {
            "text/plain": [
              "[1] 3"
            ],
            "text/latex": "3",
            "text/markdown": "3",
            "text/html": [
              "3"
            ]
          },
          "metadata": {}
        }
      ]
    },
    {
      "cell_type": "markdown",
      "metadata": {
        "id": "TJnA_c6EQbtS"
      },
      "source": [
        "## Algunas funciones integradas"
      ]
    },
    {
      "cell_type": "markdown",
      "metadata": {
        "id": "aCWOVIY3QeTE"
      },
      "source": [
        "Aunque no se puede dar una regla válida en todas las situaciones, normalmente es conveniente redondear el resultado de un cálculo cuando se muestra, sobre todo si tiene muchos decimales, para facilitar su lectura.\n",
        "\n",
        "Lo que no se debe hacer nunca es redondear resultados intermedios que se vayan a utilizar en cálculos posteriores, porque el resultado final será diferente."
      ]
    },
    {
      "cell_type": "markdown",
      "metadata": {
        "id": "CRv4v6eKQggX"
      },
      "source": [
        "### Redondear: round()"
      ]
    },
    {
      "cell_type": "markdown",
      "metadata": {
        "id": "ZqTXqYMYQi09"
      },
      "source": [
        "La función integrada round( ) admite uno o dos argumentos numéricos. Cuando tiene dos argumentos numéricos, el segundo argumento indica la posición para evaluar el redondeo."
      ]
    },
    {
      "cell_type": "code",
      "metadata": {
        "colab": {
          "base_uri": "https://localhost:8080/",
          "height": 34
        },
        "id": "OXUS-nDOQk_W",
        "outputId": "3a40e57a-73db-43d7-f37d-97060c343705"
      },
      "source": [
        "round(65.35)"
      ],
      "execution_count": null,
      "outputs": [
        {
          "output_type": "display_data",
          "data": {
            "text/plain": [
              "[1] 65"
            ],
            "text/latex": "65",
            "text/markdown": "65",
            "text/html": [
              "65"
            ]
          },
          "metadata": {}
        }
      ]
    },
    {
      "cell_type": "code",
      "metadata": {
        "colab": {
          "base_uri": "https://localhost:8080/",
          "height": 34
        },
        "id": "nhJic4wGQk31",
        "outputId": "daffafa6-fd0c-4703-e01f-b271b4bb47c4"
      },
      "source": [
        "round(65.78)"
      ],
      "execution_count": null,
      "outputs": [
        {
          "output_type": "display_data",
          "data": {
            "text/plain": [
              "[1] 66"
            ],
            "text/latex": "66",
            "text/markdown": "66",
            "text/html": [
              "66"
            ]
          },
          "metadata": {}
        }
      ]
    },
    {
      "cell_type": "code",
      "metadata": {
        "colab": {
          "base_uri": "https://localhost:8080/",
          "height": 34
        },
        "id": "PRnj5_8PQkwv",
        "outputId": "d477f4c9-2eeb-4a3c-e64f-ac50de870e8f"
      },
      "source": [
        "round(78.18467, 3)"
      ],
      "execution_count": null,
      "outputs": [
        {
          "output_type": "display_data",
          "data": {
            "text/plain": [
              "[1] 78.185"
            ],
            "text/latex": "78.185",
            "text/markdown": "78.185",
            "text/html": [
              "78.185"
            ]
          },
          "metadata": {}
        }
      ]
    },
    {
      "cell_type": "code",
      "metadata": {
        "colab": {
          "base_uri": "https://localhost:8080/",
          "height": 34
        },
        "id": "BIrSPGgHQron",
        "outputId": "c1b372b6-f459-468e-c42a-f3c1ed8194f2"
      },
      "source": [
        "round(78.18467, 2)"
      ],
      "execution_count": null,
      "outputs": [
        {
          "output_type": "display_data",
          "data": {
            "text/plain": [
              "[1] 78.18"
            ],
            "text/latex": "78.18",
            "text/markdown": "78.18",
            "text/html": [
              "78.18"
            ]
          },
          "metadata": {}
        }
      ]
    },
    {
      "cell_type": "markdown",
      "metadata": {
        "id": "KC1siuOqQs8A"
      },
      "source": [
        "### Valor absoluto: abs()"
      ]
    },
    {
      "cell_type": "code",
      "metadata": {
        "colab": {
          "base_uri": "https://localhost:8080/",
          "height": 34
        },
        "id": "6no347qLQvEN",
        "outputId": "0af4bc1b-70f8-4610-d9cf-252ec10f92b1"
      },
      "source": [
        "abs(-1500)"
      ],
      "execution_count": null,
      "outputs": [
        {
          "output_type": "display_data",
          "data": {
            "text/plain": [
              "[1] 1500"
            ],
            "text/latex": "1500",
            "text/markdown": "1500",
            "text/html": [
              "1500"
            ]
          },
          "metadata": {}
        }
      ]
    },
    {
      "cell_type": "code",
      "metadata": {
        "colab": {
          "base_uri": "https://localhost:8080/",
          "height": 34
        },
        "id": "-24CG13CQvB2",
        "outputId": "de2447f8-2c73-4ff4-a7ad-069e1a8056e1"
      },
      "source": [
        "abs(2197)"
      ],
      "execution_count": null,
      "outputs": [
        {
          "output_type": "display_data",
          "data": {
            "text/plain": [
              "[1] 2197"
            ],
            "text/latex": "2197",
            "text/markdown": "2197",
            "text/html": [
              "2197"
            ]
          },
          "metadata": {}
        }
      ]
    },
    {
      "cell_type": "markdown",
      "metadata": {
        "id": "y0EG9hTNQyZq"
      },
      "source": [
        "### Máximo: max()"
      ]
    },
    {
      "cell_type": "markdown",
      "metadata": {
        "id": "AAvyEEh7Q1ox"
      },
      "source": [
        "La función integrada max( ) calcula el valor máximo de un conjunto de valores (numéricos o alfabéticos). En el caso de cadenas, el valor máximo corresponde al último valor en orden alfabético, sin importar la longitud de la cadena."
      ]
    },
    {
      "cell_type": "code",
      "metadata": {
        "colab": {
          "base_uri": "https://localhost:8080/",
          "height": 34
        },
        "id": "bIRjcT9SQu_J",
        "outputId": "4764b0b5-a6ae-4827-d703-392f1dd24cbb"
      },
      "source": [
        "max(c(4, 6, -1, 9, 3.5, -12))"
      ],
      "execution_count": null,
      "outputs": [
        {
          "output_type": "display_data",
          "data": {
            "text/plain": [
              "[1] 9"
            ],
            "text/latex": "9",
            "text/markdown": "9",
            "text/html": [
              "9"
            ]
          },
          "metadata": {}
        }
      ]
    },
    {
      "cell_type": "code",
      "metadata": {
        "colab": {
          "base_uri": "https://localhost:8080/",
          "height": 34
        },
        "id": "Mh_qsTS9Qx98",
        "outputId": "7e78d09e-ae23-4f8f-e504-cffcf800c9c8"
      },
      "source": [
        "max(c(\"Darío\", \"Agostina\", \"Marcelo\", \"Emiliana\", \"Veronica\"))"
      ],
      "execution_count": null,
      "outputs": [
        {
          "output_type": "display_data",
          "data": {
            "text/plain": [
              "[1] \"Veronica\""
            ],
            "text/latex": "'Veronica'",
            "text/markdown": "'Veronica'",
            "text/html": [
              "'Veronica'"
            ]
          },
          "metadata": {}
        }
      ]
    },
    {
      "cell_type": "markdown",
      "metadata": {
        "id": "UockRtQ1RDBk"
      },
      "source": [
        "### Mínimo: min()"
      ]
    },
    {
      "cell_type": "markdown",
      "metadata": {
        "id": "cBFLbDOlRFz1"
      },
      "source": [
        "La función integrada min( ) calcula el valor mínimo de un conjunto de valores (numéricos o alfabéticos). En el caso de cadenas, el valor mínimo corresponde al primer valor en orden alfabético, sin importar la longitud de la cadena."
      ]
    },
    {
      "cell_type": "code",
      "metadata": {
        "colab": {
          "base_uri": "https://localhost:8080/",
          "height": 34
        },
        "id": "McGec7_MQx7F",
        "outputId": "940a8237-96ef-4af1-f1d6-c25413ad620c"
      },
      "source": [
        "min(c(4, 6, -1, 9, 3.5, -12))"
      ],
      "execution_count": null,
      "outputs": [
        {
          "output_type": "display_data",
          "data": {
            "text/plain": [
              "[1] -12"
            ],
            "text/latex": "-12",
            "text/markdown": "-12",
            "text/html": [
              "-12"
            ]
          },
          "metadata": {}
        }
      ]
    },
    {
      "cell_type": "code",
      "metadata": {
        "colab": {
          "base_uri": "https://localhost:8080/",
          "height": 34
        },
        "id": "e4CZ0BIIQx4M",
        "outputId": "909ca5b3-070b-4379-a12e-3d21bc9e8c24"
      },
      "source": [
        "min(c(\"Darío\", \"Agostina\", \"Marcelo\", \"Emiliana\", \"Veronica\"))"
      ],
      "execution_count": null,
      "outputs": [
        {
          "output_type": "display_data",
          "data": {
            "text/plain": [
              "[1] \"Agostina\""
            ],
            "text/latex": "'Agostina'",
            "text/markdown": "'Agostina'",
            "text/html": [
              "'Agostina'"
            ]
          },
          "metadata": {}
        }
      ]
    },
    {
      "cell_type": "markdown",
      "metadata": {
        "id": "Wj5ZhE6yVCHC"
      },
      "source": [
        "### Cantidad de elementos: length()"
      ]
    },
    {
      "cell_type": "code",
      "metadata": {
        "colab": {
          "base_uri": "https://localhost:8080/",
          "height": 34
        },
        "id": "9ZJKX9TyVBto",
        "outputId": "9919459f-86a3-47a0-9e79-8cd149c14b7d"
      },
      "source": [
        "length(c(4, 6, -1, 9, 3.5, -12, 15, 18))"
      ],
      "execution_count": null,
      "outputs": [
        {
          "output_type": "display_data",
          "data": {
            "text/plain": [
              "[1] 8"
            ],
            "text/latex": "8",
            "text/markdown": "8",
            "text/html": [
              "8"
            ]
          },
          "metadata": {}
        }
      ]
    },
    {
      "cell_type": "markdown",
      "metadata": {
        "id": "8PyN8_xAVLYl"
      },
      "source": [
        "### Media: median()"
      ]
    },
    {
      "cell_type": "code",
      "metadata": {
        "colab": {
          "base_uri": "https://localhost:8080/",
          "height": 34
        },
        "id": "dxAaeHmvVQTT",
        "outputId": "87d8c75b-6e7f-466e-afce-0f072f4119b5"
      },
      "source": [
        "median(c(4, 6, -1, 9, 3.5, -12))"
      ],
      "execution_count": null,
      "outputs": [
        {
          "output_type": "display_data",
          "data": {
            "text/plain": [
              "[1] 3.75"
            ],
            "text/latex": "3.75",
            "text/markdown": "3.75",
            "text/html": [
              "3.75"
            ]
          },
          "metadata": {}
        }
      ]
    },
    {
      "cell_type": "markdown",
      "metadata": {
        "id": "rrrFep4IVVew"
      },
      "source": [
        "### Desviación estandar: sd()"
      ]
    },
    {
      "cell_type": "code",
      "metadata": {
        "colab": {
          "base_uri": "https://localhost:8080/",
          "height": 34
        },
        "id": "yVUEwO2pVQRA",
        "outputId": "aa38beaf-3671-41e8-bfa4-018dc01ecb21"
      },
      "source": [
        "round(sd(c(4, 6, -1, 9, 3.5, -12)),3)"
      ],
      "execution_count": null,
      "outputs": [
        {
          "output_type": "display_data",
          "data": {
            "text/plain": [
              "[1] 7.419"
            ],
            "text/latex": "7.419",
            "text/markdown": "7.419",
            "text/html": [
              "7.419"
            ]
          },
          "metadata": {}
        }
      ]
    },
    {
      "cell_type": "markdown",
      "metadata": {
        "id": "9elfYKXmPVPQ"
      },
      "source": [
        "# Creación y asignación de variables"
      ]
    },
    {
      "cell_type": "markdown",
      "metadata": {
        "id": "0leSKVnzRNlJ"
      },
      "source": [
        "El concepto de \"variable\" proviene de las Matemáticas. En Matemáticas, una variable es un símbolo que forma parte de una expresión o de una fórmula.\n",
        "\n",
        "Normalmente las variables se representan mediante letras del alfabeto latino ( $x, y, z, n, i, j,$ etc.). Dependiendo del contexto, las variables significan cosas distintas."
      ]
    },
    {
      "cell_type": "markdown",
      "metadata": {
        "id": "qOjKrA5cRNea"
      },
      "source": [
        "En R las variables son \"etiquetas\" que permiten hacer referencia a los datos (que se guardan en unas \"cajas\" llamadas objetos).\n",
        "\n",
        "R es un lenguaje de programación orientado a objetos y su modelo de datos también está basado en objetos. Para cada dato que aparece en un script, R crea un objeto que lo contiene. \n",
        "\n",
        "**Cada objeto tiene:**\n",
        "\n",
        "- Un identificador único (un número entero, distinto para cada objeto). El identificador permite a R referirse al objeto sin ambigüedades.\n",
        "- Un tipo de datos (entero, decimal, cadena de caracteres, etc.). El tipo de datos permite saber a R qué operaciones pueden hacerse con el dato.\n",
        "- Un valor (el propio dato).\n",
        "\n",
        "Así, las variables en R no guardan los datos, sino que son simples nombres para poder hacer referencia a esos objetos. "
      ]
    },
    {
      "cell_type": "markdown",
      "metadata": {
        "id": "fia66kmdR0B4"
      },
      "source": [
        "**Los nombres de variables no pueden incluir espacios en blanco.**"
      ]
    },
    {
      "cell_type": "markdown",
      "metadata": {
        "id": "trDyeOmBR1fZ"
      },
      "source": [
        "## Variables numéricas"
      ]
    },
    {
      "cell_type": "code",
      "metadata": {
        "colab": {
          "base_uri": "https://localhost:8080/",
          "height": 34
        },
        "id": "fR_ItjOwPgRf",
        "outputId": "4113c2df-c503-4e09-82eb-92f39484e926"
      },
      "source": [
        "num1 <- 2\n",
        "num2 <- 175.5\n",
        "num1 + num2"
      ],
      "execution_count": null,
      "outputs": [
        {
          "output_type": "display_data",
          "data": {
            "text/plain": [
              "[1] 177.5"
            ],
            "text/latex": "177.5",
            "text/markdown": "177.5",
            "text/html": [
              "177.5"
            ]
          },
          "metadata": {}
        }
      ]
    },
    {
      "cell_type": "code",
      "metadata": {
        "colab": {
          "base_uri": "https://localhost:8080/",
          "height": 34
        },
        "id": "-D4s6xaJR8B9",
        "outputId": "aae3c60c-256d-4c32-e677-33ddb0c0726d"
      },
      "source": [
        "num1 * num2"
      ],
      "execution_count": null,
      "outputs": [
        {
          "output_type": "display_data",
          "data": {
            "text/plain": [
              "[1] 351"
            ],
            "text/latex": "351",
            "text/markdown": "351",
            "text/html": [
              "351"
            ]
          },
          "metadata": {}
        }
      ]
    },
    {
      "cell_type": "code",
      "metadata": {
        "colab": {
          "base_uri": "https://localhost:8080/",
          "height": 34
        },
        "id": "b4ol0D1wR85l",
        "outputId": "a5417969-cc02-4132-ef76-6092dd5f84e8"
      },
      "source": [
        "num2 / num1"
      ],
      "execution_count": null,
      "outputs": [
        {
          "output_type": "display_data",
          "data": {
            "text/plain": [
              "[1] 87.75"
            ],
            "text/latex": "87.75",
            "text/markdown": "87.75",
            "text/html": [
              "87.75"
            ]
          },
          "metadata": {}
        }
      ]
    },
    {
      "cell_type": "code",
      "metadata": {
        "colab": {
          "base_uri": "https://localhost:8080/",
          "height": 34
        },
        "id": "ARpGe4fCR9rm",
        "outputId": "240c999e-2585-49f6-f08d-c284c9140804"
      },
      "source": [
        "num2 - num1"
      ],
      "execution_count": null,
      "outputs": [
        {
          "output_type": "display_data",
          "data": {
            "text/plain": [
              "[1] 173.5"
            ],
            "text/latex": "173.5",
            "text/markdown": "173.5",
            "text/html": [
              "173.5"
            ]
          },
          "metadata": {}
        }
      ]
    },
    {
      "cell_type": "code",
      "metadata": {
        "colab": {
          "base_uri": "https://localhost:8080/",
          "height": 34
        },
        "id": "r_14DTFPR-lR",
        "outputId": "e194fb0b-4440-45fb-f49c-a60f9dfee57e"
      },
      "source": [
        "num3 <- num1 + num2\n",
        "num3"
      ],
      "execution_count": null,
      "outputs": [
        {
          "output_type": "display_data",
          "data": {
            "text/plain": [
              "[1] 177.5"
            ],
            "text/latex": "177.5",
            "text/markdown": "177.5",
            "text/html": [
              "177.5"
            ]
          },
          "metadata": {}
        }
      ]
    },
    {
      "cell_type": "markdown",
      "metadata": {
        "id": "xGH3FiMbVvyN"
      },
      "source": [
        "# Permanencia de datos y eliminación de objetos"
      ]
    },
    {
      "cell_type": "markdown",
      "metadata": {
        "id": "h_fKfmmBV5Nx"
      },
      "source": [
        "R crea y manipula objetos. Pueden ser variables, matrices, cadenas de caracteres, funciones o estructuras de datos más generales construidas a partir de dichos componentes."
      ]
    },
    {
      "cell_type": "markdown",
      "metadata": {
        "id": "hyIC6dumV7Le"
      },
      "source": [
        "Para ver los objetos creados en la sesión..."
      ]
    },
    {
      "cell_type": "code",
      "metadata": {
        "id": "N2zCXLUOV8bH"
      },
      "source": [
        "a <- c(1,2,3)"
      ],
      "execution_count": null,
      "outputs": []
    },
    {
      "cell_type": "code",
      "metadata": {
        "colab": {
          "base_uri": "https://localhost:8080/",
          "height": 34
        },
        "id": "VDYT27iaV-sS",
        "outputId": "240c7943-4b1b-407f-b032-8c336febb913"
      },
      "source": [
        "objects()"
      ],
      "execution_count": null,
      "outputs": [
        {
          "output_type": "display_data",
          "data": {
            "text/plain": [
              "[1] \"a\"    \"num1\" \"num2\" \"num3\""
            ],
            "text/latex": "\\begin{enumerate*}\n\\item 'a'\n\\item 'num1'\n\\item 'num2'\n\\item 'num3'\n\\end{enumerate*}\n",
            "text/markdown": "1. 'a'\n2. 'num1'\n3. 'num2'\n4. 'num3'\n\n\n",
            "text/html": [
              "<style>\n",
              ".list-inline {list-style: none; margin:0; padding: 0}\n",
              ".list-inline>li {display: inline-block}\n",
              ".list-inline>li:not(:last-child)::after {content: \"\\00b7\"; padding: 0 .5ex}\n",
              "</style>\n",
              "<ol class=list-inline><li>'a'</li><li>'num1'</li><li>'num2'</li><li>'num3'</li></ol>\n"
            ]
          },
          "metadata": {}
        }
      ]
    },
    {
      "cell_type": "markdown",
      "metadata": {
        "id": "7LbRec_oWDCY"
      },
      "source": [
        "Para eliminar objetos está disponible la función rm(), y entre los parentesis, los objetos a eliminar"
      ]
    },
    {
      "cell_type": "code",
      "metadata": {
        "id": "BQNGNP8YWEfU"
      },
      "source": [
        "rm(a)"
      ],
      "execution_count": null,
      "outputs": []
    },
    {
      "cell_type": "code",
      "metadata": {
        "colab": {
          "base_uri": "https://localhost:8080/",
          "height": 34
        },
        "id": "tmr3SsXRWFs2",
        "outputId": "250428d3-f3b3-493d-ec40-d4b596243f0f"
      },
      "source": [
        "objects()"
      ],
      "execution_count": null,
      "outputs": [
        {
          "output_type": "display_data",
          "data": {
            "text/plain": [
              "[1] \"num1\" \"num2\" \"num3\""
            ],
            "text/latex": "\\begin{enumerate*}\n\\item 'num1'\n\\item 'num2'\n\\item 'num3'\n\\end{enumerate*}\n",
            "text/markdown": "1. 'num1'\n2. 'num2'\n3. 'num3'\n\n\n",
            "text/html": [
              "<style>\n",
              ".list-inline {list-style: none; margin:0; padding: 0}\n",
              ".list-inline>li {display: inline-block}\n",
              ".list-inline>li:not(:last-child)::after {content: \"\\00b7\"; padding: 0 .5ex}\n",
              "</style>\n",
              "<ol class=list-inline><li>'num1'</li><li>'num2'</li><li>'num3'</li></ol>\n"
            ]
          },
          "metadata": {}
        }
      ]
    },
    {
      "cell_type": "markdown",
      "metadata": {
        "id": "5_2AtN-9PYGk"
      },
      "source": [
        "# Tipos de datos"
      ]
    },
    {
      "cell_type": "markdown",
      "metadata": {
        "id": "2x7WJCp4SEuQ"
      },
      "source": [
        "## Vector"
      ]
    },
    {
      "cell_type": "markdown",
      "metadata": {
        "id": "9WxoO4W0TTbP"
      },
      "source": [
        "R opera sobre estructuras de datos. La estructura más simple de este tipo es el vector numérico, que es una entidad única  de una colección ordenada de números. \n",
        "\n",
        "Para crear un vector llamado x, de cinco números, por ejemplo 10.6, 15.6, 35.1, 63.4 y 21.7, se usa el comando combinar..."
      ]
    },
    {
      "cell_type": "code",
      "metadata": {
        "id": "RWRK0Vs8OhI3"
      },
      "source": [
        "x <- c(10.6, 15.6, 35.1, 63.4, 21.7)"
      ],
      "execution_count": null,
      "outputs": []
    },
    {
      "cell_type": "code",
      "metadata": {
        "colab": {
          "base_uri": "https://localhost:8080/",
          "height": 34
        },
        "id": "31x8DmXLTszZ",
        "outputId": "1e2e2df5-1b09-4ae5-fc7d-c6edf873e435"
      },
      "source": [
        "x"
      ],
      "execution_count": null,
      "outputs": [
        {
          "output_type": "display_data",
          "data": {
            "text/plain": [
              "[1] 10.6 15.6 35.1 63.4 21.7"
            ],
            "text/latex": "\\begin{enumerate*}\n\\item 10.6\n\\item 15.6\n\\item 35.1\n\\item 63.4\n\\item 21.7\n\\end{enumerate*}\n",
            "text/markdown": "1. 10.6\n2. 15.6\n3. 35.1\n4. 63.4\n5. 21.7\n\n\n",
            "text/html": [
              "<style>\n",
              ".list-inline {list-style: none; margin:0; padding: 0}\n",
              ".list-inline>li {display: inline-block}\n",
              ".list-inline>li:not(:last-child)::after {content: \"\\00b7\"; padding: 0 .5ex}\n",
              "</style>\n",
              "<ol class=list-inline><li>10.6</li><li>15.6</li><li>35.1</li><li>63.4</li><li>21.7</li></ol>\n"
            ]
          },
          "metadata": {}
        }
      ]
    },
    {
      "cell_type": "markdown",
      "metadata": {
        "id": "78o7L_t1WSge"
      },
      "source": [
        "Esta es una declaración de asignación que usa la función c() que puede tomar un número $n$ de elementos y cuyo valor es un vector obtenido al concatenar sus $n$ elementos de un extremo a otro."
      ]
    },
    {
      "cell_type": "markdown",
      "metadata": {
        "id": "1r5KrG82WUpy"
      },
      "source": [
        "Observe que el operador de asignación $<-$, que consta de dos caracteres $<$ (menor que) y $-$ (menos) apuntan al objeto que recibe el valor de la expresión. "
      ]
    },
    {
      "cell_type": "markdown",
      "metadata": {
        "id": "ypgudVyfWV7Y"
      },
      "source": [
        "En la mayoría de los contextos, el operador $=$ se puede utilizar como alternativa.\n",
        "\n",
        "Otro ejemplo:"
      ]
    },
    {
      "cell_type": "code",
      "metadata": {
        "id": "XVcrSMPQWXiV"
      },
      "source": [
        "y = c(5.4, 12.5, 23.65, 26.89, 54)"
      ],
      "execution_count": null,
      "outputs": []
    },
    {
      "cell_type": "code",
      "metadata": {
        "colab": {
          "base_uri": "https://localhost:8080/",
          "height": 34
        },
        "id": "_rxU9GcTWYun",
        "outputId": "9494b65e-11b1-4dab-fcda-97d92aadc3eb"
      },
      "source": [
        "y"
      ],
      "execution_count": null,
      "outputs": [
        {
          "output_type": "display_data",
          "data": {
            "text/plain": [
              "[1]  5.40 12.50 23.65 26.89 54.00"
            ],
            "text/latex": "\\begin{enumerate*}\n\\item 5.4\n\\item 12.5\n\\item 23.65\n\\item 26.89\n\\item 54\n\\end{enumerate*}\n",
            "text/markdown": "1. 5.4\n2. 12.5\n3. 23.65\n4. 26.89\n5. 54\n\n\n",
            "text/html": [
              "<style>\n",
              ".list-inline {list-style: none; margin:0; padding: 0}\n",
              ".list-inline>li {display: inline-block}\n",
              ".list-inline>li:not(:last-child)::after {content: \"\\00b7\"; padding: 0 .5ex}\n",
              "</style>\n",
              "<ol class=list-inline><li>5.4</li><li>12.5</li><li>23.65</li><li>26.89</li><li>54</li></ol>\n"
            ]
          },
          "metadata": {}
        }
      ]
    },
    {
      "cell_type": "markdown",
      "metadata": {
        "id": "MpkR5y-_Wm6T"
      },
      "source": [
        "### Generando secuencias"
      ]
    },
    {
      "cell_type": "markdown",
      "metadata": {
        "id": "osg4EvhMULwj"
      },
      "source": [
        "R puede generar secuencias de números de uso común. \n",
        "\n",
        "Por ejemplo, $1:30$ es el vector $c (1, 2, ..., 29, 30)$. \n",
        "\n",
        "El operador de dos puntos tiene alta prioridad dentro de una expresión, por lo que, por ejemplo, $2 \\times 1: 15$ es el vector $c (2, 4, ..., 28, 30)$."
      ]
    },
    {
      "cell_type": "code",
      "metadata": {
        "id": "lI48XD5iWaSo"
      },
      "source": [
        "s1 <- 1:30"
      ],
      "execution_count": null,
      "outputs": []
    },
    {
      "cell_type": "code",
      "metadata": {
        "colab": {
          "base_uri": "https://localhost:8080/",
          "height": 34
        },
        "id": "yEfG9BkhWaON",
        "outputId": "33ab3aab-26d3-4c3a-c4b0-73db3715aed2"
      },
      "source": [
        "s1"
      ],
      "execution_count": null,
      "outputs": [
        {
          "output_type": "display_data",
          "data": {
            "text/plain": [
              " [1]  1  2  3  4  5  6  7  8  9 10 11 12 13 14 15 16 17 18 19 20 21 22 23 24 25\n",
              "[26] 26 27 28 29 30"
            ],
            "text/latex": "\\begin{enumerate*}\n\\item 1\n\\item 2\n\\item 3\n\\item 4\n\\item 5\n\\item 6\n\\item 7\n\\item 8\n\\item 9\n\\item 10\n\\item 11\n\\item 12\n\\item 13\n\\item 14\n\\item 15\n\\item 16\n\\item 17\n\\item 18\n\\item 19\n\\item 20\n\\item 21\n\\item 22\n\\item 23\n\\item 24\n\\item 25\n\\item 26\n\\item 27\n\\item 28\n\\item 29\n\\item 30\n\\end{enumerate*}\n",
            "text/markdown": "1. 1\n2. 2\n3. 3\n4. 4\n5. 5\n6. 6\n7. 7\n8. 8\n9. 9\n10. 10\n11. 11\n12. 12\n13. 13\n14. 14\n15. 15\n16. 16\n17. 17\n18. 18\n19. 19\n20. 20\n21. 21\n22. 22\n23. 23\n24. 24\n25. 25\n26. 26\n27. 27\n28. 28\n29. 29\n30. 30\n\n\n",
            "text/html": [
              "<style>\n",
              ".list-inline {list-style: none; margin:0; padding: 0}\n",
              ".list-inline>li {display: inline-block}\n",
              ".list-inline>li:not(:last-child)::after {content: \"\\00b7\"; padding: 0 .5ex}\n",
              "</style>\n",
              "<ol class=list-inline><li>1</li><li>2</li><li>3</li><li>4</li><li>5</li><li>6</li><li>7</li><li>8</li><li>9</li><li>10</li><li>11</li><li>12</li><li>13</li><li>14</li><li>15</li><li>16</li><li>17</li><li>18</li><li>19</li><li>20</li><li>21</li><li>22</li><li>23</li><li>24</li><li>25</li><li>26</li><li>27</li><li>28</li><li>29</li><li>30</li></ol>\n"
            ]
          },
          "metadata": {}
        }
      ]
    },
    {
      "cell_type": "markdown",
      "metadata": {
        "id": "_nrUFP_kW0WH"
      },
      "source": [
        "La función seq() se utiliza para generar secuencias. \n",
        "\n",
        "Tiene cinco argumentos. Los dos primeros argumentos, si se dan, especifican el principio y el final de la secuencia, y si estos son los únicos dos argumentos dados, el resultado es el mismo que el operador de dos puntos. \n",
        "\n",
        "Eso es seq (2,10)es el mismo vector que 2:10"
      ]
    },
    {
      "cell_type": "code",
      "metadata": {
        "colab": {
          "base_uri": "https://localhost:8080/",
          "height": 34
        },
        "id": "v7qK8WiRWaK5",
        "outputId": "56ddb5c6-314f-436d-9d82-ec8aad18a204"
      },
      "source": [
        "s2 = seq(1,30)\n",
        "s2"
      ],
      "execution_count": null,
      "outputs": [
        {
          "output_type": "display_data",
          "data": {
            "text/plain": [
              " [1]  1  2  3  4  5  6  7  8  9 10 11 12 13 14 15 16 17 18 19 20 21 22 23 24 25\n",
              "[26] 26 27 28 29 30"
            ],
            "text/latex": "\\begin{enumerate*}\n\\item 1\n\\item 2\n\\item 3\n\\item 4\n\\item 5\n\\item 6\n\\item 7\n\\item 8\n\\item 9\n\\item 10\n\\item 11\n\\item 12\n\\item 13\n\\item 14\n\\item 15\n\\item 16\n\\item 17\n\\item 18\n\\item 19\n\\item 20\n\\item 21\n\\item 22\n\\item 23\n\\item 24\n\\item 25\n\\item 26\n\\item 27\n\\item 28\n\\item 29\n\\item 30\n\\end{enumerate*}\n",
            "text/markdown": "1. 1\n2. 2\n3. 3\n4. 4\n5. 5\n6. 6\n7. 7\n8. 8\n9. 9\n10. 10\n11. 11\n12. 12\n13. 13\n14. 14\n15. 15\n16. 16\n17. 17\n18. 18\n19. 19\n20. 20\n21. 21\n22. 22\n23. 23\n24. 24\n25. 25\n26. 26\n27. 27\n28. 28\n29. 29\n30. 30\n\n\n",
            "text/html": [
              "<style>\n",
              ".list-inline {list-style: none; margin:0; padding: 0}\n",
              ".list-inline>li {display: inline-block}\n",
              ".list-inline>li:not(:last-child)::after {content: \"\\00b7\"; padding: 0 .5ex}\n",
              "</style>\n",
              "<ol class=list-inline><li>1</li><li>2</li><li>3</li><li>4</li><li>5</li><li>6</li><li>7</li><li>8</li><li>9</li><li>10</li><li>11</li><li>12</li><li>13</li><li>14</li><li>15</li><li>16</li><li>17</li><li>18</li><li>19</li><li>20</li><li>21</li><li>22</li><li>23</li><li>24</li><li>25</li><li>26</li><li>27</li><li>28</li><li>29</li><li>30</li></ol>\n"
            ]
          },
          "metadata": {}
        }
      ]
    },
    {
      "cell_type": "markdown",
      "metadata": {
        "id": "5w9AeFEjW122"
      },
      "source": [
        "Los argumentos o parámetros de la función seq(), también se pueden establecer por su nombre, en cuyo caso el orden en el que aparecen es irrelevante. \n",
        "\n",
        "Los dos primeros argumentos se pueden nombrar desde = valor y hasta = valor; por lo tanto, seq (1,30), seq (from = 1, to = 30) y seq (to = 30, from = 1) son todos iguales a 1:30. \n",
        "\n",
        "Los siguientes dos parámetros de seq() pueden ser nombrados by = value y lenght = value, que especifican un tamaño y la longitud para la secuencia, respectivamente. \n",
        "\n",
        "Si no se da ninguno de estos, se asume el valor predeterminado = 1."
      ]
    },
    {
      "cell_type": "code",
      "metadata": {
        "colab": {
          "base_uri": "https://localhost:8080/",
          "height": 34
        },
        "id": "5Qk7MhVJWaDD",
        "outputId": "827b1b8a-a16f-4cef-81c9-15d7aad7853c"
      },
      "source": [
        "s3 <- seq(-5, 5, by = .5)\n",
        "s3"
      ],
      "execution_count": null,
      "outputs": [
        {
          "output_type": "display_data",
          "data": {
            "text/plain": [
              " [1] -5.0 -4.5 -4.0 -3.5 -3.0 -2.5 -2.0 -1.5 -1.0 -0.5  0.0  0.5  1.0  1.5  2.0\n",
              "[16]  2.5  3.0  3.5  4.0  4.5  5.0"
            ],
            "text/latex": "\\begin{enumerate*}\n\\item -5\n\\item -4.5\n\\item -4\n\\item -3.5\n\\item -3\n\\item -2.5\n\\item -2\n\\item -1.5\n\\item -1\n\\item -0.5\n\\item 0\n\\item 0.5\n\\item 1\n\\item 1.5\n\\item 2\n\\item 2.5\n\\item 3\n\\item 3.5\n\\item 4\n\\item 4.5\n\\item 5\n\\end{enumerate*}\n",
            "text/markdown": "1. -5\n2. -4.5\n3. -4\n4. -3.5\n5. -3\n6. -2.5\n7. -2\n8. -1.5\n9. -1\n10. -0.5\n11. 0\n12. 0.5\n13. 1\n14. 1.5\n15. 2\n16. 2.5\n17. 3\n18. 3.5\n19. 4\n20. 4.5\n21. 5\n\n\n",
            "text/html": [
              "<style>\n",
              ".list-inline {list-style: none; margin:0; padding: 0}\n",
              ".list-inline>li {display: inline-block}\n",
              ".list-inline>li:not(:last-child)::after {content: \"\\00b7\"; padding: 0 .5ex}\n",
              "</style>\n",
              "<ol class=list-inline><li>-5</li><li>-4.5</li><li>-4</li><li>-3.5</li><li>-3</li><li>-2.5</li><li>-2</li><li>-1.5</li><li>-1</li><li>-0.5</li><li>0</li><li>0.5</li><li>1</li><li>1.5</li><li>2</li><li>2.5</li><li>3</li><li>3.5</li><li>4</li><li>4.5</li><li>5</li></ol>\n"
            ]
          },
          "metadata": {}
        }
      ]
    },
    {
      "cell_type": "markdown",
      "metadata": {
        "id": "ED6esunCPdmp"
      },
      "source": [
        "![UNI](https://posgrado.uni.edu.ni/wp-content/uploads/2017/02/logo_opt-2.png)"
      ]
    }
  ]
}